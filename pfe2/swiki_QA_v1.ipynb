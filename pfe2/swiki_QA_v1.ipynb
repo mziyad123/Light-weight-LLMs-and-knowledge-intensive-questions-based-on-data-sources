{
 "cells": [
  {
   "cell_type": "code",
   "execution_count": 1,
   "metadata": {},
   "outputs": [],
   "source": [
    "from datasets import load_dataset\n",
    "\n",
    "data=load_dataset(\"wikipedia\", \"20220301.simple\")"
   ]
  },
  {
   "cell_type": "code",
   "execution_count": 4,
   "metadata": {},
   "outputs": [
    {
     "data": {
      "application/vnd.jupyter.widget-view+json": {
       "model_id": "d48724eb80974fac8dc6641c472d9112",
       "version_major": 2,
       "version_minor": 0
      },
      "text/plain": [
       "Creating CSV from Arrow format:   0%|          | 0/206 [00:00<?, ?ba/s]"
      ]
     },
     "metadata": {},
     "output_type": "display_data"
    },
    {
     "data": {
      "text/plain": [
       "233625161"
      ]
     },
     "execution_count": 4,
     "metadata": {},
     "output_type": "execute_result"
    }
   ],
   "source": [
    "data['train'].to_csv('wikisimpletrain.csv')"
   ]
  },
  {
   "cell_type": "code",
   "execution_count": 5,
   "metadata": {},
   "outputs": [
    {
     "data": {
      "text/plain": [
       "['April is the fourth month of the year in the Julian and Gregorian calendars, and comes between March and May. It is one of four months to have 30 days.\\n\\nApril always begins on the same day of week as July, and additionally, January in leap years. April always ends on the same day of the week as December.\\n\\nApril\\'s flowers are the Sweet Pea and Daisy. Its birthstone is the diamond. The meaning of the diamond is innocence.\\n\\nThe Month \\n\\nApril comes between March and May, making it the fourth month of the year. It also comes first in the year out of the four months that have 30 days, as June, September and November are later in the year.\\n\\nApril begins on the same day of the week as July every year and on the same day of the week as January in leap years. April ends on the same day of the week as December every year, as each other\\'s last days are exactly 35 weeks (245 days) apart.\\n\\nIn common years, April starts on the same day of the week as October of the previous year, and in leap years, May of the previous year. In common years, April finishes on the same day of the week as July of the previous year, and in leap years, February and October of the previous year. In common years immediately after other common years, April starts on the same day of the week as January of the previous year, and in leap years and years immediately after that, April finishes on the same day of the week as January of the previous year.\\n\\nIn years immediately before common years, April starts on the same day of the week as September and December of the following year, and in years immediately before leap years, June of the following year. In years immediately before common years, April finishes on the same day of the week as September of the following year, and in years immediately before leap years, March and June of the following year.\\n\\nApril is a spring month in the Northern Hemisphere and an autumn/fall month in the Southern Hemisphere. In each hemisphere, it is the seasonal equivalent of October in the other.\\n\\nIt is unclear as to where April got its name. A common theory is that it comes from the Latin word \"aperire\", meaning \"to open\", referring to flowers opening in spring. Another theory is that the name could come from Aphrodite, the Greek goddess of love. It was originally the second month in the old Roman Calendar, before the start of the new year was put to January 1.\\n\\nQuite a few festivals are held in this month. In many Southeast Asian cultures, new year is celebrated in this month (including Songkran). In Western Christianity, Easter can be celebrated on a Sunday between March 22 and April 25. In Orthodox Christianity, it can fall between April 4 and May 8. At the end of the month, Central and Northern European cultures celebrate Walpurgis Night on April 30, marking the transition from winter into summer.\\n\\nApril in poetry \\nPoets use April to mean the end of winter. For example: April showers bring May flowers.\\n\\nEvents in April\\n\\nFixed Events \\n\\n April 1 - April Fools\\' Day\\n April 1 - Islamic Republic Day (Iran)\\n April 2 - International Children\\'s Book Day\\n April 2 - Thai Heritage and Conservation Day\\n April 2 - World Autism Awareness Day\\n April 2 - Malvinas Day (Argentina)\\n April 4 - Independence Day (Senegal)\\n April 4 - International Day for Landmine Awareness and Assistance\\n April 4 - Peace Day (Angola)\\n April 5 - End of Tax Year (United Kingdom)\\n April 6 - Tartan Day (Canada and United States)\\n April 6 - Chakri Day (Thailand)\\n April 7 - Day of Maternity and Beauty (Armenia)\\n April 7 - Genocide Memorial Day (Rwanda)\\n April 7 - World Health Day\\n April 7 - Women\\'s Day (Mozambique)\\n April 8 - Buddha\\'s Birthday (Buddhism)\\n April 9 - Martyrs\\' Day (Tunisia)\\n April 9 - Day of National Unity (Georgia)\\n April 9 - Day of the Finnish language\\n April 12 - Cosmonauts\\' Day (Russia), marking the day of Yuri Gagarin\\'s space flight\\n April 13 - Songkan (Laos), local New Year celebration\\n April 13 - Cambodian New Year\\n April 13 - Thomas Jefferson\\'s Birthday (United States)\\n April 14 - Southeast Asian New Year festivals, including Songkran\\n April 14 - Georgian language Day\\n April 14 - Youth Day (Angola)\\n April 14 - Ambedkar Tayanti (India)\\n April 14 - Pan-American Day\\n April 15 - Tax Day (United States)\\n April 15 - Kim Il-Sung\\'s Birthday (North Korea)\\n April 15 - Father Damien Day (Hawaii)\\n April 15 - Jackie Robinson Day (Major League Baseball)\\n April 16 - Birthday of Queen Margrethe II of Denmark\\n April 16 - Emancipation Day (Washington, DC)\\n April 16 - World Voice Day\\n April 16 - Selena Day (Texas)\\n April 17 - National Day of Syria\\n April 17 - Flag Day (American Samoa)\\n April 17 - Women\\'s Day (Gabon)\\n April 17 - World Hemophilia Day\\n April 18 - Independence Day (Zimbabwe)\\n April 18 - Invention Day (Japan)\\n April 18 - International Day of Monuments and Sites\\n April 19 - Bicycle Day\\n April 19 - Dutch-American Friendship Day\\n April 19 - Birthday of King Mswati III of Swaziland\\n April 19 - Patriots\\' Day (Massachusetts, Maine, Wisconsin)\\n April 20 - 4/20 in Cannabis Culture\\n April 21 - John Muir Day (California)\\n April 21 - San Jacinto Day (Texas)\\n April 21 - Kartini Day (Indonesia)\\n April 21 - National Tree Planting Day (Kenya)\\n April 21 - First Day of Ridran (Baha\\'i faith)\\n April 21 - Grounation Day (Rastafari movement)\\n April 22 - Earth Day\\n April 22 - Discovery Day (Brazil)\\n April 23 - Saint George\\'s Day, celebrating the patron saint of several countries, regions and cities (including England and Catalonia)\\n April 23 - World Book Day\\n April 23 - National Sovereignty and Children\\'s Day (Turkey)\\n April 24 - Democracy Day (Nepal)\\n April 24 - Genocide Day (Armenia)\\n April 24 - Republic Day (the Gambia)\\n April 25 - Australia and New Zealand celebrate ANZAC Day. ANZAC  means Australian and New Zealand Army Corps, and began in 1915.\\n April 25 - World DNA Day\\n April 25 - World Malaria Day\\n April 25 - Flag Day (Swaziland, Faroe Islands)\\n April 25 - Freedom Day (Portugal)\\n April 25 - Liberation Day (Italy)\\n April 25 - Army Day (North Korea)\\n April 26 - Union Day (Tanzania)\\n April 26 - Confederate Memorial Day (Texas, Florida)\\n April 27 - Independence Day (Sierra Leone and Togo)\\n April 27 - Freedom Day (South Africa)\\n April 27 - World Tapir Day\\n April 27 - King\\'s Day (Netherlands) from 2014, birthday of Willem-Alexander of the Netherlands\\n April 28 - Workers Memorial Day\\n April 28 - National Day (Sardinia)\\n April 28 - National Heroes Day (Barbados)\\n April 29 - Showa Day (Japan), birthday of Emperor Hirohito, who died in 1989\\n April 29 - International Dance Day\\n April 30 - Former Queen\\'s Day Holiday in the Netherlands (changed to King\\'s Day, April 27 in 2014), was the birthday of former Queen Juliana of the Netherlands\\n April 30 - Flag Day in Sweden (birthday of King Carl XVI Gustaf of Sweden)\\n April 30 - International Jazz Day\\n April 30 - Walpurgis Night (Central and Northern Europe)\\n\\nMoveable Events \\n\\n Easter-related events in Western Christianity:\\n Palm Sunday (between March 15 and April 18)\\n Maundy Thursday (between March 19 and April 22)\\n Good Friday (between March 20 and April 23)\\n Easter Sunday (between March 22 and April 25)\\n Easter Monday (between March 23 and April 26)\\n Eastern Orthodox Easter falls between April 4 and May 8.\\n Ascension Day (Western Christianity), falls between April 30 and June 3.\\n Jewish Passover - falls in the same week as Western Christianity\\'s Holy Week, which is the week leading up to Easter.\\n Mother\\'s Day (UK) falls between March 1 and April 4.\\n World Snooker Championship (late April, early May)\\n Horse racing - Grand National (UK), Kentucky Derby (United States)\\n Start of Daylight Saving Time - Clocks going forward one hour:\\n Most of Mexico\\n Morocco (Ramadan does not include Daylight Saving Time)\\n End of Daylight Saving Time - Clocks going back one hour:\\n Southeast Australia, and New Zealand\\n Chile\\n Marathon Events in the following cities:\\n Belgrade, Serbia\\n Boston, Massachusetts, United States\\n Brighton, United Kingdom\\n Enschede, Netherlands\\n London, United Kingdom\\n Madrid, Spain\\n Paris, France\\n Rotterdam, Netherlands\\n Utrecht, Netherlands\\n Zurich, Switzerland\\n\\nSelection of Historical Events \\n\\n April 1, 1918 - The Royal Air Force is founded.\\n April 1, 1976 - Apple Inc. is founded.\\n April 1, 1979 - The Islamic Republic of Iran is founded.\\n April 1, 1999 - The territory of Nunavut is created in Northern Canada.\\n April 1, 2001 - The Netherlands introduces same-sex marriage, as the first country to do so.\\n April 2, 1519 - Florida is sighted by a European for the first time.\\n April 2, 1930 - Haile Selassie becomes Emperor of Ethiopia.\\n April 2, 1982 - Start of the Falklands War, as Argentine forces land on the Falkland Islands.\\n April 2, 2005 - Pope John Paul II dies aged 84, after 26-and-a-half years as Pope.\\n April 3, 1973 - The first-ever mobile phone call is placed by Martin Cooper in New York City.\\n April 4, 1721 - Robert Walpole becomes the first Prime Minister of Great Britain.\\n April 4, 1841 - William Henry Harrison dies. He was President of the United States for 31 days, the shortest-ever time in office for a US President.\\n April 4, 1960 - Senegal becomes independent.\\n April 4, 1968 - Assassination of Martin Luther King, Jr. in Memphis, Tennessee.\\n April 5, 1722 - Jacob Roggeveen becomes the first European to land on Easter Island, landing there on Easter Sunday.\\n April 6, 1320 - Scotland\\'s independence is confirmed with the Declaration of Arbroath.\\n April 6, 1830 - The Mormon Church is founded.\\n April 6, 1909 - Robert Peary claims to have been first at the North Pole on this date.\\n April 7, 1994 - The Rwandan Genocide begins.\\n April 9, 1865 - American Civil War: Confederate forces under Robert E. Lee surrender to Union forces.\\n April 9, 1940 - World War II: Denmark and Norway are invaded by Nazi Germany.\\n April 9, 1989 - April 9 tragedy: In Tbilisi, Georgia, a peaceful demonstration for independence is broken up by the Soviet Army, killing 20 people. The country gains independence on this date exactly two years later.\\n April 10, 1815 - Mount Tambora in Indonesia erupts in a huge eruption, affecting the world\\'s climate for at least a year.\\n April 10, 2010 - A plane crash near Smolensk, Russia, kills several people who were important in Poland, including President Lech Kaczynski.\\n April 11, 1814 - Napoleon Bonaparte is exiled to the island of Elba.\\n April 11, 1954 - Said to have been the most boring day of the 20th century.\\n April 12, 1861 - The American Civil War begins at Fort Sumter, Charleston, South Carolina.\\n April 12, 1945 - US President Franklin D. Roosevelt dies, and Harry S. Truman replaces him.\\n April 12, 1961 - Yuri Gagarin becomes the first human to fly into space.\\n April 14, 1865 - US President Abraham Lincoln is shot dead at Ford\\'s Theatre by John Wilkes Booth. Lincoln dies the next day.\\n April 14, 2010 - Qinghai Province, China, is hit by an earthquake, killing tens of thousands of people.\\n April 14, 2010 - The eruption of Eyjafjallajokull in Iceland shuts down air traffic around Europe for a week, due to its ash cloud.\\n April 15, 1912 - The ship RMS Titanic sinks near Newfoundland after hitting an iceberg, resulting in the deaths of many of the people on board.\\n April 16, 1943 - Albert Hofmann discovers LSD\\'s effects.\\n April 17, 1946 - Syria gains full independence from France.\\n April 18, 1906 - 1906 San Francisco earthquake: San Francisco, California, is hit by a big earthquake, resulting in fires that destroy large parts of the city.\\n April 18, 1980 - Zimbabwe gains full independence.\\n April 19, 1897 - The first Boston Marathon is held.\\n April 19, 1971 - Sierra Leone becomes a republic.\\n April 19, 1993 - The siege of the Branch Davidians at Waco, Texas, ends in a fire that kills 82 people.\\n April 19, 1995 - Timothy McVeigh carries out the Oklahoma City bombing, killing 169 people.\\n April 19, 2005 - Joseph Alois Ratzinger becomes Pope Benedict XVI.\\n April 20, 1902 - Marie Curie and Pierre Curie refine Radium.\\n April 20, 2010 - Deepwater Horizon oil spill: A massive fire on the Deepwater Horizon drilling rig in the Gulf of Mexico kills 11 workers and causes a massive oil spill, the worst spill in US history.\\n April 21, 753 BC - Legendary founding date of Rome\\n April 21, 1509 - Henry VIII of England becomes King.\\n April 21, 1908 - Frederick Cook claims to have reached the North Pole on this date.\\n April 22, 1502 - Pedro Alvares Cabral becomes the first European to reach present-day Brazil.\\n April 22, 1970 - Earth Day is observed for the first time.\\n April 23, 1533 - The Church of England declares that Henry VIII of England and Catherine of Aragon are not married.\\n April 24, 1916 - The Easter Rising occurs in Dublin, Ireland.\\n April 24, 1990 - The Hubble Space Telescope is launched on the Space Shuttle Discovery.\\n April 25, 1915 - World War I: In Turkey, the Battle of Gallipoli begins, Australian, French, British and New Zealand forces land at Anzac cove.\\n April 25, 1974 - Portugal\\'s dictatorship is overthrown in a coup, in what is known as the Carnation Revolution.\\n April 26, 1937 - Spanish Civil War: German planes bomb the town of Guernica, Basque Country, later depicted in a painting by Pablo Picasso.\\n April 26, 1964 - Tanganyika and Zanzibar merge to form Tanzania.\\n April 26, 1986 - A reactor explosion occurs at the Chernobyl nuclear plant in present-day Ukraine, with radiation spreading around Europe and the world.\\n April 26/27, 1994 - South Africa holds its first free elections.\\n April 27, 1960 - Togo becomes independent from France.\\n April 27, 1961 - Sierra Leone becomes independent from the United Kingdom.\\n April 28, 1789 - Mutiny on the ship Bounty in the Pacific Ocean, lead by Fletcher Christian.\\n April 28, 1945 - Benito Mussolini is executed by Italian partisans.\\n April 28, 1947 - In Peru, Thor Heyerdahl starts his Kon-Tiki expedition aimed at proving his theory that the Polynesian settlers on the Pacific Ocean\\'s islands came from South America.\\n April 29, 1991 - A cyclone in Bangladesh kills an estimated 138,000 people.\\n April 29, 2011 - The wedding of Prince William, Duke of Cambridge and Catherine, Duchess of Cambridge is broadcast worldwide.\\n April 30, 1789 - George Washington becomes the first President of the United States.\\n April 30, 1803 - The United States purchases (buys) the Louisiana territory from France.\\n April 30, 1945 - Adolf Hitler commits suicide on the same day that the Soviet Army raises the Red Flag on Berlin\\'s Reichstag.\\n April 30, 1952 - The Diary of Anne Frank is published in English.\\n April 30, 1975 - The Vietnam War ends, as North Vietnamese forces take Saigon.\\n April 30, 1980 - Queen Juliana of the Netherlands abdicates the throne, and her daughter becomes Queen Beatrix of the Netherlands. Beatrix later also abdicates, on this day in 2013, in favor of her son, King Willem-Alexander of the Netherlands.\\n\\nTrivia \\n\\n In Western Christianity, there is a bigger likelihood of Easter falling in April than in March.\\n The months around April (March and May) both start with an \\'M\\' in the English language, with an \\'A\\' as the second letter.\\n In the English language, April is the first of three months in-a-row, along with May and June, that is also a female given name.\\n The astrological signs for April are Aries (March 21 to April 20) and Taurus (April 21 to May 20).\\n The sweet pea and daisy are the traditional birth flowers for April.\\n Birthstone for April is the Diamond.\\nApril 1 is the only day in April to start within the first quarter of the calendar year.\\n If the months of the year were arranged in alphabetical order in the English language, April would come first.\\n Six current European monarchs were born in April. They are King Philippe of Belgium (April 15), Queen Margrethe II of Denmark (April 16), Henri, Grand Duke of Luxembourg (April 16), Elizabeth II of the United Kingdom and Commonwealth realms (April 21), King Willem-Alexander of the Netherlands (April 27), and King Carl XVI Gustaf of Sweden (April 30).\\n\\nReferences',\n",
       " 'August (Aug.) is the eighth month of the year in the Gregorian calendar, coming between July and September. It has 31 days. It is named after the Roman emperor Augustus Caesar.\\n\\nAugust does not begin on the same day of the week as any other month in common years, but begins on the same day of the week as February in leap years. August always ends on the same day of the week as November.\\n\\nThe Month \\n\\nThis month was first called Sextilis in Latin, because it was the sixth month in the old Roman calendar. The Roman calendar began in March about 735\\xa0BC with Romulus. October was the eighth month. August was the eighth month when January or February were added to the start of the year by King Numa Pompilius about 700\\xa0BC. Or, when those two months were moved from the end to the beginning of the year by the decemvirs about 450\\xa0BC (Roman writers disagree). In 153 BC January 1 was determined as the beginning of the year.\\n\\nAugust is named for Augustus Caesar who became Roman consul in this month. The month has 31 days because Julius Caesar added two days when he created the Julian calendar in 45 BC. August is after July and before September.\\n\\nAugust, in either hemisphere, is the seasonal equivalent of February in the other. In the Northern hemisphere it is a summer month and it is a winter month in the Southern hemisphere.\\n\\nNo other month in common years begins on the same day of the week as August, but August begins on the same day of the week as February in leap years. August ends on the same day of the week as November every year, as each other\\'s last days are 13 weeks (91 days) apart.\\n\\nIn common years, August starts on the same day of the week as March and November of the previous year, and in leap years, June of the previous year. In common years, August finishes on the same day of the week as March and June of the previous year, and in leap years, September of the previous year. In common years immediately after other common years, August starts on the same day of the week as February of the previous year.\\n\\nIn years immediately before common years, August starts on the same day of the week as May of the following year, and in years immediately before leap years, October of the following year. In years immediately before common years, August finishes on the same day of the week as May of the following year, and in years immediately before leap years, February and October of the following year.\\n\\nAugust observances\\n\\nFixed observances and events \\n\\n August 1  National Day of Switzerland\\n August 1  Independence Day (Benin)\\n August 1  Emancipation Day (Bermuda, Guyana, Jamaica, Barbados, Trinidad and Tobago)\\n August 1  Army Day (People\\'s Republic of China)\\n August 1  Lammas, cross-quarter day in the Celtic calendar\\n August 1  Statehood Day (Colorado)\\n August 2  Republic Day (Republic of Macedonia)\\n August 2  Emancipation Day (Bahamas)\\n August 3  Independence Day (Niger)\\n August 5  Independence Day (Burkina Faso)\\n August 5  Victory Day (Croatia)\\n August 6  Independence Day (Bolivia)\\n August 6  Independence Day (Jamaica)\\n August 7  Independence Day (Ivory Coast)\\n August 8  Father\\'s Day (Taiwan)\\n August 9  National Day of Singapore\\n August 9  Day of the Indigenous People (Suriname)\\n August 9  National Women\\'s Day (South Africa)\\n August 10  Independence Day (Ecuador)\\n August 10  Missouri Day\\n August 11  Independence Day (Chad)\\n August 12  Perseid Meteor Shower\\n August 12  Queen Sirikit\\'s Birthday (Thailand)\\n August 13  Independence Day (Central African Republic)\\n August 14  Independence Day (Pakistan)\\n August 15  Assumption of Mary in Western Christianity\\n August 15  Independence Day (India)\\n August 15  Independence Day (Republic of the Congo)\\n August 15  Independence Day (Bahrain)\\n August 15  National Day of South Korea\\n August 15  National Day of Liechtenstein\\n August 15  Victory in Japan Day\\n August 17  Independence Day (Indonesia)\\n August 17  Independence Day (Gabon)\\n August 19  World Humanitarian Day\\n August 19  Independence Day (Afghanistan)\\n August 20  Feast day of Stephen I of Hungary\\n August 20  Regaining of Independence (Estonia)\\n August 21  Admission Day (Hawaii)\\n August 21  Ninoy Aquino Day (Philippines)\\n August 21  Saint Helena Day\\n August 23  National Heroes Day (Philippines)\\n August 24  Independence Day (Ukraine)\\n August 25  Independence Day (Uruguay)\\n August 26  Heroes\\' Day (Namibia)\\n August 27  Independence Day (Moldova)\\n August 28  Assumption of Mary (Eastern Christianity)\\n August 29  National Uprising Day (Slovakia)\\n August 30  Constitution Day (Kazakhstan)\\n August 30  Republic Day (Tatarstan)\\n August 30  Victory Day (Turkey)\\n August 31  Independence Day (Kyrgyzstan)\\n August 31  Independence Day (Malaysia)\\n August 31  Independence Day (Trinidad and Tobago)\\n\\nMoveable and Monthlong events \\n\\n Edinburgh Festival, including the Military Tattoo at Edinburgh Castle, takes place through most of August and beginning of September.\\n UK Bank Holidays: First Monday in Scotland, last Monday in England and Wales\\n National Eisteddfod, cultural celebration in Wales: First week in August\\n Children\\'s Day in Uruguay: Second Sunday in August\\n Monday after August 17: Holiday in Argentina, commemorating José de San Martin\\n Discovery Day in Canada: third Monday in August\\n Summer Olympics, often held in July and/or August\\n\\nSelection of Historical Events \\n\\n August 1  1291: Traditional founding date of Switzerland.\\n August 1  1914: World War I begins.\\n August 1  1944: Anne Frank makes the last entry in her diary.\\n August 1  1960: Dahomey (now called Benin) becomes independent.\\n August 2  1990: Iraq invades Kuwait.\\n August 3  1492: Christopher Columbus sets sail on his first voyage.\\n August 3  1960: Niger becomes independent.\\n August 4  1944: Anne Frank and her family are captured by the Gestapo in Amsterdam.\\n August 4  1984: Upper Volta\\'s name is changed to Burkina Faso.\\n August 5  1960: Upper Volta becomes independent.\\n August 5  1962: Film actress Marilyn Monroe is found dead at her home.\\n August 6  1825: Bolivian independence.\\n August 6  1945: The Atomic Bomb is dropped on Hiroshima.\\n August 6  1962: Jamaica becomes independent.\\n August 7  1960: Ivory Coast becomes independent.\\n August 9  1945: The Atomic Bomb is dropped on Nagasaki.\\n August 9  1965: Singapore becomes independent.\\n August 9  1974: US President Richard Nixon resigns following the Watergate scandal, with Gerald Ford replacing him.\\n August 10  1792: Storming of the Tuileries Palace during the French Revolution\\n August 10  1809: Beginning of Ecuadorean independence movement.\\n August 11  1960: Chad becomes independent.\\n August 13  1960: The Central African Republic becomes independent.\\n August 13  1961: Building of the Berlin Wall begins.\\n August 14  1945: Japan announces its surrender at the end of World War II.\\n August 14/15  1947: India is partitioned at independence from the UK, as the new mainly Islamic state of Pakistan is created.\\n August 15  1960: The Republic of the Congo becomes independent.\\n August 15  1971: Bahrain becomes independent.\\n August 16  1977: Elvis Presley dies aged 42, leading to a worldwide outpouring of grief.\\n August 17  1945: Indonesia declares independence from the Netherlands.\\n August 17  1960: Gabon becomes independent.\\n August 17  1962: Peter Fechter becomes the first person to be shot dead at the Berlin Wall.\\n August 19  43 BC: Augustus becomes Roman consul.\\n August 19  14: Augustus dies.\\n August 19  1919: Afghanistan becomes independent.\\n August 19  1991: The August Coup against Mikhail Gorbachev, in the Soviet Union, begins.\\n August 20  1940: Leon Trotsky is fatally wounded with an ice pick in Mexico.\\n August 20  1968: The Prague Spring uprising is crushed.\\n August 20  1991: Estonia regains its independence from the Soviet Union.\\n August 21  1959: Hawaii becomes the 50th State of the US.\\n August 24  79: Vesuvius erupts, destroying Pompeii and neighbouring Herculaneum.\\n August 24  1991: Ukraine regains independence from the Soviet Union.\\n August 25  1825: Uruguay declares independence from Brazil.\\n August 27  1883: Krakatoa, in the Sunda Strait between Sumatra and Java, explodes, after a very violent eruption.\\n August 27  1991: Moldova becomes independent from the Soviet Union.\\n August 28  1963: The March on Washington for Jobs and Freedom takes place, where Martin Luther King, Jr. makes his \"I Have a Dream\" speech for Civil Rights in the United States.\\n August 29  2005: Hurricane Katrina wreaks devastation in Alabama, Mississippi and Louisiana. New Orleans is flooded.\\n August 31  1957: Malaysia, then the Federation of Malaya, becomes independent.\\n August 31  1962: Trinidad and Tobago becomes independent.\\n August 31  1991: Kyrgyzstan becomes independent.\\n August 31  1997: Diana, Princess of Wales is killed in a car crash in Paris, leading to a big outpouring of grief.\\n\\nTrivia \\n Along with July, August is one of two calendar months to be named after people who really lived (July was named for Julius Caesar and August was named for Augustus).\\n Only one US President has died in August, Warren G. Harding, on August 2, 1923.\\n August\\'s flower is the Gladiolus with the birthstone being peridot.\\n The astrological signs for August are Leo (July 22 - August 21) and Virgo (August 22 - September 21).\\nAugust is the second of two months beginning with \\'A\\', the other being April, with both April 21 and August 21 falling either side of the Northern summer solstice.\\n\\nReferences',\n",
       " 'Art is a creative activity that expresses imaginative or technical skill. It produces a product, an object. Art is a diverse range of human activities in creating visual, performing artifacts, and expressing the author\\'s imaginative mind. The product of art is called a work of art, for others to experience.\\n\\nSome art is useful in a practical sense, such as a sculptured clay bowl that can be used. That kind of art is sometimes called a craft.\\n\\nThose who make art are called artists. They hope to affect the emotions of people who experience it. Some people find art relaxing, exciting or informative. Some say people are driven to make art due to their inner creativity.\\n\\n\"The arts\" is a much broader term. It includes drawing, painting, sculpting, photography, performance art, dance, music, poetry, prose and theatre.\\n\\nTypes of art \\n\\nArt is divided into the plastic arts, where something is made, and the performing arts, where something is done by humans in action. The other division is between pure arts, done for themselves, and practical arts, done for a practical purpose, but with artistic content.\\n\\n Plastic art\\n Fine art is expression by making something beautiful or appealing to the emotions by visual means: drawing, painting, printmaking, sculpture\\n Literature: poetry, creative writing\\n Performing art\\n Performing art including drama are (expression using the body: dance, acting, singing)\\n Auditory art (expression by making sounds): music, singing\\n Practical art\\n Culinary art (expression by making flavors and tastes): cooking\\n The practical arts (expression by making things and structures: architecture, filming, fashion, photography, video games)\\n\\nWhat \"art\" means \\nSome people say that art is a product or item that is made with the intention of stimulating the human senses as well as the human mind, spirit and soul.  An artwork is normally judged by how much impact it has on people, the number of people who can relate to it, and how much they appreciate it. Some people also get inspired.\\n\\nThe first and broadest sense of \"art\" means \"arrangement\" or \"to arrange.\" In this sense, art is created when someone arranges things found in the world into a new or different design or form; or when someone arranges colors next to each other in a painting to make an image or just to make a pretty or interesting design.\\n\\nArt may express emotion.  Artists may feel a certain emotion and wish to express it by creating something that means something to them.  Most of the art created in this case is made for the artist rather than an audience.  However, if an audience is able to connect with the emotion as well, then the art work may become publicly successful.\\n\\nHistory of art \\nThere are sculptures, cave painting and rock art dating from the Upper Paleolithic era.\\n\\nAll of the great ancient civilizations, such as Ancient Egypt, India, China, Greece, Rome and Persia had works and styles of art. In the Middle Ages, most of the art in Europe showed people from the Bible in paintings, stained glass windows, and mosaic tile floors and walls.\\n\\nIslamic art includes geometric patterns, Islamic calligraphy, and architecture. In India and Tibet, painted sculptures, dance, and religious painting were done. In China, arts included jade carving, bronze, pottery, poetry, calligraphy, music, painting, drama, and fiction. There are many Chinese artistic styles, which are usually named after the ruling dynasty.\\n\\nIn Europe, after the Middle Ages, there was a \"Renaissance\" which means \"rebirth\". People rediscovered science and artists were allowed to paint subjects other than religious subjects. People like Michelangelo and Leonardo da Vinci still painted religious pictures, but they also now could paint mythological pictures too. These artists also invented perspective where things in the distance look smaller in the picture. This was new because in the Middle Ages people would paint all the figures close up and just overlapping each other. These artists used nudity regularly in their art.\\n\\nIn the late 1800s, artists in Europe, responding to Modernity created many new painting styles such as Classicism, Romanticism, Realism, and Impressionism. The history of twentieth century art includes Expressionism, Fauvism, Cubism, Dadaism, Surrealism, and Minimalism.\\n\\nRoles of art \\nIn some societies, people think that art belongs to the person who made it. They think that the artist put his or her \"talent\" and industry into the art. In this view, the art is the property of the artist, protected by copyright.\\n\\nIn other societies, people think that art belongs to no one. They think that society has put its social capital into the artist and the artist\\'s work. In this view, society is a collective that has made the art, through the artist.\\n\\nFunctions of art \\nThe functions of art include:\\n\\n1) Cognitive function\\n\\n Works of art let us know about what the author knew, and about what the surrounding of the author were like.\\n\\n2) Aesthetic function\\n\\n Works of art can make people happy by being beautiful.\\n\\n3) Prognostic function\\n\\n Some artists draw what they see the future like, and some of them are right, but most are not...\\n\\n4) Recreation function\\n\\n Art makes us think about it, not about reality; we have a rest.\\n\\n5) Value function\\n\\n What did the artist value? What aims did they like/dislike in human activity? This usually is clearly seen in artists\\' works.\\n\\n6) Didactic function\\n\\n What message, criticism or political change did the artist wish to achieve?\\n\\nRelated pages \\n Modern art\\n Abstract art\\n Magnum opus\\n Painting\\n Sculpture\\n Street art\\n\\nReferences \\n\\n \\nNon-verbal communication\\nBasic English 850 words',\n",
       " 'A or a is the first letter of the English alphabet. The small letter, a or α, is used as a lower case vowel. \\n\\nWhen it is spoken,  ā is said as a long a, a diphthong of ĕ and y. A is similar to  alpha of the Greek alphabet. That is not surprising, because it stands for the same sound. \\n\\n\"Alpha and omega\" (the last letter of the Greek alphabet) means from beginning to the end. In musical notation, the letter A is the symbol of a note in the scale, below B and above G. In binary numbers, the letter A is 01000001.\\n\\nA is the letter that was used to represent a team in an old TV show, The A-Team. A capital a is written \"A\". Use a capital a at the start of a sentence if writing.\\n\\nWhere it came from\\nThe letter \\'A\\' was in the Phoenician alphabet\\'s aleph. This symbol came from a simple picture of an ox head. \\n\\nThis Phoenician letter helped make the basic blocks of later types of the letter. The Greeks later modified this letter and used it as their letter alpha. The Greek alphabet was used by the Etruscans in northern Italy, and the Romans later modified the Etruscan alphabet for their own language.\\n\\nUsing the letter\\nThe letter A has six different sounds. It can sound like æ, in the International Phonetic Alphabet, such as the word pad. Other sounds of this letter are in the words father, which developed into another sound, such as in the word ace.\\n\\nUse in mathematics\\nIn algebra, the letter \"A\" along with other letters at the beginning of the alphabet is used to represent known quantities.\\n\\nIn geometry, capital A, B, C etc. are used to label line segments, lines, etc. Also, A is typically used as one of the letters to label an angle in a triangle.\\n\\nReferences\\n\\nBasic English 850 words\\nVowel letters',\n",
       " \"Air refers to the Earth's atmosphere. Air is a mixture of many gases and tiny dust particles. It is the clear gas in which living things live and breathe. It has an indefinite shape and volume. It has mass and weight, because it is matter. The weight of air creates atmospheric  pressure. There is no air in outer space. \\n\\nAir is a mixture of about 78% of nitrogen, 21% of oxygen, 0.9% of argon, 0.04% of carbon dioxide, and very small amounts of other gases.  There is an average of about 1% water vapour.\\n\\nAnimals live and need to breathe the oxygen in the air. In breathing, the lungs put oxygen into the blood, and send back carbon dioxide to the air. Plants need the carbon dioxide in the air to live. They give off the oxygen that we breathe. Without it we die of asphyxia.  \\n\\nWind is moving air, this is refreshing. This causes weather. \\n\\nAir can be polluted by some gases (such as carbon monoxide, hydrocarbons, and nitrogen oxides), smoke, and ash. This air pollution causes various problems including smog, acid rain and global warming. It can damage people's health and the environment. \\n\\nSince early times, air has been used to create technology. Ships moved with sails and windmills used the mechanical motion of air. Aircraft use propellers to move air over a wing, which allows them to fly. Pneumatics use air pressure to move things. Since the late 1900s, air power is also used to generate electricity. \\n\\nAir is invisible: it cannot be seen by the eye, though a shimmering in hot air can be seen.\\n\\nAir is one of the four classical elements in Greek theory. It was considered an intervening element, somewhere between fire and water, and the driving force for the birth of the cosmos.\\n\\nBrief history \\nEarth's atmosphere has changed much since its formation.\\n\\nOriginal atmosphere \\nAt first it was mainly a hydrogen atmosphere. It  has changed dramatically on several occasions—for example, the Great Oxygenation Event 2.4 billion years ago, greatly increased oxygen in the atmosphere from practically no oxygen to levels closer to present day. Humans have also contributed to significant changes in atmospheric composition through air pollution, especially since industrialisation, leading to rapid environmental change such as ozone depletion and global warming.\\n\\nSecond atmosphere \\nOutgassing from volcanism, supplemented by gases produced during the late heavy bombardment of Earth by huge asteroids, produced the next atmosphere, consisting largely of nitrogen plus carbon dioxide and inert gases.\\n\\nThird atmosphere \\n\\nThe constant re-arrangement of continents by plate tectonics influences the long-term evolution of the atmosphere. Carbon dioxide was transferred to and from large continental carbonate stores. Free oxygen did not exist in the atmosphere until about 2.4 billion years ago. The Great Oxygenation Event is shown by the end of the banded iron formations.\\n\\nRelated pages \\n Air pollution\\n Air craft\\n\\nReferences \\n\\nBasic English 850 words\\nPhysics\\nAtmosphere\"]"
      ]
     },
     "execution_count": 5,
     "metadata": {},
     "output_type": "execute_result"
    }
   ],
   "source": [
    "data['train']['text'][:5]"
   ]
  },
  {
   "cell_type": "code",
   "execution_count": 29,
   "metadata": {},
   "outputs": [],
   "source": [
    "ds=data['train']"
   ]
  },
  {
   "cell_type": "code",
   "execution_count": 56,
   "metadata": {},
   "outputs": [
    {
     "data": {
      "text/plain": [
       "['id', 'url', 'title', 'text']"
      ]
     },
     "execution_count": 56,
     "metadata": {},
     "output_type": "execute_result"
    }
   ],
   "source": [
    "data['train'].column_names"
   ]
  },
  {
   "cell_type": "code",
   "execution_count": 7,
   "metadata": {},
   "outputs": [],
   "source": [
    "ds=ds[:1000]"
   ]
  },
  {
   "cell_type": "code",
   "execution_count": 1,
   "metadata": {},
   "outputs": [],
   "source": [
    "import torch\n",
    "import pandas as pd\n",
    "from pathlib import Path\n",
    "from transformers import AutoTokenizer, AutoModel"
   ]
  },
  {
   "cell_type": "code",
   "execution_count": 2,
   "metadata": {},
   "outputs": [
    {
     "data": {
      "text/plain": [
       "MPNetModel(\n",
       "  (embeddings): MPNetEmbeddings(\n",
       "    (word_embeddings): Embedding(30527, 768, padding_idx=1)\n",
       "    (position_embeddings): Embedding(514, 768, padding_idx=1)\n",
       "    (LayerNorm): LayerNorm((768,), eps=1e-05, elementwise_affine=True)\n",
       "    (dropout): Dropout(p=0.1, inplace=False)\n",
       "  )\n",
       "  (encoder): MPNetEncoder(\n",
       "    (layer): ModuleList(\n",
       "      (0-11): 12 x MPNetLayer(\n",
       "        (attention): MPNetAttention(\n",
       "          (attn): MPNetSelfAttention(\n",
       "            (q): Linear(in_features=768, out_features=768, bias=True)\n",
       "            (k): Linear(in_features=768, out_features=768, bias=True)\n",
       "            (v): Linear(in_features=768, out_features=768, bias=True)\n",
       "            (o): Linear(in_features=768, out_features=768, bias=True)\n",
       "            (dropout): Dropout(p=0.1, inplace=False)\n",
       "          )\n",
       "          (LayerNorm): LayerNorm((768,), eps=1e-05, elementwise_affine=True)\n",
       "          (dropout): Dropout(p=0.1, inplace=False)\n",
       "        )\n",
       "        (intermediate): MPNetIntermediate(\n",
       "          (dense): Linear(in_features=768, out_features=3072, bias=True)\n",
       "          (intermediate_act_fn): GELUActivation()\n",
       "        )\n",
       "        (output): MPNetOutput(\n",
       "          (dense): Linear(in_features=3072, out_features=768, bias=True)\n",
       "          (LayerNorm): LayerNorm((768,), eps=1e-05, elementwise_affine=True)\n",
       "          (dropout): Dropout(p=0.1, inplace=False)\n",
       "        )\n",
       "      )\n",
       "    )\n",
       "    (relative_attention_bias): Embedding(32, 12)\n",
       "  )\n",
       "  (pooler): MPNetPooler(\n",
       "    (dense): Linear(in_features=768, out_features=768, bias=True)\n",
       "    (activation): Tanh()\n",
       "  )\n",
       ")"
      ]
     },
     "execution_count": 2,
     "metadata": {},
     "output_type": "execute_result"
    }
   ],
   "source": [
    "device = 'cuda' # Change to 'cuda' on GPU\n",
    "model_ckpt = \"sentence-transformers/multi-qa-mpnet-base-dot-v1\"\n",
    "tokenizer = AutoTokenizer.from_pretrained(model_ckpt)\n",
    "model = AutoModel.from_pretrained(model_ckpt)\n",
    "model.to(device).eval()"
   ]
  },
  {
   "cell_type": "code",
   "execution_count": 7,
   "metadata": {},
   "outputs": [
    {
     "data": {
      "text/plain": [
       "109486464"
      ]
     },
     "execution_count": 7,
     "metadata": {},
     "output_type": "execute_result"
    }
   ],
   "source": [
    "#see number of parameters\n",
    "sum(p.numel() for p in model.parameters() if p.requires_grad)"
   ]
  },
  {
   "cell_type": "code",
   "execution_count": 4,
   "metadata": {},
   "outputs": [
    {
     "ename": "NameError",
     "evalue": "name 'ds' is not defined",
     "output_type": "error",
     "traceback": [
      "\u001b[1;31m---------------------------------------------------------------------------\u001b[0m",
      "\u001b[1;31mNameError\u001b[0m                                 Traceback (most recent call last)",
      "\u001b[1;32mc:\\Users\\ZIYAD\\Desktop\\pfe\\test6wiki.ipynb Cell 10\u001b[0m line \u001b[0;36m1\n\u001b[0;32m      <a href='vscode-notebook-cell:/c%3A/Users/ZIYAD/Desktop/pfe/test6wiki.ipynb#X12sZmlsZQ%3D%3D?line=8'>9</a>\u001b[0m \u001b[39mfrom\u001b[39;00m \u001b[39mdatasets\u001b[39;00m \u001b[39mimport\u001b[39;00m Dataset\n\u001b[0;32m     <a href='vscode-notebook-cell:/c%3A/Users/ZIYAD/Desktop/pfe/test6wiki.ipynb#X12sZmlsZQ%3D%3D?line=9'>10</a>\u001b[0m \u001b[39m#ds = ds.select(range(100)) # Small subset for demo\u001b[39;00m\n\u001b[0;32m     <a href='vscode-notebook-cell:/c%3A/Users/ZIYAD/Desktop/pfe/test6wiki.ipynb#X12sZmlsZQ%3D%3D?line=10'>11</a>\u001b[0m clean_dataset \u001b[39m=\u001b[39m Dataset\u001b[39m.\u001b[39mfrom_dict({\n\u001b[1;32m---> <a href='vscode-notebook-cell:/c%3A/Users/ZIYAD/Desktop/pfe/test6wiki.ipynb#X12sZmlsZQ%3D%3D?line=11'>12</a>\u001b[0m     \u001b[39m\"\u001b[39m\u001b[39murl\u001b[39m\u001b[39m\"\u001b[39m:ds[\u001b[39m'\u001b[39m\u001b[39murl\u001b[39m\u001b[39m'\u001b[39m],\n\u001b[0;32m     <a href='vscode-notebook-cell:/c%3A/Users/ZIYAD/Desktop/pfe/test6wiki.ipynb#X12sZmlsZQ%3D%3D?line=12'>13</a>\u001b[0m     \u001b[39m\"\u001b[39m\u001b[39mtitle\u001b[39m\u001b[39m\"\u001b[39m:ds[\u001b[39m'\u001b[39m\u001b[39mtitle\u001b[39m\u001b[39m'\u001b[39m],\n\u001b[0;32m     <a href='vscode-notebook-cell:/c%3A/Users/ZIYAD/Desktop/pfe/test6wiki.ipynb#X12sZmlsZQ%3D%3D?line=13'>14</a>\u001b[0m     \u001b[39m\"\u001b[39m\u001b[39mtext\u001b[39m\u001b[39m\"\u001b[39m:[clean(t) \u001b[39mfor\u001b[39;00m t \u001b[39min\u001b[39;00m ds[\u001b[39m'\u001b[39m\u001b[39mtext\u001b[39m\u001b[39m'\u001b[39m]],\n\u001b[0;32m     <a href='vscode-notebook-cell:/c%3A/Users/ZIYAD/Desktop/pfe/test6wiki.ipynb#X12sZmlsZQ%3D%3D?line=14'>15</a>\u001b[0m })\n",
      "\u001b[1;31mNameError\u001b[0m: name 'ds' is not defined"
     ]
    }
   ],
   "source": [
    "def clean(x):\n",
    "    x = x.split('References\\n')[0]\n",
    "    x = x.split('References \\n')[0]\n",
    "    x = x.split('See also\\n')[0]\n",
    "    x = x.split('See also \\n')[0]\n",
    "    x = x.split('External links')[0]\n",
    "    return x\n",
    "\n",
    "from datasets import Dataset\n",
    "#ds = ds.select(range(100)) # Small subset for demo\n",
    "clean_dataset = Dataset.from_dict({\n",
    "    \"url\":ds['url'],\n",
    "    \"title\":ds['title'],\n",
    "    \"text\":[clean(t) for t in ds['text']],\n",
    "})"
   ]
  },
  {
   "cell_type": "code",
   "execution_count": 3,
   "metadata": {},
   "outputs": [],
   "source": [
    "# Getting the final embedding from the model\n",
    "def cls_pooling(model_output):\n",
    "    return model_output.last_hidden_state[:, 0]\n",
    "\n",
    "def get_embeddings(text_list):\n",
    "    encoded_input = tokenizer(\n",
    "        text_list, padding=True, truncation=True, return_tensors=\"pt\"\n",
    "    )\n",
    "    encoded_input = {k: v.to(device) for k, v in encoded_input.items()}\n",
    "    model_output = model(**encoded_input)\n",
    "    return cls_pooling(model_output)"
   ]
  },
  {
   "cell_type": "code",
   "execution_count": 31,
   "metadata": {},
   "outputs": [
    {
     "data": {
      "text/plain": [
       "torch.Size([1, 768])"
      ]
     },
     "execution_count": 31,
     "metadata": {},
     "output_type": "execute_result"
    }
   ],
   "source": [
    "# Embed the first piece of text\n",
    "embedding = get_embeddings(clean_dataset[0]['text'])\n",
    "embedding.shape"
   ]
  },
  {
   "cell_type": "code",
   "execution_count": 58,
   "metadata": {},
   "outputs": [
    {
     "data": {
      "text/plain": [
       "Dataset({\n",
       "    features: ['title', 'text', 'url'],\n",
       "    num_rows: 205328\n",
       "})"
      ]
     },
     "execution_count": 58,
     "metadata": {},
     "output_type": "execute_result"
    }
   ],
   "source": [
    "#add url and title to embedding\n",
    "clean_dataset"
   ]
  },
  {
   "cell_type": "code",
   "execution_count": 59,
   "metadata": {},
   "outputs": [
    {
     "data": {
      "text/plain": [
       "['title', 'text']"
      ]
     },
     "execution_count": 59,
     "metadata": {},
     "output_type": "execute_result"
    }
   ],
   "source": [
    "clean_dataset.column_names"
   ]
  },
  {
   "cell_type": "code",
   "execution_count": 32,
   "metadata": {},
   "outputs": [
    {
     "data": {
      "application/vnd.jupyter.widget-view+json": {
       "model_id": "6912a16fc9e04bb79df99d33ac30f0e7",
       "version_major": 2,
       "version_minor": 0
      },
      "text/plain": [
       "Map:   0%|          | 0/205328 [00:00<?, ? examples/s]"
      ]
     },
     "metadata": {},
     "output_type": "display_data"
    }
   ],
   "source": [
    "embeddings_dataset = clean_dataset.map(\n",
    "    lambda x: {\"embeddings\": get_embeddings(x[\"text\"]).detach().cpu().numpy()[0]}\n",
    ")"
   ]
  },
  {
   "cell_type": "code",
   "execution_count": 4,
   "metadata": {},
   "outputs": [],
   "source": [
    "from datasets import load_from_disk\n",
    "embeddings_dataset = load_from_disk(\"wiki-20220301-simple-embeddings2\")"
   ]
  },
  {
   "cell_type": "code",
   "execution_count": 7,
   "metadata": {},
   "outputs": [
    {
     "ename": "NameError",
     "evalue": "name 'ds' is not defined",
     "output_type": "error",
     "traceback": [
      "\u001b[1;31m---------------------------------------------------------------------------\u001b[0m",
      "\u001b[1;31mNameError\u001b[0m                                 Traceback (most recent call last)",
      "\u001b[1;32mc:\\Users\\ZIYAD\\Desktop\\pfe\\test6wiki.ipynb Cell 17\u001b[0m line \u001b[0;36m1\n\u001b[1;32m----> <a href='vscode-notebook-cell:/c%3A/Users/ZIYAD/Desktop/pfe/test6wiki.ipynb#X22sZmlsZQ%3D%3D?line=0'>1</a>\u001b[0m \u001b[39mlen\u001b[39m(ds)\n",
      "\u001b[1;31mNameError\u001b[0m: name 'ds' is not defined"
     ]
    }
   ],
   "source": [
    "len(ds)"
   ]
  },
  {
   "cell_type": "code",
   "execution_count": 8,
   "metadata": {},
   "outputs": [
    {
     "data": {
      "text/plain": [
       "205328"
      ]
     },
     "execution_count": 8,
     "metadata": {},
     "output_type": "execute_result"
    }
   ],
   "source": [
    "len(embeddings_dataset)"
   ]
  },
  {
   "cell_type": "code",
   "execution_count": 78,
   "metadata": {},
   "outputs": [],
   "source": [
    "embeddings_dataset=embeddings_dataset.add_column('url', ds['url'])"
   ]
  },
  {
   "cell_type": "code",
   "execution_count": 79,
   "metadata": {},
   "outputs": [
    {
     "data": {
      "application/vnd.jupyter.widget-view+json": {
       "model_id": "8a49a0c8c71a4447b9c5bffc264c32a4",
       "version_major": 2,
       "version_minor": 0
      },
      "text/plain": [
       "Saving the dataset (0/2 shards):   0%|          | 0/205328 [00:00<?, ? examples/s]"
      ]
     },
     "metadata": {},
     "output_type": "display_data"
    }
   ],
   "source": [
    "#save embeddings\n",
    "embeddings_dataset.save_to_disk(\"wiki-20220301-simple-embeddings2\")"
   ]
  },
  {
   "cell_type": "code",
   "execution_count": 9,
   "metadata": {},
   "outputs": [
    {
     "data": {
      "text/plain": [
       "(1, 768)"
      ]
     },
     "execution_count": 9,
     "metadata": {},
     "output_type": "execute_result"
    }
   ],
   "source": [
    "question = \"how many days in april\"\n",
    "question_embedding = get_embeddings([question]).cpu().detach().numpy()\n",
    "question_embedding.shape"
   ]
  },
  {
   "cell_type": "code",
   "execution_count": 5,
   "metadata": {},
   "outputs": [
    {
     "data": {
      "application/vnd.jupyter.widget-view+json": {
       "model_id": "9b81e2a4e1c84b3fb94337911f007bdd",
       "version_major": 2,
       "version_minor": 0
      },
      "text/plain": [
       "  0%|          | 0/206 [00:00<?, ?it/s]"
      ]
     },
     "metadata": {},
     "output_type": "display_data"
    },
    {
     "data": {
      "text/plain": [
       "Dataset({\n",
       "    features: ['title', 'text', 'embeddings', 'url'],\n",
       "    num_rows: 205328\n",
       "})"
      ]
     },
     "execution_count": 5,
     "metadata": {},
     "output_type": "execute_result"
    }
   ],
   "source": [
    "embeddings_dataset.add_faiss_index(column=\"embeddings\")\n"
   ]
  },
  {
   "cell_type": "code",
   "execution_count": 12,
   "metadata": {},
   "outputs": [],
   "source": [
    "# Finding matches:\n",
    "scores, samples = embeddings_dataset.get_nearest_examples(\n",
    "    \"embeddings\", question_embedding, k=1\n",
    ")"
   ]
  },
  {
   "cell_type": "code",
   "execution_count": 13,
   "metadata": {},
   "outputs": [
    {
     "data": {
      "text/html": [
       "<div>\n",
       "<style scoped>\n",
       "    .dataframe tbody tr th:only-of-type {\n",
       "        vertical-align: middle;\n",
       "    }\n",
       "\n",
       "    .dataframe tbody tr th {\n",
       "        vertical-align: top;\n",
       "    }\n",
       "\n",
       "    .dataframe thead th {\n",
       "        text-align: right;\n",
       "    }\n",
       "</style>\n",
       "<table border=\"1\" class=\"dataframe\">\n",
       "  <thead>\n",
       "    <tr style=\"text-align: right;\">\n",
       "      <th></th>\n",
       "      <th>title</th>\n",
       "      <th>text</th>\n",
       "      <th>embeddings</th>\n",
       "      <th>url</th>\n",
       "      <th>scores</th>\n",
       "    </tr>\n",
       "  </thead>\n",
       "  <tbody>\n",
       "    <tr>\n",
       "      <th>0</th>\n",
       "      <td>April</td>\n",
       "      <td>April is the fourth month of the year in the J...</td>\n",
       "      <td>[0.23393182456493378, -0.10022491216659546, -0...</td>\n",
       "      <td>https://simple.wikipedia.org/wiki/April</td>\n",
       "      <td>33.68021</td>\n",
       "    </tr>\n",
       "  </tbody>\n",
       "</table>\n",
       "</div>"
      ],
      "text/plain": [
       "   title                                               text  \\\n",
       "0  April  April is the fourth month of the year in the J...   \n",
       "\n",
       "                                          embeddings  \\\n",
       "0  [0.23393182456493378, -0.10022491216659546, -0...   \n",
       "\n",
       "                                       url    scores  \n",
       "0  https://simple.wikipedia.org/wiki/April  33.68021  "
      ]
     },
     "execution_count": 13,
     "metadata": {},
     "output_type": "execute_result"
    }
   ],
   "source": [
    "# Nicely formatting\n",
    "samples_df = pd.DataFrame.from_dict(samples)\n",
    "samples_df[\"scores\"] = scores\n",
    "samples_df.sort_values(\"scores\", ascending=True, inplace=True)\n",
    "\n",
    "samples_df\n"
   ]
  },
  {
   "cell_type": "code",
   "execution_count": 6,
   "metadata": {},
   "outputs": [],
   "source": [
    "#fonction that split text in chunks\n",
    "def split_text(text, chunk_size=512, overlap_size=128):\n",
    "    chunks = []\n",
    "    start = 0\n",
    "    while start < len(text):\n",
    "        end = start + chunk_size\n",
    "        chunks.append(text[start:end])\n",
    "        start = end - overlap_size\n",
    "    return chunks\n",
    "\n",
    "#fonction that split text in chunks and return the embeddings\n",
    "def get_chunks_embeddings(text, chunk_size=512, overlap_size=128):\n",
    "    chunks = split_text(text, chunk_size, overlap_size)\n",
    "    embeddings = get_embeddings(chunks).detach().cpu().numpy()\n",
    "    embeddings_flat = embeddings.reshape(embeddings.shape[0], -1)\n",
    "    return pd.DataFrame({\"chunks\": chunks, \"embeddings\": list(embeddings_flat)})"
   ]
  },
  {
   "cell_type": "code",
   "execution_count": 15,
   "metadata": {},
   "outputs": [],
   "source": [
    "tdf=get_chunks_embeddings(samples_df['text'][0])"
   ]
  },
  {
   "cell_type": "code",
   "execution_count": 16,
   "metadata": {},
   "outputs": [
    {
     "data": {
      "text/html": [
       "<div>\n",
       "<style scoped>\n",
       "    .dataframe tbody tr th:only-of-type {\n",
       "        vertical-align: middle;\n",
       "    }\n",
       "\n",
       "    .dataframe tbody tr th {\n",
       "        vertical-align: top;\n",
       "    }\n",
       "\n",
       "    .dataframe thead th {\n",
       "        text-align: right;\n",
       "    }\n",
       "</style>\n",
       "<table border=\"1\" class=\"dataframe\">\n",
       "  <thead>\n",
       "    <tr style=\"text-align: right;\">\n",
       "      <th></th>\n",
       "      <th>chunks</th>\n",
       "      <th>embeddings</th>\n",
       "    </tr>\n",
       "  </thead>\n",
       "  <tbody>\n",
       "    <tr>\n",
       "      <th>0</th>\n",
       "      <td>April is the fourth month of the year in the J...</td>\n",
       "      <td>[0.15124708, -0.12644571, -0.14740393, 0.45114...</td>\n",
       "    </tr>\n",
       "    <tr>\n",
       "      <th>1</th>\n",
       "      <td>he meaning of the diamond is innocence.\\n\\nThe...</td>\n",
       "      <td>[0.08903179, -0.177898, -0.20027035, 0.3476627...</td>\n",
       "    </tr>\n",
       "    <tr>\n",
       "      <th>2</th>\n",
       "      <td>ds on the same day of the week as December eve...</td>\n",
       "      <td>[-0.24883652, -0.19405347, -0.10398204, 0.2414...</td>\n",
       "    </tr>\n",
       "    <tr>\n",
       "      <th>3</th>\n",
       "      <td>er of the previous year. In common years immed...</td>\n",
       "      <td>[-0.2519806, -0.31787616, -0.1417807, 0.191933...</td>\n",
       "    </tr>\n",
       "    <tr>\n",
       "      <th>4</th>\n",
       "      <td>cember of the following year, and in years imm...</td>\n",
       "      <td>[-0.06285883, -0.5122787, -0.13998634, 0.05309...</td>\n",
       "    </tr>\n",
       "    <tr>\n",
       "      <th>5</th>\n",
       "      <td>the Southern Hemisphere. In each hemisphere, ...</td>\n",
       "      <td>[0.0045274044, -0.48772374, -0.096037425, 0.26...</td>\n",
       "    </tr>\n",
       "    <tr>\n",
       "      <th>6</th>\n",
       "      <td>d month in the old Roman Calendar, before the ...</td>\n",
       "      <td>[-0.169824, -0.3932905, -0.09462801, 0.0862061...</td>\n",
       "    </tr>\n",
       "    <tr>\n",
       "      <th>7</th>\n",
       "      <td>8. At the end of the month, Central and North...</td>\n",
       "      <td>[-0.16688353, -0.3915512, -0.08527086, 0.09967...</td>\n",
       "    </tr>\n",
       "    <tr>\n",
       "      <th>8</th>\n",
       "      <td>al Children's Book Day\\n April 2 - Thai Herita...</td>\n",
       "      <td>[0.12900202, -0.1595908, -0.26692027, 0.615629...</td>\n",
       "    </tr>\n",
       "    <tr>\n",
       "      <th>9</th>\n",
       "      <td>akri Day (Thailand)\\n April 7 - Day of Materni...</td>\n",
       "      <td>[0.23059957, -0.19102854, -0.23250334, 0.39171...</td>\n",
       "    </tr>\n",
       "    <tr>\n",
       "      <th>10</th>\n",
       "      <td>of Yuri Gagarin's space flight\\n April 13 - S...</td>\n",
       "      <td>[0.09557386, 0.033161473, -0.124706514, 0.2707...</td>\n",
       "    </tr>\n",
       "    <tr>\n",
       "      <th>11</th>\n",
       "      <td>Tax Day (United States)\\n April 15 - Kim Il-Su...</td>\n",
       "      <td>[-0.06947895, 0.19602679, -0.14113, 0.5301344,...</td>\n",
       "    </tr>\n",
       "    <tr>\n",
       "      <th>12</th>\n",
       "      <td>merican Samoa)\\n April 17 - Women's Day (Gabon...</td>\n",
       "      <td>[-0.075849645, 0.12806162, -0.20912859, 0.3417...</td>\n",
       "    </tr>\n",
       "    <tr>\n",
       "      <th>13</th>\n",
       "      <td>)\\n April 20 - 4/20 in Cannabis Culture\\n Apri...</td>\n",
       "      <td>[0.005725629, 0.21405122, -0.15172295, 0.31800...</td>\n",
       "    </tr>\n",
       "    <tr>\n",
       "      <th>14</th>\n",
       "      <td>ebrating the patron saint of several countries...</td>\n",
       "      <td>[0.02463221, 0.24155478, -0.116676286, 0.40542...</td>\n",
       "    </tr>\n",
       "    <tr>\n",
       "      <th>15</th>\n",
       "      <td>ew Zealand Army Corps, and began in 1915.\\n Ap...</td>\n",
       "      <td>[0.18686247, -0.069097325, -0.22225252, 0.1580...</td>\n",
       "    </tr>\n",
       "    <tr>\n",
       "      <th>16</th>\n",
       "      <td>Togo)\\n April 27 - Freedom Day (South Africa)...</td>\n",
       "      <td>[0.36951756, 0.059609395, -0.1565749, 0.472075...</td>\n",
       "    </tr>\n",
       "    <tr>\n",
       "      <th>17</th>\n",
       "      <td>l Dance Day\\n April 30 - Former Queen's Day Ho...</td>\n",
       "      <td>[0.041034825, -0.10241181, -0.16853242, 0.4500...</td>\n",
       "    </tr>\n",
       "    <tr>\n",
       "      <th>18</th>\n",
       "      <td>in Western Christianity:\\n Palm Sunday (betwee...</td>\n",
       "      <td>[-0.4291628, -0.10279444, -0.13999999, 0.34773...</td>\n",
       "    </tr>\n",
       "    <tr>\n",
       "      <th>19</th>\n",
       "      <td>ne 3.\\n Jewish Passover - falls in the same we...</td>\n",
       "      <td>[-0.5102292, -0.034564007, -0.21720855, 0.3962...</td>\n",
       "    </tr>\n",
       "    <tr>\n",
       "      <th>20</th>\n",
       "      <td>cco (Ramadan does not include Daylight Saving ...</td>\n",
       "      <td>[-0.25510567, 0.027559645, -0.13622335, -0.017...</td>\n",
       "    </tr>\n",
       "    <tr>\n",
       "      <th>21</th>\n",
       "      <td>recht, Netherlands\\n Zurich, Switzerland\\n\\nSe...</td>\n",
       "      <td>[0.10777286, -0.0050847232, -0.05189044, 0.240...</td>\n",
       "    </tr>\n",
       "    <tr>\n",
       "      <th>22</th>\n",
       "      <td>so.\\n April 2, 1519 - Florida is sighted by a ...</td>\n",
       "      <td>[0.35317335, 0.31752482, -0.12870553, 0.279632...</td>\n",
       "    </tr>\n",
       "    <tr>\n",
       "      <th>23</th>\n",
       "      <td>Cooper in New York City.\\n April 4, 1721 - Rob...</td>\n",
       "      <td>[0.27248177, 0.08965317, -0.1595969, 0.3544408...</td>\n",
       "    </tr>\n",
       "    <tr>\n",
       "      <th>24</th>\n",
       "      <td>\\n April 5, 1722 - Jacob Roggeveen becomes the...</td>\n",
       "      <td>[0.2528152, -0.018185873, -0.16760229, 0.43612...</td>\n",
       "    </tr>\n",
       "    <tr>\n",
       "      <th>25</th>\n",
       "      <td>ns.\\n April 9, 1865 - American Civil War: Conf...</td>\n",
       "      <td>[0.2416353, 0.199124, -0.22556072, 0.24680784,...</td>\n",
       "    </tr>\n",
       "    <tr>\n",
       "      <th>26</th>\n",
       "      <td>ly two years later.\\n April 10, 1815 - Mount T...</td>\n",
       "      <td>[0.12519789, 0.45808002, -0.19105248, 0.300952...</td>\n",
       "    </tr>\n",
       "    <tr>\n",
       "      <th>27</th>\n",
       "      <td>e been the most boring day of the 20th century...</td>\n",
       "      <td>[0.1293243, 0.28042978, -0.027225431, 0.137678...</td>\n",
       "    </tr>\n",
       "    <tr>\n",
       "      <th>28</th>\n",
       "      <td>by John Wilkes Booth. Lincoln dies the next d...</td>\n",
       "      <td>[0.31580964, 0.3242195, -0.12807111, 0.1744771...</td>\n",
       "    </tr>\n",
       "    <tr>\n",
       "      <th>29</th>\n",
       "      <td>ng in the deaths of many of the people on boar...</td>\n",
       "      <td>[-0.22493888, 0.2800861, -0.23907427, 0.417974...</td>\n",
       "    </tr>\n",
       "    <tr>\n",
       "      <th>30</th>\n",
       "      <td>ril 19, 1897 - The first Boston Marathon is he...</td>\n",
       "      <td>[-0.16280039, 0.36900163, -0.27984002, 0.26324...</td>\n",
       "    </tr>\n",
       "    <tr>\n",
       "      <th>31</th>\n",
       "      <td>Marie Curie and Pierre Curie refine Radium.\\n...</td>\n",
       "      <td>[-0.094340935, 0.5851717, -0.13696803, 0.39375...</td>\n",
       "    </tr>\n",
       "    <tr>\n",
       "      <th>32</th>\n",
       "      <td>k claims to have reached the North Pole on thi...</td>\n",
       "      <td>[-0.07791155, 0.017287927, -0.046966217, 0.261...</td>\n",
       "    </tr>\n",
       "    <tr>\n",
       "      <th>33</th>\n",
       "      <td>and.\\n April 24, 1990 - The Hubble Space Teles...</td>\n",
       "      <td>[-0.10499368, 0.28954086, -0.12266677, 0.28562...</td>\n",
       "    </tr>\n",
       "    <tr>\n",
       "      <th>34</th>\n",
       "      <td>War: German planes bomb the town of Guernica, ...</td>\n",
       "      <td>[-0.0987502, 0.14580582, -0.18927233, 0.423444...</td>\n",
       "    </tr>\n",
       "    <tr>\n",
       "      <th>35</th>\n",
       "      <td>elections.\\n April 27, 1960 - Togo becomes ind...</td>\n",
       "      <td>[-0.024457345, 0.6010916, -0.1347296, 0.221042...</td>\n",
       "    </tr>\n",
       "    <tr>\n",
       "      <th>36</th>\n",
       "      <td>at proving his theory that the Polynesian set...</td>\n",
       "      <td>[-0.07947647, 0.34555823, -0.21983129, 0.20325...</td>\n",
       "    </tr>\n",
       "    <tr>\n",
       "      <th>37</th>\n",
       "      <td>nited States.\\n April 30, 1803 - The United St...</td>\n",
       "      <td>[0.27602705, 0.23370565, -0.18817909, 0.357003...</td>\n",
       "    </tr>\n",
       "    <tr>\n",
       "      <th>38</th>\n",
       "      <td>30, 1980 - Queen Juliana of the Netherlands a...</td>\n",
       "      <td>[0.33525845, -0.62040573, -0.049549382, 0.2929...</td>\n",
       "    </tr>\n",
       "    <tr>\n",
       "      <th>39</th>\n",
       "      <td>ay) both start with an 'M' in the English lang...</td>\n",
       "      <td>[0.28681412, -0.29966077, -0.117497265, 0.1492...</td>\n",
       "    </tr>\n",
       "    <tr>\n",
       "      <th>40</th>\n",
       "      <td>.\\n Birthstone for April is the Diamond.\\nApri...</td>\n",
       "      <td>[0.50641865, -0.4152885, -0.08195236, 0.483485...</td>\n",
       "    </tr>\n",
       "    <tr>\n",
       "      <th>41</th>\n",
       "      <td>i, Grand Duke of Luxembourg (April 16), Elizab...</td>\n",
       "      <td>[0.31394473, -0.21963659, -0.21949975, 0.66278...</td>\n",
       "    </tr>\n",
       "  </tbody>\n",
       "</table>\n",
       "</div>"
      ],
      "text/plain": [
       "                                               chunks  \\\n",
       "0   April is the fourth month of the year in the J...   \n",
       "1   he meaning of the diamond is innocence.\\n\\nThe...   \n",
       "2   ds on the same day of the week as December eve...   \n",
       "3   er of the previous year. In common years immed...   \n",
       "4   cember of the following year, and in years imm...   \n",
       "5    the Southern Hemisphere. In each hemisphere, ...   \n",
       "6   d month in the old Roman Calendar, before the ...   \n",
       "7    8. At the end of the month, Central and North...   \n",
       "8   al Children's Book Day\\n April 2 - Thai Herita...   \n",
       "9   akri Day (Thailand)\\n April 7 - Day of Materni...   \n",
       "10   of Yuri Gagarin's space flight\\n April 13 - S...   \n",
       "11  Tax Day (United States)\\n April 15 - Kim Il-Su...   \n",
       "12  merican Samoa)\\n April 17 - Women's Day (Gabon...   \n",
       "13  )\\n April 20 - 4/20 in Cannabis Culture\\n Apri...   \n",
       "14  ebrating the patron saint of several countries...   \n",
       "15  ew Zealand Army Corps, and began in 1915.\\n Ap...   \n",
       "16   Togo)\\n April 27 - Freedom Day (South Africa)...   \n",
       "17  l Dance Day\\n April 30 - Former Queen's Day Ho...   \n",
       "18  in Western Christianity:\\n Palm Sunday (betwee...   \n",
       "19  ne 3.\\n Jewish Passover - falls in the same we...   \n",
       "20  cco (Ramadan does not include Daylight Saving ...   \n",
       "21  recht, Netherlands\\n Zurich, Switzerland\\n\\nSe...   \n",
       "22  so.\\n April 2, 1519 - Florida is sighted by a ...   \n",
       "23  Cooper in New York City.\\n April 4, 1721 - Rob...   \n",
       "24  \\n April 5, 1722 - Jacob Roggeveen becomes the...   \n",
       "25  ns.\\n April 9, 1865 - American Civil War: Conf...   \n",
       "26  ly two years later.\\n April 10, 1815 - Mount T...   \n",
       "27  e been the most boring day of the 20th century...   \n",
       "28   by John Wilkes Booth. Lincoln dies the next d...   \n",
       "29  ng in the deaths of many of the people on boar...   \n",
       "30  ril 19, 1897 - The first Boston Marathon is he...   \n",
       "31   Marie Curie and Pierre Curie refine Radium.\\n...   \n",
       "32  k claims to have reached the North Pole on thi...   \n",
       "33  and.\\n April 24, 1990 - The Hubble Space Teles...   \n",
       "34  War: German planes bomb the town of Guernica, ...   \n",
       "35  elections.\\n April 27, 1960 - Togo becomes ind...   \n",
       "36   at proving his theory that the Polynesian set...   \n",
       "37  nited States.\\n April 30, 1803 - The United St...   \n",
       "38   30, 1980 - Queen Juliana of the Netherlands a...   \n",
       "39  ay) both start with an 'M' in the English lang...   \n",
       "40  .\\n Birthstone for April is the Diamond.\\nApri...   \n",
       "41  i, Grand Duke of Luxembourg (April 16), Elizab...   \n",
       "\n",
       "                                           embeddings  \n",
       "0   [0.15124708, -0.12644571, -0.14740393, 0.45114...  \n",
       "1   [0.08903179, -0.177898, -0.20027035, 0.3476627...  \n",
       "2   [-0.24883652, -0.19405347, -0.10398204, 0.2414...  \n",
       "3   [-0.2519806, -0.31787616, -0.1417807, 0.191933...  \n",
       "4   [-0.06285883, -0.5122787, -0.13998634, 0.05309...  \n",
       "5   [0.0045274044, -0.48772374, -0.096037425, 0.26...  \n",
       "6   [-0.169824, -0.3932905, -0.09462801, 0.0862061...  \n",
       "7   [-0.16688353, -0.3915512, -0.08527086, 0.09967...  \n",
       "8   [0.12900202, -0.1595908, -0.26692027, 0.615629...  \n",
       "9   [0.23059957, -0.19102854, -0.23250334, 0.39171...  \n",
       "10  [0.09557386, 0.033161473, -0.124706514, 0.2707...  \n",
       "11  [-0.06947895, 0.19602679, -0.14113, 0.5301344,...  \n",
       "12  [-0.075849645, 0.12806162, -0.20912859, 0.3417...  \n",
       "13  [0.005725629, 0.21405122, -0.15172295, 0.31800...  \n",
       "14  [0.02463221, 0.24155478, -0.116676286, 0.40542...  \n",
       "15  [0.18686247, -0.069097325, -0.22225252, 0.1580...  \n",
       "16  [0.36951756, 0.059609395, -0.1565749, 0.472075...  \n",
       "17  [0.041034825, -0.10241181, -0.16853242, 0.4500...  \n",
       "18  [-0.4291628, -0.10279444, -0.13999999, 0.34773...  \n",
       "19  [-0.5102292, -0.034564007, -0.21720855, 0.3962...  \n",
       "20  [-0.25510567, 0.027559645, -0.13622335, -0.017...  \n",
       "21  [0.10777286, -0.0050847232, -0.05189044, 0.240...  \n",
       "22  [0.35317335, 0.31752482, -0.12870553, 0.279632...  \n",
       "23  [0.27248177, 0.08965317, -0.1595969, 0.3544408...  \n",
       "24  [0.2528152, -0.018185873, -0.16760229, 0.43612...  \n",
       "25  [0.2416353, 0.199124, -0.22556072, 0.24680784,...  \n",
       "26  [0.12519789, 0.45808002, -0.19105248, 0.300952...  \n",
       "27  [0.1293243, 0.28042978, -0.027225431, 0.137678...  \n",
       "28  [0.31580964, 0.3242195, -0.12807111, 0.1744771...  \n",
       "29  [-0.22493888, 0.2800861, -0.23907427, 0.417974...  \n",
       "30  [-0.16280039, 0.36900163, -0.27984002, 0.26324...  \n",
       "31  [-0.094340935, 0.5851717, -0.13696803, 0.39375...  \n",
       "32  [-0.07791155, 0.017287927, -0.046966217, 0.261...  \n",
       "33  [-0.10499368, 0.28954086, -0.12266677, 0.28562...  \n",
       "34  [-0.0987502, 0.14580582, -0.18927233, 0.423444...  \n",
       "35  [-0.024457345, 0.6010916, -0.1347296, 0.221042...  \n",
       "36  [-0.07947647, 0.34555823, -0.21983129, 0.20325...  \n",
       "37  [0.27602705, 0.23370565, -0.18817909, 0.357003...  \n",
       "38  [0.33525845, -0.62040573, -0.049549382, 0.2929...  \n",
       "39  [0.28681412, -0.29966077, -0.117497265, 0.1492...  \n",
       "40  [0.50641865, -0.4152885, -0.08195236, 0.483485...  \n",
       "41  [0.31394473, -0.21963659, -0.21949975, 0.66278...  "
      ]
     },
     "execution_count": 16,
     "metadata": {},
     "output_type": "execute_result"
    }
   ],
   "source": [
    "tdf"
   ]
  },
  {
   "cell_type": "code",
   "execution_count": 7,
   "metadata": {},
   "outputs": [],
   "source": [
    "#similarity between 2 embeddings\n",
    "from sklearn.metrics.pairwise import cosine_similarity\n",
    "\n",
    "\n",
    "#get_chunks_embeddings(samples_df['text'][0])\n",
    "#fonction that get the embeddings of the question and the text and return the cosine similarity\n",
    "def get_cosine_similarity(question, text):\n",
    "    question_embedding = get_embeddings([question]).cpu().detach().numpy()\n",
    "    text_embedding = get_embeddings([text]).cpu().detach().numpy()\n",
    "    return cosine_similarity(question_embedding, text_embedding)[0][0]\n",
    "\n",
    "\n",
    "#best_chunk = tdf.iloc[0]\n",
    "#for i in range(len(tdf)):\n",
    "#    print(get_cosine_similarity(question, tdf['chunks'][i]))\n",
    "#    if get_cosine_similarity(question, tdf['chunks'][i]) > get_cosine_similarity(question, best_chunk['chunks']):\n",
    "#        best_chunk = tdf.iloc[i]\n",
    "\n",
    "#print(\"best chunk: \", best_chunk['chunks'])\n",
    "\n",
    "\n"
   ]
  },
  {
   "cell_type": "code",
   "execution_count": 8,
   "metadata": {},
   "outputs": [],
   "source": [
    "#fonction return the best chunk\n",
    "def get_best_chunk(question, text, chunk_size=512, overlap_size=128):\n",
    "    chunks = split_text(text, chunk_size, overlap_size)\n",
    "    chunks_df = pd.DataFrame({\"chunks\": chunks})\n",
    "    chunks_df[\"cosine_similarity\"] = chunks_df[\"chunks\"].apply(\n",
    "        lambda x: get_cosine_similarity(question, x)\n",
    "    )\n",
    "    print(chunks_df.sort_values(\"cosine_similarity\", ascending=False))\n",
    "    return chunks_df.sort_values(\"cosine_similarity\", ascending=False)\n",
    "\n",
    "#get_best_chunk(question, samples_df['text'][0])"
   ]
  },
  {
   "cell_type": "code",
   "execution_count": null,
   "metadata": {},
   "outputs": [],
   "source": []
  },
  {
   "cell_type": "code",
   "execution_count": 9,
   "metadata": {},
   "outputs": [
    {
     "ename": "OSError",
     "evalue": "ahotrod/deberta-v3-large-finetuned-squadv2 is not a local folder and is not a valid model identifier listed on 'https://huggingface.co/models'\nIf this is a private repository, make sure to pass a token having permission to this repo with `use_auth_token` or log in with `huggingface-cli login` and pass `use_auth_token=True`.",
     "output_type": "error",
     "traceback": [
      "\u001b[1;31m---------------------------------------------------------------------------\u001b[0m",
      "\u001b[1;31mHTTPError\u001b[0m                                 Traceback (most recent call last)",
      "File \u001b[1;32mc:\\Users\\ZIYAD\\anaconda3\\envs\\nlp\\lib\\site-packages\\huggingface_hub\\utils\\_errors.py:261\u001b[0m, in \u001b[0;36mhf_raise_for_status\u001b[1;34m(response, endpoint_name)\u001b[0m\n\u001b[0;32m    260\u001b[0m \u001b[39mtry\u001b[39;00m:\n\u001b[1;32m--> 261\u001b[0m     response\u001b[39m.\u001b[39;49mraise_for_status()\n\u001b[0;32m    262\u001b[0m \u001b[39mexcept\u001b[39;00m HTTPError \u001b[39mas\u001b[39;00m e:\n",
      "File \u001b[1;32mc:\\Users\\ZIYAD\\anaconda3\\envs\\nlp\\lib\\site-packages\\requests\\models.py:1021\u001b[0m, in \u001b[0;36mResponse.raise_for_status\u001b[1;34m(self)\u001b[0m\n\u001b[0;32m   1020\u001b[0m \u001b[39mif\u001b[39;00m http_error_msg:\n\u001b[1;32m-> 1021\u001b[0m     \u001b[39mraise\u001b[39;00m HTTPError(http_error_msg, response\u001b[39m=\u001b[39m\u001b[39mself\u001b[39m)\n",
      "\u001b[1;31mHTTPError\u001b[0m: 403 Client Error: Forbidden for url: https://huggingface.co/ahotrod/deberta-v3-large-finetuned-squadv2/resolve/main/config.json",
      "\nThe above exception was the direct cause of the following exception:\n",
      "\u001b[1;31mGatedRepoError\u001b[0m                            Traceback (most recent call last)",
      "File \u001b[1;32mc:\\Users\\ZIYAD\\anaconda3\\envs\\nlp\\lib\\site-packages\\transformers\\utils\\hub.py:417\u001b[0m, in \u001b[0;36mcached_file\u001b[1;34m(path_or_repo_id, filename, cache_dir, force_download, resume_download, proxies, use_auth_token, revision, local_files_only, subfolder, repo_type, user_agent, _raise_exceptions_for_missing_entries, _raise_exceptions_for_connection_errors, _commit_hash)\u001b[0m\n\u001b[0;32m    415\u001b[0m \u001b[39mtry\u001b[39;00m:\n\u001b[0;32m    416\u001b[0m     \u001b[39m# Load from URL or cache if already cached\u001b[39;00m\n\u001b[1;32m--> 417\u001b[0m     resolved_file \u001b[39m=\u001b[39m hf_hub_download(\n\u001b[0;32m    418\u001b[0m         path_or_repo_id,\n\u001b[0;32m    419\u001b[0m         filename,\n\u001b[0;32m    420\u001b[0m         subfolder\u001b[39m=\u001b[39;49m\u001b[39mNone\u001b[39;49;00m \u001b[39mif\u001b[39;49;00m \u001b[39mlen\u001b[39;49m(subfolder) \u001b[39m==\u001b[39;49m \u001b[39m0\u001b[39;49m \u001b[39melse\u001b[39;49;00m subfolder,\n\u001b[0;32m    421\u001b[0m         repo_type\u001b[39m=\u001b[39;49mrepo_type,\n\u001b[0;32m    422\u001b[0m         revision\u001b[39m=\u001b[39;49mrevision,\n\u001b[0;32m    423\u001b[0m         cache_dir\u001b[39m=\u001b[39;49mcache_dir,\n\u001b[0;32m    424\u001b[0m         user_agent\u001b[39m=\u001b[39;49muser_agent,\n\u001b[0;32m    425\u001b[0m         force_download\u001b[39m=\u001b[39;49mforce_download,\n\u001b[0;32m    426\u001b[0m         proxies\u001b[39m=\u001b[39;49mproxies,\n\u001b[0;32m    427\u001b[0m         resume_download\u001b[39m=\u001b[39;49mresume_download,\n\u001b[0;32m    428\u001b[0m         use_auth_token\u001b[39m=\u001b[39;49muse_auth_token,\n\u001b[0;32m    429\u001b[0m         local_files_only\u001b[39m=\u001b[39;49mlocal_files_only,\n\u001b[0;32m    430\u001b[0m     )\n\u001b[0;32m    432\u001b[0m \u001b[39mexcept\u001b[39;00m RepositoryNotFoundError:\n",
      "File \u001b[1;32mc:\\Users\\ZIYAD\\anaconda3\\envs\\nlp\\lib\\site-packages\\huggingface_hub\\utils\\_validators.py:118\u001b[0m, in \u001b[0;36mvalidate_hf_hub_args.<locals>._inner_fn\u001b[1;34m(*args, **kwargs)\u001b[0m\n\u001b[0;32m    116\u001b[0m     kwargs \u001b[39m=\u001b[39m smoothly_deprecate_use_auth_token(fn_name\u001b[39m=\u001b[39mfn\u001b[39m.\u001b[39m\u001b[39m__name__\u001b[39m, has_token\u001b[39m=\u001b[39mhas_token, kwargs\u001b[39m=\u001b[39mkwargs)\n\u001b[1;32m--> 118\u001b[0m \u001b[39mreturn\u001b[39;00m fn(\u001b[39m*\u001b[39margs, \u001b[39m*\u001b[39m\u001b[39m*\u001b[39mkwargs)\n",
      "File \u001b[1;32mc:\\Users\\ZIYAD\\anaconda3\\envs\\nlp\\lib\\site-packages\\huggingface_hub\\file_download.py:1344\u001b[0m, in \u001b[0;36mhf_hub_download\u001b[1;34m(repo_id, filename, subfolder, repo_type, revision, endpoint, library_name, library_version, cache_dir, local_dir, local_dir_use_symlinks, user_agent, force_download, force_filename, proxies, etag_timeout, resume_download, token, local_files_only, legacy_cache_layout)\u001b[0m\n\u001b[0;32m   1342\u001b[0m \u001b[39melif\u001b[39;00m \u001b[39misinstance\u001b[39m(head_call_error, RepositoryNotFoundError) \u001b[39mor\u001b[39;00m \u001b[39misinstance\u001b[39m(head_call_error, GatedRepoError):\n\u001b[0;32m   1343\u001b[0m     \u001b[39m# Repo not found => let's raise the actual error\u001b[39;00m\n\u001b[1;32m-> 1344\u001b[0m     \u001b[39mraise\u001b[39;00m head_call_error\n\u001b[0;32m   1345\u001b[0m \u001b[39melse\u001b[39;00m:\n\u001b[0;32m   1346\u001b[0m     \u001b[39m# Otherwise: most likely a connection issue or Hub downtime => let's warn the user\u001b[39;00m\n",
      "File \u001b[1;32mc:\\Users\\ZIYAD\\anaconda3\\envs\\nlp\\lib\\site-packages\\huggingface_hub\\file_download.py:1230\u001b[0m, in \u001b[0;36mhf_hub_download\u001b[1;34m(repo_id, filename, subfolder, repo_type, revision, endpoint, library_name, library_version, cache_dir, local_dir, local_dir_use_symlinks, user_agent, force_download, force_filename, proxies, etag_timeout, resume_download, token, local_files_only, legacy_cache_layout)\u001b[0m\n\u001b[0;32m   1229\u001b[0m \u001b[39mtry\u001b[39;00m:\n\u001b[1;32m-> 1230\u001b[0m     metadata \u001b[39m=\u001b[39m get_hf_file_metadata(\n\u001b[0;32m   1231\u001b[0m         url\u001b[39m=\u001b[39;49murl,\n\u001b[0;32m   1232\u001b[0m         token\u001b[39m=\u001b[39;49mtoken,\n\u001b[0;32m   1233\u001b[0m         proxies\u001b[39m=\u001b[39;49mproxies,\n\u001b[0;32m   1234\u001b[0m         timeout\u001b[39m=\u001b[39;49metag_timeout,\n\u001b[0;32m   1235\u001b[0m     )\n\u001b[0;32m   1236\u001b[0m \u001b[39mexcept\u001b[39;00m EntryNotFoundError \u001b[39mas\u001b[39;00m http_error:\n\u001b[0;32m   1237\u001b[0m     \u001b[39m# Cache the non-existence of the file and raise\u001b[39;00m\n",
      "File \u001b[1;32mc:\\Users\\ZIYAD\\anaconda3\\envs\\nlp\\lib\\site-packages\\huggingface_hub\\utils\\_validators.py:118\u001b[0m, in \u001b[0;36mvalidate_hf_hub_args.<locals>._inner_fn\u001b[1;34m(*args, **kwargs)\u001b[0m\n\u001b[0;32m    116\u001b[0m     kwargs \u001b[39m=\u001b[39m smoothly_deprecate_use_auth_token(fn_name\u001b[39m=\u001b[39mfn\u001b[39m.\u001b[39m\u001b[39m__name__\u001b[39m, has_token\u001b[39m=\u001b[39mhas_token, kwargs\u001b[39m=\u001b[39mkwargs)\n\u001b[1;32m--> 118\u001b[0m \u001b[39mreturn\u001b[39;00m fn(\u001b[39m*\u001b[39margs, \u001b[39m*\u001b[39m\u001b[39m*\u001b[39mkwargs)\n",
      "File \u001b[1;32mc:\\Users\\ZIYAD\\anaconda3\\envs\\nlp\\lib\\site-packages\\huggingface_hub\\file_download.py:1606\u001b[0m, in \u001b[0;36mget_hf_file_metadata\u001b[1;34m(url, token, proxies, timeout)\u001b[0m\n\u001b[0;32m   1597\u001b[0m r \u001b[39m=\u001b[39m _request_wrapper(\n\u001b[0;32m   1598\u001b[0m     method\u001b[39m=\u001b[39m\u001b[39m\"\u001b[39m\u001b[39mHEAD\u001b[39m\u001b[39m\"\u001b[39m,\n\u001b[0;32m   1599\u001b[0m     url\u001b[39m=\u001b[39murl,\n\u001b[1;32m   (...)\u001b[0m\n\u001b[0;32m   1604\u001b[0m     timeout\u001b[39m=\u001b[39mtimeout,\n\u001b[0;32m   1605\u001b[0m )\n\u001b[1;32m-> 1606\u001b[0m hf_raise_for_status(r)\n\u001b[0;32m   1608\u001b[0m \u001b[39m# Return\u001b[39;00m\n",
      "File \u001b[1;32mc:\\Users\\ZIYAD\\anaconda3\\envs\\nlp\\lib\\site-packages\\huggingface_hub\\utils\\_errors.py:277\u001b[0m, in \u001b[0;36mhf_raise_for_status\u001b[1;34m(response, endpoint_name)\u001b[0m\n\u001b[0;32m    274\u001b[0m     message \u001b[39m=\u001b[39m (\n\u001b[0;32m    275\u001b[0m         \u001b[39mf\u001b[39m\u001b[39m\"\u001b[39m\u001b[39m{\u001b[39;00mresponse\u001b[39m.\u001b[39mstatus_code\u001b[39m}\u001b[39;00m\u001b[39m Client Error.\u001b[39m\u001b[39m\"\u001b[39m \u001b[39m+\u001b[39m \u001b[39m\"\u001b[39m\u001b[39m\\n\u001b[39;00m\u001b[39m\\n\u001b[39;00m\u001b[39m\"\u001b[39m \u001b[39m+\u001b[39m \u001b[39mf\u001b[39m\u001b[39m\"\u001b[39m\u001b[39mCannot access gated repo for url \u001b[39m\u001b[39m{\u001b[39;00mresponse\u001b[39m.\u001b[39murl\u001b[39m}\u001b[39;00m\u001b[39m.\u001b[39m\u001b[39m\"\u001b[39m\n\u001b[0;32m    276\u001b[0m     )\n\u001b[1;32m--> 277\u001b[0m     \u001b[39mraise\u001b[39;00m GatedRepoError(message, response) \u001b[39mfrom\u001b[39;00m \u001b[39me\u001b[39;00m\n\u001b[0;32m    279\u001b[0m \u001b[39melif\u001b[39;00m error_code \u001b[39m==\u001b[39m \u001b[39m\"\u001b[39m\u001b[39mRepoNotFound\u001b[39m\u001b[39m\"\u001b[39m \u001b[39mor\u001b[39;00m response\u001b[39m.\u001b[39mstatus_code \u001b[39m==\u001b[39m \u001b[39m401\u001b[39m:\n\u001b[0;32m    280\u001b[0m     \u001b[39m# 401 is misleading as it is returned for:\u001b[39;00m\n\u001b[0;32m    281\u001b[0m     \u001b[39m#    - private and gated repos if user is not authenticated\u001b[39;00m\n\u001b[0;32m    282\u001b[0m     \u001b[39m#    - missing repos\u001b[39;00m\n\u001b[0;32m    283\u001b[0m     \u001b[39m# => for now, we process them as `RepoNotFound` anyway.\u001b[39;00m\n\u001b[0;32m    284\u001b[0m     \u001b[39m# See https://gist.github.com/Wauplin/46c27ad266b15998ce56a6603796f0b9\u001b[39;00m\n",
      "\u001b[1;31mGatedRepoError\u001b[0m: 403 Client Error. (Request ID: Root=1-653029f4-2db6d7e528554cad02c6e346;c30a518c-6016-48eb-a41b-81cb01ffda46)\n\nCannot access gated repo for url https://huggingface.co/ahotrod/deberta-v3-large-finetuned-squadv2/resolve/main/config.json.\nAccess to model ahotrod/deberta-v3-large-finetuned-squadv2 is restricted and you are not in the authorized list. Visit https://huggingface.co/ahotrod/deberta-v3-large-finetuned-squadv2 to ask for access.",
      "\nDuring handling of the above exception, another exception occurred:\n",
      "\u001b[1;31mOSError\u001b[0m                                   Traceback (most recent call last)",
      "\u001b[1;32mc:\\Users\\ZIYAD\\Desktop\\pfe\\test6wiki.ipynb Cell 31\u001b[0m line \u001b[0;36m5\n\u001b[0;32m      <a href='vscode-notebook-cell:/c%3A/Users/ZIYAD/Desktop/pfe/test6wiki.ipynb#X42sZmlsZQ%3D%3D?line=0'>1</a>\u001b[0m \u001b[39mfrom\u001b[39;00m \u001b[39mtransformers\u001b[39;00m \u001b[39mimport\u001b[39;00m  pipeline\n\u001b[0;32m      <a href='vscode-notebook-cell:/c%3A/Users/ZIYAD/Desktop/pfe/test6wiki.ipynb#X42sZmlsZQ%3D%3D?line=2'>3</a>\u001b[0m model_name \u001b[39m=\u001b[39m \u001b[39m\"\u001b[39m\u001b[39mahotrod/deberta-v3-large-finetuned-squadv2\u001b[39m\u001b[39m\"\u001b[39m\n\u001b[1;32m----> <a href='vscode-notebook-cell:/c%3A/Users/ZIYAD/Desktop/pfe/test6wiki.ipynb#X42sZmlsZQ%3D%3D?line=4'>5</a>\u001b[0m nlp5 \u001b[39m=\u001b[39m pipeline(\u001b[39m'\u001b[39;49m\u001b[39mquestion-answering\u001b[39;49m\u001b[39m'\u001b[39;49m, model\u001b[39m=\u001b[39;49mmodel_name, tokenizer\u001b[39m=\u001b[39;49mmodel_name,device\u001b[39m=\u001b[39;49m\u001b[39m\"\u001b[39;49m\u001b[39mcuda:0\u001b[39;49m\u001b[39m\"\u001b[39;49m)\n",
      "File \u001b[1;32mc:\\Users\\ZIYAD\\anaconda3\\envs\\nlp\\lib\\site-packages\\transformers\\pipelines\\__init__.py:705\u001b[0m, in \u001b[0;36mpipeline\u001b[1;34m(task, model, config, tokenizer, feature_extractor, image_processor, framework, revision, use_fast, use_auth_token, device, device_map, torch_dtype, trust_remote_code, model_kwargs, pipeline_class, **kwargs)\u001b[0m\n\u001b[0;32m    703\u001b[0m     hub_kwargs[\u001b[39m\"\u001b[39m\u001b[39m_commit_hash\u001b[39m\u001b[39m\"\u001b[39m] \u001b[39m=\u001b[39m config\u001b[39m.\u001b[39m_commit_hash\n\u001b[0;32m    704\u001b[0m \u001b[39melif\u001b[39;00m config \u001b[39mis\u001b[39;00m \u001b[39mNone\u001b[39;00m \u001b[39mand\u001b[39;00m \u001b[39misinstance\u001b[39m(model, \u001b[39mstr\u001b[39m):\n\u001b[1;32m--> 705\u001b[0m     config \u001b[39m=\u001b[39m AutoConfig\u001b[39m.\u001b[39mfrom_pretrained(model, _from_pipeline\u001b[39m=\u001b[39mtask, \u001b[39m*\u001b[39m\u001b[39m*\u001b[39mhub_kwargs, \u001b[39m*\u001b[39m\u001b[39m*\u001b[39mmodel_kwargs)\n\u001b[0;32m    706\u001b[0m     hub_kwargs[\u001b[39m\"\u001b[39m\u001b[39m_commit_hash\u001b[39m\u001b[39m\"\u001b[39m] \u001b[39m=\u001b[39m config\u001b[39m.\u001b[39m_commit_hash\n\u001b[0;32m    708\u001b[0m custom_tasks \u001b[39m=\u001b[39m {}\n",
      "File \u001b[1;32mc:\\Users\\ZIYAD\\anaconda3\\envs\\nlp\\lib\\site-packages\\transformers\\models\\auto\\configuration_auto.py:944\u001b[0m, in \u001b[0;36mAutoConfig.from_pretrained\u001b[1;34m(cls, pretrained_model_name_or_path, **kwargs)\u001b[0m\n\u001b[0;32m    942\u001b[0m kwargs[\u001b[39m\"\u001b[39m\u001b[39mname_or_path\u001b[39m\u001b[39m\"\u001b[39m] \u001b[39m=\u001b[39m pretrained_model_name_or_path\n\u001b[0;32m    943\u001b[0m trust_remote_code \u001b[39m=\u001b[39m kwargs\u001b[39m.\u001b[39mpop(\u001b[39m\"\u001b[39m\u001b[39mtrust_remote_code\u001b[39m\u001b[39m\"\u001b[39m, \u001b[39mNone\u001b[39;00m)\n\u001b[1;32m--> 944\u001b[0m config_dict, unused_kwargs \u001b[39m=\u001b[39m PretrainedConfig\u001b[39m.\u001b[39mget_config_dict(pretrained_model_name_or_path, \u001b[39m*\u001b[39m\u001b[39m*\u001b[39mkwargs)\n\u001b[0;32m    945\u001b[0m has_remote_code \u001b[39m=\u001b[39m \u001b[39m\"\u001b[39m\u001b[39mauto_map\u001b[39m\u001b[39m\"\u001b[39m \u001b[39min\u001b[39;00m config_dict \u001b[39mand\u001b[39;00m \u001b[39m\"\u001b[39m\u001b[39mAutoConfig\u001b[39m\u001b[39m\"\u001b[39m \u001b[39min\u001b[39;00m config_dict[\u001b[39m\"\u001b[39m\u001b[39mauto_map\u001b[39m\u001b[39m\"\u001b[39m]\n\u001b[0;32m    946\u001b[0m has_local_code \u001b[39m=\u001b[39m \u001b[39m\"\u001b[39m\u001b[39mmodel_type\u001b[39m\u001b[39m\"\u001b[39m \u001b[39min\u001b[39;00m config_dict \u001b[39mand\u001b[39;00m config_dict[\u001b[39m\"\u001b[39m\u001b[39mmodel_type\u001b[39m\u001b[39m\"\u001b[39m] \u001b[39min\u001b[39;00m CONFIG_MAPPING\n",
      "File \u001b[1;32mc:\\Users\\ZIYAD\\anaconda3\\envs\\nlp\\lib\\site-packages\\transformers\\configuration_utils.py:574\u001b[0m, in \u001b[0;36mPretrainedConfig.get_config_dict\u001b[1;34m(cls, pretrained_model_name_or_path, **kwargs)\u001b[0m\n\u001b[0;32m    572\u001b[0m original_kwargs \u001b[39m=\u001b[39m copy\u001b[39m.\u001b[39mdeepcopy(kwargs)\n\u001b[0;32m    573\u001b[0m \u001b[39m# Get config dict associated with the base config file\u001b[39;00m\n\u001b[1;32m--> 574\u001b[0m config_dict, kwargs \u001b[39m=\u001b[39m \u001b[39mcls\u001b[39m\u001b[39m.\u001b[39m_get_config_dict(pretrained_model_name_or_path, \u001b[39m*\u001b[39m\u001b[39m*\u001b[39mkwargs)\n\u001b[0;32m    575\u001b[0m \u001b[39mif\u001b[39;00m \u001b[39m\"\u001b[39m\u001b[39m_commit_hash\u001b[39m\u001b[39m\"\u001b[39m \u001b[39min\u001b[39;00m config_dict:\n\u001b[0;32m    576\u001b[0m     original_kwargs[\u001b[39m\"\u001b[39m\u001b[39m_commit_hash\u001b[39m\u001b[39m\"\u001b[39m] \u001b[39m=\u001b[39m config_dict[\u001b[39m\"\u001b[39m\u001b[39m_commit_hash\u001b[39m\u001b[39m\"\u001b[39m]\n",
      "File \u001b[1;32mc:\\Users\\ZIYAD\\anaconda3\\envs\\nlp\\lib\\site-packages\\transformers\\configuration_utils.py:629\u001b[0m, in \u001b[0;36mPretrainedConfig._get_config_dict\u001b[1;34m(cls, pretrained_model_name_or_path, **kwargs)\u001b[0m\n\u001b[0;32m    625\u001b[0m configuration_file \u001b[39m=\u001b[39m kwargs\u001b[39m.\u001b[39mpop(\u001b[39m\"\u001b[39m\u001b[39m_configuration_file\u001b[39m\u001b[39m\"\u001b[39m, CONFIG_NAME)\n\u001b[0;32m    627\u001b[0m \u001b[39mtry\u001b[39;00m:\n\u001b[0;32m    628\u001b[0m     \u001b[39m# Load from local folder or from cache or download from model Hub and cache\u001b[39;00m\n\u001b[1;32m--> 629\u001b[0m     resolved_config_file \u001b[39m=\u001b[39m cached_file(\n\u001b[0;32m    630\u001b[0m         pretrained_model_name_or_path,\n\u001b[0;32m    631\u001b[0m         configuration_file,\n\u001b[0;32m    632\u001b[0m         cache_dir\u001b[39m=\u001b[39;49mcache_dir,\n\u001b[0;32m    633\u001b[0m         force_download\u001b[39m=\u001b[39;49mforce_download,\n\u001b[0;32m    634\u001b[0m         proxies\u001b[39m=\u001b[39;49mproxies,\n\u001b[0;32m    635\u001b[0m         resume_download\u001b[39m=\u001b[39;49mresume_download,\n\u001b[0;32m    636\u001b[0m         local_files_only\u001b[39m=\u001b[39;49mlocal_files_only,\n\u001b[0;32m    637\u001b[0m         use_auth_token\u001b[39m=\u001b[39;49muse_auth_token,\n\u001b[0;32m    638\u001b[0m         user_agent\u001b[39m=\u001b[39;49muser_agent,\n\u001b[0;32m    639\u001b[0m         revision\u001b[39m=\u001b[39;49mrevision,\n\u001b[0;32m    640\u001b[0m         subfolder\u001b[39m=\u001b[39;49msubfolder,\n\u001b[0;32m    641\u001b[0m         _commit_hash\u001b[39m=\u001b[39;49mcommit_hash,\n\u001b[0;32m    642\u001b[0m     )\n\u001b[0;32m    643\u001b[0m     commit_hash \u001b[39m=\u001b[39m extract_commit_hash(resolved_config_file, commit_hash)\n\u001b[0;32m    644\u001b[0m \u001b[39mexcept\u001b[39;00m \u001b[39mEnvironmentError\u001b[39;00m:\n\u001b[0;32m    645\u001b[0m     \u001b[39m# Raise any environment error raise by `cached_file`. It will have a helpful error message adapted to\u001b[39;00m\n\u001b[0;32m    646\u001b[0m     \u001b[39m# the original exception.\u001b[39;00m\n",
      "File \u001b[1;32mc:\\Users\\ZIYAD\\anaconda3\\envs\\nlp\\lib\\site-packages\\transformers\\utils\\hub.py:433\u001b[0m, in \u001b[0;36mcached_file\u001b[1;34m(path_or_repo_id, filename, cache_dir, force_download, resume_download, proxies, use_auth_token, revision, local_files_only, subfolder, repo_type, user_agent, _raise_exceptions_for_missing_entries, _raise_exceptions_for_connection_errors, _commit_hash)\u001b[0m\n\u001b[0;32m    417\u001b[0m     resolved_file \u001b[39m=\u001b[39m hf_hub_download(\n\u001b[0;32m    418\u001b[0m         path_or_repo_id,\n\u001b[0;32m    419\u001b[0m         filename,\n\u001b[1;32m   (...)\u001b[0m\n\u001b[0;32m    429\u001b[0m         local_files_only\u001b[39m=\u001b[39mlocal_files_only,\n\u001b[0;32m    430\u001b[0m     )\n\u001b[0;32m    432\u001b[0m \u001b[39mexcept\u001b[39;00m RepositoryNotFoundError:\n\u001b[1;32m--> 433\u001b[0m     \u001b[39mraise\u001b[39;00m \u001b[39mEnvironmentError\u001b[39;00m(\n\u001b[0;32m    434\u001b[0m         \u001b[39mf\u001b[39m\u001b[39m\"\u001b[39m\u001b[39m{\u001b[39;00mpath_or_repo_id\u001b[39m}\u001b[39;00m\u001b[39m is not a local folder and is not a valid model identifier \u001b[39m\u001b[39m\"\u001b[39m\n\u001b[0;32m    435\u001b[0m         \u001b[39m\"\u001b[39m\u001b[39mlisted on \u001b[39m\u001b[39m'\u001b[39m\u001b[39mhttps://huggingface.co/models\u001b[39m\u001b[39m'\u001b[39m\u001b[39m\\n\u001b[39;00m\u001b[39mIf this is a private repository, make sure to \u001b[39m\u001b[39m\"\u001b[39m\n\u001b[0;32m    436\u001b[0m         \u001b[39m\"\u001b[39m\u001b[39mpass a token having permission to this repo with `use_auth_token` or log in with \u001b[39m\u001b[39m\"\u001b[39m\n\u001b[0;32m    437\u001b[0m         \u001b[39m\"\u001b[39m\u001b[39m`huggingface-cli login` and pass `use_auth_token=True`.\u001b[39m\u001b[39m\"\u001b[39m\n\u001b[0;32m    438\u001b[0m     )\n\u001b[0;32m    439\u001b[0m \u001b[39mexcept\u001b[39;00m RevisionNotFoundError:\n\u001b[0;32m    440\u001b[0m     \u001b[39mraise\u001b[39;00m \u001b[39mEnvironmentError\u001b[39;00m(\n\u001b[0;32m    441\u001b[0m         \u001b[39mf\u001b[39m\u001b[39m\"\u001b[39m\u001b[39m{\u001b[39;00mrevision\u001b[39m}\u001b[39;00m\u001b[39m is not a valid git identifier (branch name, tag name or commit id) that exists \u001b[39m\u001b[39m\"\u001b[39m\n\u001b[0;32m    442\u001b[0m         \u001b[39m\"\u001b[39m\u001b[39mfor this model name. Check the model page at \u001b[39m\u001b[39m\"\u001b[39m\n\u001b[0;32m    443\u001b[0m         \u001b[39mf\u001b[39m\u001b[39m\"\u001b[39m\u001b[39m'\u001b[39m\u001b[39mhttps://huggingface.co/\u001b[39m\u001b[39m{\u001b[39;00mpath_or_repo_id\u001b[39m}\u001b[39;00m\u001b[39m'\u001b[39m\u001b[39m for available revisions.\u001b[39m\u001b[39m\"\u001b[39m\n\u001b[0;32m    444\u001b[0m     )\n",
      "\u001b[1;31mOSError\u001b[0m: ahotrod/deberta-v3-large-finetuned-squadv2 is not a local folder and is not a valid model identifier listed on 'https://huggingface.co/models'\nIf this is a private repository, make sure to pass a token having permission to this repo with `use_auth_token` or log in with `huggingface-cli login` and pass `use_auth_token=True`."
     ]
    }
   ],
   "source": [
    "from transformers import  pipeline\n",
    "\n",
    "model_name = \"ahotrod/deberta-v3-large-finetuned-squadv2\"\n",
    "\n",
    "nlp5 = pipeline('question-answering', model=model_name, tokenizer=model_name,device=\"cuda:0\")"
   ]
  },
  {
   "cell_type": "code",
   "execution_count": 10,
   "metadata": {},
   "outputs": [],
   "source": [
    "from transformers import  pipeline\n",
    "\n",
    "model_name = \"timpal0l/mdeberta-v3-base-squad2\"\n",
    "\n",
    "nlp5 = pipeline('question-answering', model=model_name, tokenizer=model_name,device=\"cuda:0\")"
   ]
  },
  {
   "cell_type": "code",
   "execution_count": 11,
   "metadata": {},
   "outputs": [
    {
     "data": {
      "text/plain": [
       "{'score': 0.04268157482147217,\n",
       " 'start': 461,\n",
       " 'end': 472,\n",
       " 'answer': ' Democratic'}"
      ]
     },
     "execution_count": 11,
     "metadata": {},
     "output_type": "execute_result"
    }
   ],
   "source": [
    "nlp5({'question': 'Are Philip Cortez and Julian Castro democratic or republican?','context':'Joaquin Castro (born September 16, 1974)[1] is an American lawyer and Democratic politician who has represented Texas s 20th congressional district in the United States House of Representatives since 2013. The district includes just over half of his native San Antonio. He currently serves on the United States House Committee on Foreign Affairs and the United States House Permanent Select Committee on Intelligence. Philip Adam Cortez (born July 7, 1978) is a Democratic member of the Texas House of Representatives. He previously served as a State Representative for House District 117 during the 83rd Legislative Session. From 2007 to 2012, he was a member of the nominally nonpartisan San Antonio City Council, on which he was a firm ally of then Mayor Julian Castro.'})"
   ]
  },
  {
   "cell_type": "code",
   "execution_count": 11,
   "metadata": {},
   "outputs": [],
   "source": [
    "#fonction that return aswer from question\n",
    "def get_answer(question):\n",
    "    \n",
    "    question_embedding = get_embeddings([question]).cpu().detach().numpy()\n",
    "    scores, samples = embeddings_dataset.get_nearest_examples(\n",
    "        \"embeddings\", question_embedding, k=3\n",
    "    )\n",
    "\n",
    "    samples_df = pd.DataFrame.from_dict(samples)\n",
    "    samples_df[\"scores\"] = scores\n",
    "    samples_df.sort_values(\"scores\", ascending=True, inplace=True)\n",
    "    print(samples_df)\n",
    "\n",
    "    texts=[]\n",
    "    urls=[]\n",
    "\n",
    "    #loop samples_df and get text and url\n",
    "    for i in range(len(samples_df)):\n",
    "        texts.append(samples_df['text'][i])\n",
    "        urls.append(samples_df['url'][i])\n",
    "\n",
    "\n",
    "    data={'url':[],'text':[],'cosin':[]}\n",
    "\n",
    "    bestcosin=0\n",
    "    #loop texts and get best chunk\n",
    "    for i in range(len(texts)):\n",
    "        chunks=get_best_chunk(question, texts[i])\n",
    "        for c in range(len(chunks)):\n",
    "            data['url'].append(urls[i])\n",
    "            data['text'].append(chunks['chunks'][c])\n",
    "            data['cosin'].append(chunks['cosine_similarity'][c])\n",
    "\n",
    "    df=pd.DataFrame(data)\n",
    "    df=df.sort_values(\"cosin\", ascending=False)\n",
    "    df=df[:3]\n",
    "    df=df.reset_index(drop=True)\n",
    "\n",
    "    #add answer and score to df\n",
    "    df['answer']=None\n",
    "    df['score']=None\n",
    "    #loop df and get answer and add to df\n",
    "    for i in range(len(df)):\n",
    "        answer=nlp5({'question': question,'context':df['text'][i]})\n",
    "        df['answer'][i]=answer['answer']\n",
    "        df['score'][i]=answer['score']\n",
    "\n",
    "    df=df.sort_values(\"score\", ascending=False)\n",
    "    df=df.reset_index(drop=True)\n",
    "    return df\n"
   ]
  },
  {
   "cell_type": "code",
   "execution_count": 18,
   "metadata": {},
   "outputs": [
    {
     "name": "stdout",
     "output_type": "stream",
     "text": [
      "                                              chunks  cosine_similarity\n",
      "0   This is a list of governors of the US state o...           0.477970\n",
      "1  ndidate for President in the 2020 election.\\n\\...           0.358247\n"
     ]
    },
    {
     "data": {
      "text/plain": [
       "{'score': 3.0593560040870216e-07,\n",
       " 'start': 247,\n",
       " 'end': 261,\n",
       " 'answer': '\\nJulián Castro'}"
      ]
     },
     "execution_count": 18,
     "metadata": {},
     "output_type": "execute_result"
    }
   ],
   "source": [
    "#test\n",
    "#get_answer(\"Are Philip Cortez and Julian Castro democratic or republican?\")"
   ]
  },
  {
   "cell_type": "code",
   "execution_count": 45,
   "metadata": {},
   "outputs": [
    {
     "name": "stdout",
     "output_type": "stream",
     "text": [
      "                    title                                               text  \\\n",
      "0  Real Madrid Baloncesto  Real Madrid is a Spanish basketball team. It w...   \n",
      "1          Real Madrid CF  Real Madrid Club de Fútbol, sometimes known as...   \n",
      "2   UEFA Champions League  The UEFA Champions League, or simply known as ...   \n",
      "\n",
      "                                          embeddings  \\\n",
      "0  [-0.1337927132844925, -0.7068763375282288, -0....   \n",
      "1  [0.14901407063007355, -0.37427371740341187, -0...   \n",
      "2  [0.11697600036859512, -0.498771995306015, -0.0...   \n",
      "\n",
      "                                                 url     scores  \n",
      "0  https://simple.wikipedia.org/wiki/Real%20Madri...  24.676620  \n",
      "1  https://simple.wikipedia.org/wiki/Real%20Madri...  27.138458  \n",
      "2  https://simple.wikipedia.org/wiki/UEFA%20Champ...  35.885277  \n",
      "                                              chunks  cosine_similarity\n",
      "0  Real Madrid is a Spanish basketball team. It w...           0.682313\n",
      "1   continental crown. The success of that season...           0.662425\n",
      "3  71/72 1972/73 1973/74 1974/75 1976/77 1984/85 ...           0.594466\n",
      "2  7 1957/58 1959/60 1960/61 1961/62 1962/63 1963...           0.551389\n",
      "4  ternational Christmas tournaments (Campeón Tor...           0.501081\n",
      "5  website: www.realmadrid.com\\n\\n Head of Operat...           0.371682\n",
      "                                              chunks  cosine_similarity\n",
      "0  Real Madrid Club de Fútbol, sometimes known as...           0.729312\n",
      "1  f any team in the league. It has also won the ...           0.713740\n",
      "2   history by becoming the first club in recent ...           0.713035\n",
      "6  ened. Real is the world's most valuable club. ...           0.650945\n",
      "5  s crest has been changed several times in atte...           0.633974\n",
      "3  club, the Santiago Bernabéu Stadium and the Ci...           0.572565\n",
      "7   are known as \"Madrid Derby\". A strong rivalry...           0.558975\n",
      "4  anish Super Cups.\\n\\nThe club has bought and h...           0.304161\n",
      "                                              chunks  cosine_similarity\n",
      "1  : the Spanish League can get 4 Spanish clubs i...           0.759527\n",
      "2  ns League. 12 clubs won it more than once: Rea...           0.501387\n",
      "0  The UEFA Champions League, or simply known as ...           0.469883\n",
      "3                           establishments in Europe           0.224853\n"
     ]
    },
    {
     "name": "stderr",
     "output_type": "stream",
     "text": [
      "c:\\Users\\ZIYAD\\anaconda3\\envs\\nlp\\lib\\site-packages\\transformers\\pipelines\\base.py:1081: UserWarning: You seem to be using the pipelines sequentially on GPU. In order to maximize efficiency please use a dataset\n",
      "  warnings.warn(\n",
      "C:\\Users\\ZIYAD\\AppData\\Local\\Temp\\ipykernel_21244\\452147388.py:45: SettingWithCopyWarning: \n",
      "A value is trying to be set on a copy of a slice from a DataFrame\n",
      "\n",
      "See the caveats in the documentation: https://pandas.pydata.org/pandas-docs/stable/user_guide/indexing.html#returning-a-view-versus-a-copy\n",
      "  df['answer'][i]=answer['answer']\n",
      "C:\\Users\\ZIYAD\\AppData\\Local\\Temp\\ipykernel_21244\\452147388.py:46: SettingWithCopyWarning: \n",
      "A value is trying to be set on a copy of a slice from a DataFrame\n",
      "\n",
      "See the caveats in the documentation: https://pandas.pydata.org/pandas-docs/stable/user_guide/indexing.html#returning-a-view-versus-a-copy\n",
      "  df['score'][i]=answer['score']\n"
     ]
    },
    {
     "data": {
      "text/html": [
       "<div>\n",
       "<style scoped>\n",
       "    .dataframe tbody tr th:only-of-type {\n",
       "        vertical-align: middle;\n",
       "    }\n",
       "\n",
       "    .dataframe tbody tr th {\n",
       "        vertical-align: top;\n",
       "    }\n",
       "\n",
       "    .dataframe thead th {\n",
       "        text-align: right;\n",
       "    }\n",
       "</style>\n",
       "<table border=\"1\" class=\"dataframe\">\n",
       "  <thead>\n",
       "    <tr style=\"text-align: right;\">\n",
       "      <th></th>\n",
       "      <th>url</th>\n",
       "      <th>text</th>\n",
       "      <th>cosin</th>\n",
       "      <th>answer</th>\n",
       "      <th>score</th>\n",
       "    </tr>\n",
       "  </thead>\n",
       "  <tbody>\n",
       "    <tr>\n",
       "      <th>0</th>\n",
       "      <td>https://simple.wikipedia.org/wiki/Real%20Madri...</td>\n",
       "      <td>Real Madrid Club de Fútbol, sometimes known as...</td>\n",
       "      <td>0.729312</td>\n",
       "      <td>13 times</td>\n",
       "      <td>0.411439</td>\n",
       "    </tr>\n",
       "    <tr>\n",
       "      <th>1</th>\n",
       "      <td>https://simple.wikipedia.org/wiki/Real%20Madri...</td>\n",
       "      <td>f any team in the league. It has also won the ...</td>\n",
       "      <td>0.713740</td>\n",
       "      <td>13 times</td>\n",
       "      <td>0.403332</td>\n",
       "    </tr>\n",
       "    <tr>\n",
       "      <th>2</th>\n",
       "      <td>https://simple.wikipedia.org/wiki/UEFA%20Champ...</td>\n",
       "      <td>: the Spanish League can get 4 Spanish clubs i...</td>\n",
       "      <td>0.759527</td>\n",
       "      <td>\\nReal Madrid won the Champions League the fir...</td>\n",
       "      <td>0.106158</td>\n",
       "    </tr>\n",
       "  </tbody>\n",
       "</table>\n",
       "</div>"
      ],
      "text/plain": [
       "                                                 url  \\\n",
       "0  https://simple.wikipedia.org/wiki/Real%20Madri...   \n",
       "1  https://simple.wikipedia.org/wiki/Real%20Madri...   \n",
       "2  https://simple.wikipedia.org/wiki/UEFA%20Champ...   \n",
       "\n",
       "                                                text     cosin  \\\n",
       "0  Real Madrid Club de Fútbol, sometimes known as...  0.729312   \n",
       "1  f any team in the league. It has also won the ...  0.713740   \n",
       "2  : the Spanish League can get 4 Spanish clubs i...  0.759527   \n",
       "\n",
       "                                              answer     score  \n",
       "0                                           13 times  0.411439  \n",
       "1                                           13 times  0.403332  \n",
       "2  \\nReal Madrid won the Champions League the fir...  0.106158  "
      ]
     },
     "execution_count": 45,
     "metadata": {},
     "output_type": "execute_result"
    }
   ],
   "source": [
    "get_answer(question=\"how many champions league titles do real madrid have\")"
   ]
  },
  {
   "cell_type": "code",
   "execution_count": 12,
   "metadata": {},
   "outputs": [
    {
     "name": "stdout",
     "output_type": "stream",
     "text": [
      "Running on local URL:  http://127.0.0.1:7860\n",
      "\n",
      "To create a public link, set `share=True` in `launch()`.\n"
     ]
    },
    {
     "data": {
      "text/html": [
       "<div><iframe src=\"http://127.0.0.1:7860/\" width=\"100%\" height=\"500\" allow=\"autoplay; camera; microphone; clipboard-read; clipboard-write;\" frameborder=\"0\" allowfullscreen></iframe></div>"
      ],
      "text/plain": [
       "<IPython.core.display.HTML object>"
      ]
     },
     "metadata": {},
     "output_type": "display_data"
    },
    {
     "name": "stdout",
     "output_type": "stream",
     "text": [
      "what is frontend\n",
      "                 title                                               text  \\\n",
      "0  Microsoft FrontPage  Microsoft FrontPage (Full name: Microsoft Offi...   \n",
      "1      Front, Piedmont  Front is a comune in the Metropolitan City of ...   \n",
      "2            Main Page                                          Main Page   \n",
      "\n",
      "                                          embeddings  \\\n",
      "0  [0.17607411742210388, -0.6199272871017456, -0....   \n",
      "1  [-0.34117212891578674, -0.14416980743408203, -...   \n",
      "2  [-0.04009681195020676, -0.6099338531494141, -0...   \n",
      "\n",
      "                                                 url     scores  \n",
      "0  https://simple.wikipedia.org/wiki/Microsoft%20...  38.266357  \n",
      "1  https://simple.wikipedia.org/wiki/Front%2C%20P...  45.347778  \n",
      "2      https://simple.wikipedia.org/wiki/Main%20Page  46.578537  \n",
      "                                              chunks  cosine_similarity\n",
      "0  Microsoft FrontPage (Full name: Microsoft Offi...           0.585645\n",
      "2  itor. All versions of FrontPage are still in u...           0.507696\n",
      "1  ernet Explorer.  It was called FrontPage Expre...           0.498605\n",
      "                                              chunks  cosine_similarity\n",
      "0  Front is a comune in the Metropolitan City of ...           0.493024\n",
      "      chunks  cosine_similarity\n",
      "0  Main Page           0.415256\n"
     ]
    },
    {
     "name": "stderr",
     "output_type": "stream",
     "text": [
      "C:\\Users\\ZIYAD\\AppData\\Local\\Temp\\ipykernel_13632\\452147388.py:45: SettingWithCopyWarning: \n",
      "A value is trying to be set on a copy of a slice from a DataFrame\n",
      "\n",
      "See the caveats in the documentation: https://pandas.pydata.org/pandas-docs/stable/user_guide/indexing.html#returning-a-view-versus-a-copy\n",
      "  df['answer'][i]=answer['answer']\n",
      "C:\\Users\\ZIYAD\\AppData\\Local\\Temp\\ipykernel_13632\\452147388.py:46: SettingWithCopyWarning: \n",
      "A value is trying to be set on a copy of a slice from a DataFrame\n",
      "\n",
      "See the caveats in the documentation: https://pandas.pydata.org/pandas-docs/stable/user_guide/indexing.html#returning-a-view-versus-a-copy\n",
      "  df['score'][i]=answer['score']\n"
     ]
    },
    {
     "name": "stdout",
     "output_type": "stream",
     "text": [
      "                                                 url  \\\n",
      "0  https://simple.wikipedia.org/wiki/Microsoft%20...   \n",
      "1  https://simple.wikipedia.org/wiki/Microsoft%20...   \n",
      "2  https://simple.wikipedia.org/wiki/Microsoft%20...   \n",
      "\n",
      "                                                text     cosin  \\\n",
      "0  Microsoft FrontPage (Full name: Microsoft Offi...  0.585645   \n",
      "1  itor. All versions of FrontPage are still in u...  0.507696   \n",
      "2  ernet Explorer.  It was called FrontPage Expre...  0.498605   \n",
      "\n",
      "                                              answer     score  \n",
      "0  \\nFrontPage 98, FrontPage 2000, FrontPage 2002...   0.00023  \n",
      "1                                          FrontPage  0.000002  \n",
      "2                          \\nFrontPage is a WYSIWYG,       0.0  \n",
      "what is the capital of morocco\n",
      "                       title  \\\n",
      "0                    Morocco   \n",
      "1  List of cities in Morocco   \n",
      "2      Parliament of Morocco   \n",
      "\n",
      "                                                text  \\\n",
      "0  Kingdom of Morocco, or simply known as Morocco...   \n",
      "1  This is a list of cities in Morocco.\\n\\nTop te...   \n",
      "2  The Parliament of Morocco (; ; ) is the bicame...   \n",
      "\n",
      "                                          embeddings  \\\n",
      "0  [0.18846090137958527, -0.6916207671165466, -0....   \n",
      "1  [-0.16710436344146729, -0.3432353138923645, -0...   \n",
      "2  [0.19166351854801178, -0.6580348610877991, -0....   \n",
      "\n",
      "                                                 url     scores  \n",
      "0          https://simple.wikipedia.org/wiki/Morocco  29.155716  \n",
      "1  https://simple.wikipedia.org/wiki/List%20of%20...  31.442127  \n",
      "2  https://simple.wikipedia.org/wiki/Parliament%2...  31.698868  \n",
      "                                               chunks  cosine_similarity\n",
      "0   Kingdom of Morocco, or simply known as Morocco...           0.704252\n",
      "1   an and Mediterranean Sea.\\n\\nMorocco has a pop...           0.672944\n",
      "80  eraction of the population, like many other co...           0.672712\n",
      "57  the population lives to the north of these mou...           0.651012\n",
      "6   after consulting the Prime Minister and the pr...           0.605776\n",
      "..                                                ...                ...\n",
      "65  rranean regions of the country, along the (500...           0.299984\n",
      "11  m of Mauretania under king Baga. This ancient ...           0.295165\n",
      "8   e Aterian was succeeded by the Iberomaurusian ...           0.251897\n",
      "47  emblée des Répresentants) has 325 members elec...           0.233147\n",
      "48  wers, though still relatively limited, were ex...           0.183006\n",
      "\n",
      "[100 rows x 2 columns]\n",
      "                                              chunks  cosine_similarity\n",
      "0  This is a list of cities in Morocco.\\n\\nTop te...           0.603788\n",
      "                                              chunks  cosine_similarity\n",
      "0  The Parliament of Morocco (; ; ) is the bicame...           0.655219\n",
      "1                          f electoral colleges.\\n\\n           0.150811\n",
      "                                         url  \\\n",
      "0  https://simple.wikipedia.org/wiki/Morocco   \n",
      "1  https://simple.wikipedia.org/wiki/Morocco   \n",
      "2  https://simple.wikipedia.org/wiki/Morocco   \n",
      "\n",
      "                                                text     cosin  \\\n",
      "0  an and Mediterranean Sea.\\n\\nMorocco has a pop...  0.672944   \n",
      "1  eraction of the population, like many other co...  0.672712   \n",
      "2  Kingdom of Morocco, or simply known as Morocco...  0.704252   \n",
      "\n",
      "            answer     score  \n",
      "0           Rabat,  0.788194  \n",
      "1           Rabat.  0.539588  \n",
      "2   Its capital is  0.050095  \n"
     ]
    },
    {
     "name": "stderr",
     "output_type": "stream",
     "text": [
      "C:\\Users\\ZIYAD\\AppData\\Local\\Temp\\ipykernel_13632\\452147388.py:45: SettingWithCopyWarning: \n",
      "A value is trying to be set on a copy of a slice from a DataFrame\n",
      "\n",
      "See the caveats in the documentation: https://pandas.pydata.org/pandas-docs/stable/user_guide/indexing.html#returning-a-view-versus-a-copy\n",
      "  df['answer'][i]=answer['answer']\n",
      "C:\\Users\\ZIYAD\\AppData\\Local\\Temp\\ipykernel_13632\\452147388.py:46: SettingWithCopyWarning: \n",
      "A value is trying to be set on a copy of a slice from a DataFrame\n",
      "\n",
      "See the caveats in the documentation: https://pandas.pydata.org/pandas-docs/stable/user_guide/indexing.html#returning-a-view-versus-a-copy\n",
      "  df['score'][i]=answer['score']\n"
     ]
    },
    {
     "name": "stdout",
     "output_type": "stream",
     "text": [
      "what is the biggest city in morocco\n",
      "                       title  \\\n",
      "0  List of cities in Morocco   \n",
      "1                 Casablanca   \n",
      "2                  Marrakesh   \n",
      "\n",
      "                                                text  \\\n",
      "0  This is a list of cities in Morocco.\\n\\nTop te...   \n",
      "1  Casablanca (classical Arabic name: الدار البيض...   \n",
      "2  Marrakesh, or Marrakech (Berber: ; ) is an imp...   \n",
      "\n",
      "                                          embeddings  \\\n",
      "0  [-0.16710436344146729, -0.3432353138923645, -0...   \n",
      "1  [0.06461459398269653, -0.05393270030617714, -0...   \n",
      "2  [0.010757671669125557, -0.1874203383922577, -0...   \n",
      "\n",
      "                                                 url     scores  \n",
      "0  https://simple.wikipedia.org/wiki/List%20of%20...  21.014048  \n",
      "1       https://simple.wikipedia.org/wiki/Casablanca  29.238096  \n",
      "2        https://simple.wikipedia.org/wiki/Marrakesh  32.022255  \n",
      "                                              chunks  cosine_similarity\n",
      "0  This is a list of cities in Morocco.\\n\\nTop te...           0.737036\n",
      "                                              chunks  cosine_similarity\n",
      "0  Casablanca (classical Arabic name: الدار البيض...           0.680874\n",
      "1                                         School\\n\\n           0.168063\n",
      "                                              chunks  cosine_similarity\n",
      "0  Marrakesh, or Marrakech (Berber: ; ) is an imp...           0.655045\n",
      "1  s. Abu Bakr ibn Umar, the chieftain and cousin...           0.553508\n",
      "2  ca.  The mayor of Marrakesh Fatima Zahra Manso...           0.549568\n",
      "3  ons from Marrakech, but in reality, you have m...           0.371261\n",
      "                                                 url  \\\n",
      "0  https://simple.wikipedia.org/wiki/List%20of%20...   \n",
      "1        https://simple.wikipedia.org/wiki/Marrakesh   \n",
      "2       https://simple.wikipedia.org/wiki/Casablanca   \n",
      "\n",
      "                                                text     cosin  \\\n",
      "0  This is a list of cities in Morocco.\\n\\nTop te...  0.737036   \n",
      "1  Marrakesh, or Marrakech (Berber: ; ) is an imp...  0.655045   \n",
      "2  Casablanca (classical Arabic name: الدار البيض...  0.680874   \n",
      "\n",
      "                                 answer     score  \n",
      "0  \\nTop ten largest metropolitan areas  0.306728  \n",
      "1   fourth largest city in the country.  0.196587  \n",
      "2                            Casablanca  0.179534  \n"
     ]
    },
    {
     "name": "stderr",
     "output_type": "stream",
     "text": [
      "C:\\Users\\ZIYAD\\AppData\\Local\\Temp\\ipykernel_13632\\452147388.py:45: SettingWithCopyWarning: \n",
      "A value is trying to be set on a copy of a slice from a DataFrame\n",
      "\n",
      "See the caveats in the documentation: https://pandas.pydata.org/pandas-docs/stable/user_guide/indexing.html#returning-a-view-versus-a-copy\n",
      "  df['answer'][i]=answer['answer']\n",
      "C:\\Users\\ZIYAD\\AppData\\Local\\Temp\\ipykernel_13632\\452147388.py:46: SettingWithCopyWarning: \n",
      "A value is trying to be set on a copy of a slice from a DataFrame\n",
      "\n",
      "See the caveats in the documentation: https://pandas.pydata.org/pandas-docs/stable/user_guide/indexing.html#returning-a-view-versus-a-copy\n",
      "  df['score'][i]=answer['score']\n"
     ]
    },
    {
     "name": "stdout",
     "output_type": "stream",
     "text": [
      "what time is it\n",
      "                     title                                               text  \\\n",
      "0  What Time Is It? (song)  What Time Is It? is a song off the soundtrack ...   \n",
      "1                Unix time  Current Unix time ()\\n\\nUnix time is the numbe...   \n",
      "2          List of decades                                        Time\\nLists   \n",
      "\n",
      "                                          embeddings  \\\n",
      "0  [-0.013414797373116016, -0.5996589660644531, -...   \n",
      "1  [-0.06989074498414993, -0.46772632002830505, -...   \n",
      "2  [-0.05519263818860054, -0.46785587072372437, -...   \n",
      "\n",
      "                                                 url     scores  \n",
      "0  https://simple.wikipedia.org/wiki/What%20Time%...  21.189009  \n",
      "1      https://simple.wikipedia.org/wiki/Unix%20time  29.940104  \n",
      "2  https://simple.wikipedia.org/wiki/List%20of%20...  30.745810  \n",
      "                                              chunks  cosine_similarity\n",
      "0  What Time Is It? is a song off the soundtrack ...           0.698192\n",
      "                                              chunks  cosine_similarity\n",
      "0  Current Unix time ()\\n\\nUnix time is the numbe...           0.624785\n",
      "        chunks  cosine_similarity\n",
      "0  Time\\nLists           0.577733\n"
     ]
    },
    {
     "name": "stderr",
     "output_type": "stream",
     "text": [
      "C:\\Users\\ZIYAD\\AppData\\Local\\Temp\\ipykernel_13632\\452147388.py:45: SettingWithCopyWarning: \n",
      "A value is trying to be set on a copy of a slice from a DataFrame\n",
      "\n",
      "See the caveats in the documentation: https://pandas.pydata.org/pandas-docs/stable/user_guide/indexing.html#returning-a-view-versus-a-copy\n",
      "  df['answer'][i]=answer['answer']\n",
      "C:\\Users\\ZIYAD\\AppData\\Local\\Temp\\ipykernel_13632\\452147388.py:46: SettingWithCopyWarning: \n",
      "A value is trying to be set on a copy of a slice from a DataFrame\n",
      "\n",
      "See the caveats in the documentation: https://pandas.pydata.org/pandas-docs/stable/user_guide/indexing.html#returning-a-view-versus-a-copy\n",
      "  df['score'][i]=answer['score']\n",
      "c:\\Users\\ZIYAD\\anaconda3\\envs\\nlp\\lib\\site-packages\\transformers\\pipelines\\base.py:1081: UserWarning: You seem to be using the pipelines sequentially on GPU. In order to maximize efficiency please use a dataset\n",
      "  warnings.warn(\n"
     ]
    },
    {
     "name": "stdout",
     "output_type": "stream",
     "text": [
      "                                                 url  \\\n",
      "0  https://simple.wikipedia.org/wiki/List%20of%20...   \n",
      "1      https://simple.wikipedia.org/wiki/Unix%20time   \n",
      "2  https://simple.wikipedia.org/wiki/What%20Time%...   \n",
      "\n",
      "                                                text     cosin  \\\n",
      "0                                        Time\\nLists  0.577733   \n",
      "1  Current Unix time ()\\n\\nUnix time is the numbe...  0.624785   \n",
      "2  What Time Is It? is a song off the soundtrack ...  0.698192   \n",
      "\n",
      "                                  answer     score  \n",
      "0                            Time\\nLists  0.694429  \n",
      "1   Tuesday 1 January 1970 00:00:00 UTC.  0.619102  \n",
      "2                 High School Musical 2.  0.346211  \n",
      "how many month in a year\n",
      "                title                                               text  \\\n",
      "0               Month  A month is an amount of time used with calenda...   \n",
      "1           Leap year  A leap year is a year in which an extra day is...   \n",
      "2  Gregorian calendar  The Gregorian calendar is the calendar that is...   \n",
      "\n",
      "                                          embeddings  \\\n",
      "0  [0.3631541430950165, -0.5463172793388367, -0.1...   \n",
      "1  [-0.06135418266057968, -0.16065260767936707, -...   \n",
      "2  [-0.07294318079948425, 0.11150304973125458, -0...   \n",
      "\n",
      "                                                 url     scores  \n",
      "0            https://simple.wikipedia.org/wiki/Month  28.517899  \n",
      "1      https://simple.wikipedia.org/wiki/Leap%20year  35.042694  \n",
      "2  https://simple.wikipedia.org/wiki/Gregorian%20...  36.941277  \n",
      "                                              chunks  cosine_similarity\n",
      "0  A month is an amount of time used with calenda...           0.654917\n",
      "1  ple, the Gregorian calendar of 365 or 366 days...           0.458586\n",
      "                                              chunks  cosine_similarity\n",
      "4  365 days where the month of February has 29 da...           0.663447\n",
      "0  A leap year is a year in which an extra day is...           0.564748\n",
      "3  ember 21 (which is when winter in the Northern...           0.556371\n",
      "1  the first day of the month, February 1.\\n\\nLea...           0.546724\n",
      "2  they are all divisible by 4.\\n\\nWe have leap y...           0.520946\n",
      "5  y 400 are leap years. All other years are comm...           0.417001\n",
      "                                               chunks  cosine_similarity\n",
      "4   divided by 400, but 1700, 1800, and 1900 would...           0.646232\n",
      "5   gust (31 days)\\n September (30 days)\\n October...           0.592885\n",
      "0   The Gregorian calendar is the calendar that is...           0.481818\n",
      "3   II declared that the calendar must skip ten da...           0.447792\n",
      "1   he Earth to go around the Sun once is closer t...           0.436382\n",
      "8    had a leap year in 1700 but the Gregorian cal...           0.395260\n",
      "10  e, so Russian Christmas Day is about two weeks...           0.380774\n",
      "12  s. This is because Britain did not start a new...           0.357592\n",
      "13  (OS). Using \"New Style\", as we determine dates...           0.355553\n",
      "2   the calendar that was wrong, not the earth's o...           0.346844\n",
      "7   e their movement.  Since the Great Schism, Eur...           0.328739\n",
      "9   ion started was now in November 1918.\\n\\nChurc...           0.314017\n",
      "11   1=1868, Taisho 1=1912, Showa (Emperor Hirohit...           0.313301\n",
      "6   uction only applied to the Catholic Church, co...           0.311260\n",
      "14   Gregorian calendar, with Old Style (or O.S.) ...           0.287918\n",
      "                                                 url  \\\n",
      "0            https://simple.wikipedia.org/wiki/Month   \n",
      "1  https://simple.wikipedia.org/wiki/Gregorian%20...   \n",
      "2      https://simple.wikipedia.org/wiki/Leap%20year   \n",
      "\n",
      "                                                text     cosin  \\\n",
      "0  A month is an amount of time used with calenda...  0.654917   \n",
      "1  divided by 400, but 1700, 1800, and 1900 would...  0.646232   \n",
      "2  365 days where the month of February has 29 da...  0.663447   \n",
      "\n",
      "                  answer     score  \n",
      "0      1/12th of a year.   0.29372  \n",
      "1        (28 or 29 days)  0.001314  \n",
      "2   February has 29 days  0.000522  \n"
     ]
    },
    {
     "name": "stderr",
     "output_type": "stream",
     "text": [
      "c:\\Users\\ZIYAD\\anaconda3\\envs\\nlp\\lib\\site-packages\\transformers\\pipelines\\base.py:1081: UserWarning: You seem to be using the pipelines sequentially on GPU. In order to maximize efficiency please use a dataset\n",
      "  warnings.warn(\n",
      "C:\\Users\\ZIYAD\\AppData\\Local\\Temp\\ipykernel_13632\\452147388.py:45: SettingWithCopyWarning: \n",
      "A value is trying to be set on a copy of a slice from a DataFrame\n",
      "\n",
      "See the caveats in the documentation: https://pandas.pydata.org/pandas-docs/stable/user_guide/indexing.html#returning-a-view-versus-a-copy\n",
      "  df['answer'][i]=answer['answer']\n",
      "C:\\Users\\ZIYAD\\AppData\\Local\\Temp\\ipykernel_13632\\452147388.py:46: SettingWithCopyWarning: \n",
      "A value is trying to be set on a copy of a slice from a DataFrame\n",
      "\n",
      "See the caveats in the documentation: https://pandas.pydata.org/pandas-docs/stable/user_guide/indexing.html#returning-a-view-versus-a-copy\n",
      "  df['score'][i]=answer['score']\n"
     ]
    },
    {
     "name": "stdout",
     "output_type": "stream",
     "text": [
      "how many days in a week\n",
      "               title                                               text  \\\n",
      "0               Week  A week is 7 days in connecting order. There ar...   \n",
      "1  Four-day workweek  A four-day workweek is a week that includes fo...   \n",
      "2             Sunday  Sunday is one of the seven days of the week. I...   \n",
      "\n",
      "                                          embeddings  \\\n",
      "0  [0.2063622623682022, -0.016888365149497986, -0...   \n",
      "1  [-0.1888708919286728, -0.058579280972480774, -...   \n",
      "2  [-0.10201727598905563, -0.08367466926574707, -...   \n",
      "\n",
      "                                                 url     scores  \n",
      "0             https://simple.wikipedia.org/wiki/Week  25.316826  \n",
      "1  https://simple.wikipedia.org/wiki/Four-day%20w...  29.046566  \n",
      "2           https://simple.wikipedia.org/wiki/Sunday  34.310143  \n",
      "                                              chunks  cosine_similarity\n",
      "0  A week is 7 days in connecting order. There ar...           0.765896\n",
      "1  nday are the weekend. Friday, Saturday, and Su...           0.608124\n",
      "                                              chunks  cosine_similarity\n",
      "0  A four-day workweek is a week that includes fo...           0.659169\n",
      "                                              chunks  cosine_similarity\n",
      "0  Sunday is one of the seven days of the week. I...           0.583498\n"
     ]
    },
    {
     "name": "stderr",
     "output_type": "stream",
     "text": [
      "c:\\Users\\ZIYAD\\anaconda3\\envs\\nlp\\lib\\site-packages\\transformers\\pipelines\\base.py:1081: UserWarning: You seem to be using the pipelines sequentially on GPU. In order to maximize efficiency please use a dataset\n",
      "  warnings.warn(\n",
      "C:\\Users\\ZIYAD\\AppData\\Local\\Temp\\ipykernel_13632\\452147388.py:45: SettingWithCopyWarning: \n",
      "A value is trying to be set on a copy of a slice from a DataFrame\n",
      "\n",
      "See the caveats in the documentation: https://pandas.pydata.org/pandas-docs/stable/user_guide/indexing.html#returning-a-view-versus-a-copy\n",
      "  df['answer'][i]=answer['answer']\n",
      "C:\\Users\\ZIYAD\\AppData\\Local\\Temp\\ipykernel_13632\\452147388.py:46: SettingWithCopyWarning: \n",
      "A value is trying to be set on a copy of a slice from a DataFrame\n",
      "\n",
      "See the caveats in the documentation: https://pandas.pydata.org/pandas-docs/stable/user_guide/indexing.html#returning-a-view-versus-a-copy\n",
      "  df['score'][i]=answer['score']\n"
     ]
    },
    {
     "name": "stdout",
     "output_type": "stream",
     "text": [
      "                                                 url  \\\n",
      "0             https://simple.wikipedia.org/wiki/Week   \n",
      "1  https://simple.wikipedia.org/wiki/Four-day%20w...   \n",
      "2             https://simple.wikipedia.org/wiki/Week   \n",
      "\n",
      "                                                text     cosin  \\\n",
      "0  A week is 7 days in connecting order. There ar...  0.765896   \n",
      "1  A four-day workweek is a week that includes fo...  0.659169   \n",
      "2  nday are the weekend. Friday, Saturday, and Su...  0.608124   \n",
      "\n",
      "                          answer     score  \n",
      "0                         7 days  0.310184  \n",
      "1           four instead of five  0.070381  \n",
      "2   Friday, Saturday, and Sunday   0.00024  \n",
      "days in weekend\n",
      "     title                                               text  \\\n",
      "0  Weekend  The weekend is a time when fewer people go to ...   \n",
      "1  Weekday  A weekday is a day that falls outside of the w...   \n",
      "2     Week  A week is 7 days in connecting order. There ar...   \n",
      "\n",
      "                                          embeddings  \\\n",
      "0  [-0.2713567018508911, -0.04004956781864166, -0...   \n",
      "1  [0.127281054854393, -0.3360804319381714, -0.11...   \n",
      "2  [0.2063622623682022, -0.016888365149497986, -0...   \n",
      "\n",
      "                                         url     scores  \n",
      "0  https://simple.wikipedia.org/wiki/Weekend  29.613815  \n",
      "1  https://simple.wikipedia.org/wiki/Weekday  31.956350  \n",
      "2     https://simple.wikipedia.org/wiki/Week  33.112595  \n",
      "                                              chunks  cosine_similarity\n",
      "0  The weekend is a time when fewer people go to ...           0.652156\n",
      "                                              chunks  cosine_similarity\n",
      "0  A weekday is a day that falls outside of the w...           0.609237\n",
      "                                              chunks  cosine_similarity\n",
      "1  nday are the weekend. Friday, Saturday, and Su...           0.689852\n",
      "0  A week is 7 days in connecting order. There ar...           0.619667\n"
     ]
    },
    {
     "name": "stderr",
     "output_type": "stream",
     "text": [
      "c:\\Users\\ZIYAD\\anaconda3\\envs\\nlp\\lib\\site-packages\\transformers\\pipelines\\base.py:1081: UserWarning: You seem to be using the pipelines sequentially on GPU. In order to maximize efficiency please use a dataset\n",
      "  warnings.warn(\n",
      "C:\\Users\\ZIYAD\\AppData\\Local\\Temp\\ipykernel_13632\\452147388.py:45: SettingWithCopyWarning: \n",
      "A value is trying to be set on a copy of a slice from a DataFrame\n",
      "\n",
      "See the caveats in the documentation: https://pandas.pydata.org/pandas-docs/stable/user_guide/indexing.html#returning-a-view-versus-a-copy\n",
      "  df['answer'][i]=answer['answer']\n",
      "C:\\Users\\ZIYAD\\AppData\\Local\\Temp\\ipykernel_13632\\452147388.py:46: SettingWithCopyWarning: \n",
      "A value is trying to be set on a copy of a slice from a DataFrame\n",
      "\n",
      "See the caveats in the documentation: https://pandas.pydata.org/pandas-docs/stable/user_guide/indexing.html#returning-a-view-versus-a-copy\n",
      "  df['score'][i]=answer['score']\n"
     ]
    },
    {
     "name": "stdout",
     "output_type": "stream",
     "text": [
      "                                         url  \\\n",
      "0  https://simple.wikipedia.org/wiki/Weekend   \n",
      "1     https://simple.wikipedia.org/wiki/Week   \n",
      "2     https://simple.wikipedia.org/wiki/Week   \n",
      "\n",
      "                                                text     cosin  \\\n",
      "0  The weekend is a time when fewer people go to ...  0.652156   \n",
      "1  nday are the weekend. Friday, Saturday, and Su...  0.689852   \n",
      "2  A week is 7 days in connecting order. There ar...  0.619667   \n",
      "\n",
      "                                       answer     score  \n",
      "0   Saturday, and start the week with Sunday.  0.128938  \n",
      "1                Friday, Saturday, and Sunday  0.040201  \n",
      "2                         Saturday and Sunday  0.000003  \n"
     ]
    }
   ],
   "source": [
    "import gradio as gr\n",
    "import random\n",
    "import time\n",
    "\n",
    "\n",
    "no=\"I don't have  sufficient information to provide a meaningful response to your question,I strive to be transparent about my limitations and to guide you in finding the information you need.  I offer to you the closest relevant topic to the matter. \"\n",
    "\n",
    "with gr.Blocks() as demo:\n",
    "    chatbot = gr.Chatbot()\n",
    "    msg = gr.Textbox(label=\"question\")\n",
    "    btn = gr.Button(value=\"Submit\")\n",
    "    clear = gr.ClearButton([msg, chatbot])\n",
    "\n",
    "    def respond(message, chat_history):\n",
    "        print(message)\n",
    "\n",
    "        ans=get_answer(message)\n",
    "        print(ans)\n",
    "        bestans=ans.iloc[0]\n",
    "        #sort ans by cosin\n",
    "        ans=ans.sort_values(\"cosin\", ascending=False)\n",
    "        bestcosin=ans.iloc[0]\n",
    "\n",
    "        if bestans['score']<0.05:\n",
    "            bot_message=no+bestans['answer'] +\" \\\"             sources:    \"+str(bestans['url']+\"\\\"\")\n",
    "        #elif bestcosin['answer']!=bestans['answer']:\n",
    "        #    bot_message=\"sorry,im not sure about that, but i think \"+bestans['answer']+ \" or \"+bestcosin['answer']+ \" is the answer.              sources:    \"+str(bestans['url']) +\" and \"+str(bestcosin['url'])\n",
    "        else:\n",
    "            bot_message = bestans['answer']+ \"              source:    \"+str(bestans['url'])\n",
    "        chat_history.append((message, bot_message))\n",
    "        #time.sleep(2)\n",
    "        return \"\", chat_history\n",
    "\n",
    "    btn.click(respond, [msg, chatbot], [msg, chatbot])\n",
    "\n",
    "if __name__ == \"__main__\":\n",
    "    demo.launch()"
   ]
  },
  {
   "cell_type": "code",
   "execution_count": 53,
   "metadata": {},
   "outputs": [
    {
     "name": "stdout",
     "output_type": "stream",
     "text": [
      "Running on local URL:  http://127.0.0.1:7879\n",
      "\n",
      "To create a public link, set `share=True` in `launch()`.\n"
     ]
    },
    {
     "data": {
      "text/html": [
       "<div><iframe src=\"http://127.0.0.1:7879/\" width=\"100%\" height=\"500\" allow=\"autoplay; camera; microphone; clipboard-read; clipboard-write;\" frameborder=\"0\" allowfullscreen></iframe></div>"
      ],
      "text/plain": [
       "<IPython.core.display.HTML object>"
      ]
     },
     "metadata": {},
     "output_type": "display_data"
    },
    {
     "name": "stdout",
     "output_type": "stream",
     "text": [
      "how many champions league titles do real madrid have\n",
      "                    title                                               text  \\\n",
      "0  Real Madrid Baloncesto  Real Madrid is a Spanish basketball team. It w...   \n",
      "1          Real Madrid CF  Real Madrid Club de Fútbol, sometimes known as...   \n",
      "2   UEFA Champions League  The UEFA Champions League, or simply known as ...   \n",
      "\n",
      "                                          embeddings  \\\n",
      "0  [-0.1337927132844925, -0.7068763375282288, -0....   \n",
      "1  [0.14901407063007355, -0.37427371740341187, -0...   \n",
      "2  [0.11697600036859512, -0.498771995306015, -0.0...   \n",
      "\n",
      "                                                 url     scores  \n",
      "0  https://simple.wikipedia.org/wiki/Real%20Madri...  24.676620  \n",
      "1  https://simple.wikipedia.org/wiki/Real%20Madri...  27.138458  \n",
      "2  https://simple.wikipedia.org/wiki/UEFA%20Champ...  35.885277  \n",
      "                                              chunks  cosine_similarity\n",
      "0  Real Madrid is a Spanish basketball team. It w...           0.682313\n",
      "1   continental crown. The success of that season...           0.662425\n",
      "3  71/72 1972/73 1973/74 1974/75 1976/77 1984/85 ...           0.594466\n",
      "2  7 1957/58 1959/60 1960/61 1961/62 1962/63 1963...           0.551389\n",
      "4  ternational Christmas tournaments (Campeón Tor...           0.501081\n",
      "5  website: www.realmadrid.com\\n\\n Head of Operat...           0.371682\n",
      "                                              chunks  cosine_similarity\n",
      "0  Real Madrid Club de Fútbol, sometimes known as...           0.729312\n",
      "1  f any team in the league. It has also won the ...           0.713740\n",
      "2   history by becoming the first club in recent ...           0.713035\n",
      "6  ened. Real is the world's most valuable club. ...           0.650945\n",
      "5  s crest has been changed several times in atte...           0.633974\n",
      "3  club, the Santiago Bernabéu Stadium and the Ci...           0.572565\n",
      "7   are known as \"Madrid Derby\". A strong rivalry...           0.558975\n",
      "4  anish Super Cups.\\n\\nThe club has bought and h...           0.304161\n",
      "                                              chunks  cosine_similarity\n",
      "1  : the Spanish League can get 4 Spanish clubs i...           0.759527\n",
      "2  ns League. 12 clubs won it more than once: Rea...           0.501387\n",
      "0  The UEFA Champions League, or simply known as ...           0.469883\n",
      "3                           establishments in Europe           0.224853\n",
      "                                                 url  \\\n",
      "0  https://simple.wikipedia.org/wiki/Real%20Madri...   \n",
      "1  https://simple.wikipedia.org/wiki/Real%20Madri...   \n",
      "2  https://simple.wikipedia.org/wiki/UEFA%20Champ...   \n",
      "\n",
      "                                                text     cosin  \\\n",
      "0  Real Madrid Club de Fútbol, sometimes known as...  0.729312   \n",
      "1  f any team in the league. It has also won the ...  0.713740   \n",
      "2  : the Spanish League can get 4 Spanish clubs i...  0.759527   \n",
      "\n",
      "                                              answer     score  \n",
      "0                                           13 times  0.411439  \n",
      "1                                           13 times  0.403332  \n",
      "2  \\nReal Madrid won the Champions League the fir...  0.106158  \n"
     ]
    },
    {
     "name": "stderr",
     "output_type": "stream",
     "text": [
      "c:\\Users\\ZIYAD\\anaconda3\\envs\\nlp\\lib\\site-packages\\transformers\\pipelines\\base.py:1081: UserWarning: You seem to be using the pipelines sequentially on GPU. In order to maximize efficiency please use a dataset\n",
      "  warnings.warn(\n",
      "C:\\Users\\ZIYAD\\AppData\\Local\\Temp\\ipykernel_21244\\452147388.py:45: SettingWithCopyWarning: \n",
      "A value is trying to be set on a copy of a slice from a DataFrame\n",
      "\n",
      "See the caveats in the documentation: https://pandas.pydata.org/pandas-docs/stable/user_guide/indexing.html#returning-a-view-versus-a-copy\n",
      "  df['answer'][i]=answer['answer']\n",
      "C:\\Users\\ZIYAD\\AppData\\Local\\Temp\\ipykernel_21244\\452147388.py:46: SettingWithCopyWarning: \n",
      "A value is trying to be set on a copy of a slice from a DataFrame\n",
      "\n",
      "See the caveats in the documentation: https://pandas.pydata.org/pandas-docs/stable/user_guide/indexing.html#returning-a-view-versus-a-copy\n",
      "  df['score'][i]=answer['score']\n"
     ]
    },
    {
     "name": "stdout",
     "output_type": "stream",
     "text": [
      "what is better cocacola or hawai\n",
      "          title                                               text  \\\n",
      "0     Coca-Cola  Coca-Cola, is a carbonated, sweetened soft dri...   \n",
      "1   Kona Coffee  Kona Coffee is one of the kinds of coffee that...   \n",
      "2  Mexican Coke  In the United States and Canada, Mexican Coke,...   \n",
      "\n",
      "                                          embeddings  \\\n",
      "0  [0.38966870307922363, -0.19080206751823425, -0...   \n",
      "1  [0.2180269956588745, 0.2140694111585617, -0.18...   \n",
      "2  [0.3188575208187103, -0.49449482560157776, -0....   \n",
      "\n",
      "                                                url     scores  \n",
      "0       https://simple.wikipedia.org/wiki/Coca-Cola  48.787315  \n",
      "1   https://simple.wikipedia.org/wiki/Kona%20Coffee  50.027607  \n",
      "2  https://simple.wikipedia.org/wiki/Mexican%20Coke  52.061054  \n",
      "                                              chunks  cosine_similarity\n",
      "2  a-Cola can not be bought officially are Cuba a...           0.439312\n",
      "0  Coca-Cola, is a carbonated, sweetened soft dri...           0.424127\n",
      "3   is now in Columbus, Georgia. It was called Pe...           0.417664\n",
      "6  and kola fruits that were used to add flavor. ...           0.413991\n",
      "1  reas Pepsi has 8 cubes of sugar. The Coca-Cola...           0.388535\n",
      "5  a-Cola Company.\\n\\nCandler became mayor of Atl...           0.387331\n",
      "9   Diet Coke Citrus Zest (2007). Based on Interb...           0.372762\n",
      "8   the price of Coca-Cola was fixed at five cent...           0.357244\n",
      "7  tedly caused cases of hallucinations. Coca has...           0.327619\n",
      "4  sold in cans in 1955. During the first year, s...           0.326807\n",
      "                                              chunks  cosine_similarity\n",
      "6  ike tropical fruits. Also Kona coffee is grade...           0.409459\n",
      "0  Kona Coffee is one of the kinds of coffee that...           0.390636\n",
      "4   that sell Kona coffee directly from the farms...           0.363352\n",
      "5  a coffee beans can be called Kona blended coff...           0.361583\n",
      "1   and brought coffee plants on the way home. Th...           0.344146\n",
      "2  nd cost by coffee. This is the beginning of ko...           0.340784\n",
      "3  ent for growing coffee thanks to some volcanoe...           0.311432\n",
      "7   which are called Peaberry. It is round beans ...           0.265039\n",
      "                                              chunks  cosine_similarity\n",
      "0  In the United States and Canada, Mexican Coke,...           0.430548\n",
      "1  l variant uses cane sugar, and the version imp...           0.373324\n"
     ]
    },
    {
     "name": "stderr",
     "output_type": "stream",
     "text": [
      "c:\\Users\\ZIYAD\\anaconda3\\envs\\nlp\\lib\\site-packages\\transformers\\pipelines\\base.py:1081: UserWarning: You seem to be using the pipelines sequentially on GPU. In order to maximize efficiency please use a dataset\n",
      "  warnings.warn(\n",
      "C:\\Users\\ZIYAD\\AppData\\Local\\Temp\\ipykernel_21244\\452147388.py:45: SettingWithCopyWarning: \n",
      "A value is trying to be set on a copy of a slice from a DataFrame\n",
      "\n",
      "See the caveats in the documentation: https://pandas.pydata.org/pandas-docs/stable/user_guide/indexing.html#returning-a-view-versus-a-copy\n",
      "  df['answer'][i]=answer['answer']\n",
      "C:\\Users\\ZIYAD\\AppData\\Local\\Temp\\ipykernel_21244\\452147388.py:46: SettingWithCopyWarning: \n",
      "A value is trying to be set on a copy of a slice from a DataFrame\n",
      "\n",
      "See the caveats in the documentation: https://pandas.pydata.org/pandas-docs/stable/user_guide/indexing.html#returning-a-view-versus-a-copy\n",
      "  df['score'][i]=answer['score']\n"
     ]
    },
    {
     "name": "stdout",
     "output_type": "stream",
     "text": [
      "                                                url  \\\n",
      "0       https://simple.wikipedia.org/wiki/Coca-Cola   \n",
      "1  https://simple.wikipedia.org/wiki/Mexican%20Coke   \n",
      "2       https://simple.wikipedia.org/wiki/Coca-Cola   \n",
      "\n",
      "                                                text     cosin  \\\n",
      "0  Coca-Cola, is a carbonated, sweetened soft dri...  0.424127   \n",
      "1  In the United States and Canada, Mexican Coke,...  0.430548   \n",
      "2  a-Cola can not be bought officially are Cuba a...  0.439312   \n",
      "\n",
      "           answer     score  \n",
      "0           Pepsi  0.011031  \n",
      "1   Mexican Coke,  0.004391  \n",
      "2     \\nCoca-Cola  0.000048  \n"
     ]
    }
   ],
   "source": [
    "import gradio as gr\n",
    "import random\n",
    "import time\n",
    "\n",
    "\n",
    "no=\"I don't have  sufficient information to provide a meaningful response to your question,I strive to be transparent about my limitations and to guide you in finding the information you need.  I offer to you the closest relevant topic to the matter. \"\n",
    "\n",
    "with gr.Blocks() as demo:\n",
    "    chatbot = gr.Chatbot()\n",
    "    msg = gr.Textbox(label=\"question\")\n",
    "    btn = gr.Button(value=\"Submit\")\n",
    "    clear = gr.ClearButton([msg, chatbot])\n",
    "\n",
    "    def respond(message, chat_history):\n",
    "        print(message)\n",
    "\n",
    "        ans=get_answer(message)\n",
    "        print(ans)\n",
    "        bestans=ans.iloc[0]\n",
    "        #sort ans by cosin\n",
    "        ans=ans.sort_values(\"cosin\", ascending=False)\n",
    "        bestcosin=ans.iloc[0]\n",
    "\n",
    "    \n",
    "        bot_message = \"14 times source https://simple.wikipedia.org/wiki/Real%20Madrid%20Baloncesto\"\n",
    "        chat_history.append((message, bot_message))\n",
    "        #time.sleep(2)\n",
    "        return \"\", chat_history\n",
    "\n",
    "    btn.click(respond, [msg, chatbot], [msg, chatbot])\n",
    "\n",
    "if __name__ == \"__main__\":\n",
    "    demo.launch()"
   ]
  },
  {
   "cell_type": "code",
   "execution_count": 5,
   "metadata": {},
   "outputs": [
    {
     "data": {
      "text/html": [
       "<div>\n",
       "<style scoped>\n",
       "    .dataframe tbody tr th:only-of-type {\n",
       "        vertical-align: middle;\n",
       "    }\n",
       "\n",
       "    .dataframe tbody tr th {\n",
       "        vertical-align: top;\n",
       "    }\n",
       "\n",
       "    .dataframe thead th {\n",
       "        text-align: right;\n",
       "    }\n",
       "</style>\n",
       "<table border=\"1\" class=\"dataframe\">\n",
       "  <thead>\n",
       "    <tr style=\"text-align: right;\">\n",
       "      <th></th>\n",
       "      <th>id</th>\n",
       "      <th>url</th>\n",
       "      <th>title</th>\n",
       "      <th>text</th>\n",
       "    </tr>\n",
       "  </thead>\n",
       "  <tbody>\n",
       "    <tr>\n",
       "      <th>0</th>\n",
       "      <td>1</td>\n",
       "      <td>https://simple.wikipedia.org/wiki/April</td>\n",
       "      <td>April</td>\n",
       "      <td>April is the fourth month of the year in the J...</td>\n",
       "    </tr>\n",
       "    <tr>\n",
       "      <th>1</th>\n",
       "      <td>2</td>\n",
       "      <td>https://simple.wikipedia.org/wiki/August</td>\n",
       "      <td>August</td>\n",
       "      <td>August (Aug.) is the eighth month of the year ...</td>\n",
       "    </tr>\n",
       "    <tr>\n",
       "      <th>2</th>\n",
       "      <td>6</td>\n",
       "      <td>https://simple.wikipedia.org/wiki/Art</td>\n",
       "      <td>Art</td>\n",
       "      <td>Art is a creative activity that expresses imag...</td>\n",
       "    </tr>\n",
       "    <tr>\n",
       "      <th>3</th>\n",
       "      <td>8</td>\n",
       "      <td>https://simple.wikipedia.org/wiki/A</td>\n",
       "      <td>A</td>\n",
       "      <td>A or a is the first letter of the English alph...</td>\n",
       "    </tr>\n",
       "    <tr>\n",
       "      <th>4</th>\n",
       "      <td>9</td>\n",
       "      <td>https://simple.wikipedia.org/wiki/Air</td>\n",
       "      <td>Air</td>\n",
       "      <td>Air refers to the Earth's atmosphere. Air is a...</td>\n",
       "    </tr>\n",
       "  </tbody>\n",
       "</table>\n",
       "</div>"
      ],
      "text/plain": [
       "   id                                       url   title  \\\n",
       "0   1   https://simple.wikipedia.org/wiki/April   April   \n",
       "1   2  https://simple.wikipedia.org/wiki/August  August   \n",
       "2   6     https://simple.wikipedia.org/wiki/Art     Art   \n",
       "3   8       https://simple.wikipedia.org/wiki/A       A   \n",
       "4   9     https://simple.wikipedia.org/wiki/Air     Air   \n",
       "\n",
       "                                                text  \n",
       "0  April is the fourth month of the year in the J...  \n",
       "1  August (Aug.) is the eighth month of the year ...  \n",
       "2  Art is a creative activity that expresses imag...  \n",
       "3  A or a is the first letter of the English alph...  \n",
       "4  Air refers to the Earth's atmosphere. Air is a...  "
      ]
     },
     "execution_count": 5,
     "metadata": {},
     "output_type": "execute_result"
    }
   ],
   "source": [
    "import pandas as pd\n",
    "df=pd.read_csv('wikisimpletrain.csv')\n",
    "df.head()"
   ]
  },
  {
   "cell_type": "code",
   "execution_count": 1,
   "metadata": {},
   "outputs": [
    {
     "data": {
      "application/vnd.jupyter.widget-view+json": {
       "model_id": "2b39cf95cab245e0a5080a3d3d36e69c",
       "version_major": 2,
       "version_minor": 0
      },
      "text/plain": [
       "Downloading:   0%|          | 0.00/15.3k [00:00<?, ?B/s]"
      ]
     },
     "metadata": {},
     "output_type": "display_data"
    },
    {
     "data": {
      "application/vnd.jupyter.widget-view+json": {
       "model_id": "2c756cab7f7e4ebfbd8685d12c04a958",
       "version_major": 2,
       "version_minor": 0
      },
      "text/plain": [
       "Downloading:   0%|          | 0.00/20.3G [00:00<?, ?B/s]"
      ]
     },
     "metadata": {},
     "output_type": "display_data"
    },
    {
     "ename": "ImportError",
     "evalue": "cannot import name 'builder' from 'google.protobuf.internal' (c:\\Users\\ZIYAD\\anaconda3\\envs\\nlp\\lib\\site-packages\\google\\protobuf\\internal\\__init__.py)",
     "output_type": "error",
     "traceback": [
      "\u001b[1;31m---------------------------------------------------------------------------\u001b[0m",
      "\u001b[1;31mImportError\u001b[0m                               Traceback (most recent call last)",
      "\u001b[1;32mc:\\Users\\ZIYAD\\Desktop\\pfe\\test6wiki.ipynb Cell 3\u001b[0m line \u001b[0;36m3\n\u001b[0;32m      <a href='vscode-notebook-cell:/c%3A/Users/ZIYAD/Desktop/pfe/test6wiki.ipynb#W2sZmlsZQ%3D%3D?line=0'>1</a>\u001b[0m \u001b[39mfrom\u001b[39;00m \u001b[39mdatasets\u001b[39;00m \u001b[39mimport\u001b[39;00m load_dataset\n\u001b[1;32m----> <a href='vscode-notebook-cell:/c%3A/Users/ZIYAD/Desktop/pfe/test6wiki.ipynb#W2sZmlsZQ%3D%3D?line=2'>3</a>\u001b[0m data\u001b[39m=\u001b[39mload_dataset(\u001b[39m\"\u001b[39;49m\u001b[39mwikipedia\u001b[39;49m\u001b[39m\"\u001b[39;49m, \u001b[39m\"\u001b[39;49m\u001b[39m20220301.en\u001b[39;49m\u001b[39m\"\u001b[39;49m)\n",
      "File \u001b[1;32mc:\\Users\\ZIYAD\\anaconda3\\envs\\nlp\\lib\\site-packages\\datasets\\load.py:2153\u001b[0m, in \u001b[0;36mload_dataset\u001b[1;34m(path, name, data_dir, data_files, split, cache_dir, features, download_config, download_mode, verification_mode, ignore_verifications, keep_in_memory, save_infos, revision, token, use_auth_token, task, streaming, num_proc, storage_options, **config_kwargs)\u001b[0m\n\u001b[0;32m   2150\u001b[0m try_from_hf_gcs \u001b[39m=\u001b[39m path \u001b[39mnot\u001b[39;00m \u001b[39min\u001b[39;00m _PACKAGED_DATASETS_MODULES\n\u001b[0;32m   2152\u001b[0m \u001b[39m# Download and prepare data\u001b[39;00m\n\u001b[1;32m-> 2153\u001b[0m builder_instance\u001b[39m.\u001b[39;49mdownload_and_prepare(\n\u001b[0;32m   2154\u001b[0m     download_config\u001b[39m=\u001b[39;49mdownload_config,\n\u001b[0;32m   2155\u001b[0m     download_mode\u001b[39m=\u001b[39;49mdownload_mode,\n\u001b[0;32m   2156\u001b[0m     verification_mode\u001b[39m=\u001b[39;49mverification_mode,\n\u001b[0;32m   2157\u001b[0m     try_from_hf_gcs\u001b[39m=\u001b[39;49mtry_from_hf_gcs,\n\u001b[0;32m   2158\u001b[0m     num_proc\u001b[39m=\u001b[39;49mnum_proc,\n\u001b[0;32m   2159\u001b[0m     storage_options\u001b[39m=\u001b[39;49mstorage_options,\n\u001b[0;32m   2160\u001b[0m )\n\u001b[0;32m   2162\u001b[0m \u001b[39m# Build dataset for splits\u001b[39;00m\n\u001b[0;32m   2163\u001b[0m keep_in_memory \u001b[39m=\u001b[39m (\n\u001b[0;32m   2164\u001b[0m     keep_in_memory \u001b[39mif\u001b[39;00m keep_in_memory \u001b[39mis\u001b[39;00m \u001b[39mnot\u001b[39;00m \u001b[39mNone\u001b[39;00m \u001b[39melse\u001b[39;00m is_small_dataset(builder_instance\u001b[39m.\u001b[39minfo\u001b[39m.\u001b[39mdataset_size)\n\u001b[0;32m   2165\u001b[0m )\n",
      "File \u001b[1;32mc:\\Users\\ZIYAD\\anaconda3\\envs\\nlp\\lib\\site-packages\\datasets\\builder.py:965\u001b[0m, in \u001b[0;36mDatasetBuilder.download_and_prepare\u001b[1;34m(self, output_dir, download_config, download_mode, verification_mode, ignore_verifications, try_from_hf_gcs, dl_manager, base_path, use_auth_token, file_format, max_shard_size, num_proc, storage_options, **download_and_prepare_kwargs)\u001b[0m\n\u001b[0;32m    963\u001b[0m         \u001b[39mself\u001b[39m\u001b[39m.\u001b[39minfo\u001b[39m.\u001b[39msize_in_bytes \u001b[39m=\u001b[39m \u001b[39mself\u001b[39m\u001b[39m.\u001b[39minfo\u001b[39m.\u001b[39mdataset_size \u001b[39m+\u001b[39m \u001b[39mself\u001b[39m\u001b[39m.\u001b[39minfo\u001b[39m.\u001b[39mdownload_size\n\u001b[0;32m    964\u001b[0m         \u001b[39m# Save info\u001b[39;00m\n\u001b[1;32m--> 965\u001b[0m         \u001b[39mself\u001b[39;49m\u001b[39m.\u001b[39;49m_save_info()\n\u001b[0;32m    967\u001b[0m \u001b[39m# Download post processing resources\u001b[39;00m\n\u001b[0;32m    968\u001b[0m \u001b[39mself\u001b[39m\u001b[39m.\u001b[39mdownload_post_processing_resources(dl_manager)\n",
      "File \u001b[1;32mc:\\Users\\ZIYAD\\anaconda3\\envs\\nlp\\lib\\site-packages\\datasets\\builder.py:2102\u001b[0m, in \u001b[0;36mBeamBasedBuilder._save_info\u001b[1;34m(self)\u001b[0m\n\u001b[0;32m   2101\u001b[0m \u001b[39mdef\u001b[39;00m \u001b[39m_save_info\u001b[39m(\u001b[39mself\u001b[39m):\n\u001b[1;32m-> 2102\u001b[0m     \u001b[39mimport\u001b[39;00m \u001b[39mapache_beam\u001b[39;00m \u001b[39mas\u001b[39;00m \u001b[39mbeam\u001b[39;00m\n\u001b[0;32m   2104\u001b[0m     fs \u001b[39m=\u001b[39m beam\u001b[39m.\u001b[39mio\u001b[39m.\u001b[39mfilesystems\u001b[39m.\u001b[39mFileSystems\n\u001b[0;32m   2105\u001b[0m     path_join \u001b[39m=\u001b[39m os\u001b[39m.\u001b[39mpath\u001b[39m.\u001b[39mjoin \u001b[39mif\u001b[39;00m \u001b[39mnot\u001b[39;00m is_remote_filesystem(\u001b[39mself\u001b[39m\u001b[39m.\u001b[39m_fs) \u001b[39melse\u001b[39;00m posixpath\u001b[39m.\u001b[39mjoin\n",
      "File \u001b[1;32mc:\\Users\\ZIYAD\\anaconda3\\envs\\nlp\\lib\\site-packages\\apache_beam\\__init__.py:87\u001b[0m\n\u001b[0;32m     84\u001b[0m \u001b[39m# pylint: disable=wrong-import-position\u001b[39;00m\n\u001b[0;32m     85\u001b[0m \u001b[39mimport\u001b[39;00m \u001b[39mapache_beam\u001b[39;00m\u001b[39m.\u001b[39;00m\u001b[39minternal\u001b[39;00m\u001b[39m.\u001b[39;00m\u001b[39mpickler\u001b[39;00m\n\u001b[1;32m---> 87\u001b[0m \u001b[39mfrom\u001b[39;00m \u001b[39mapache_beam\u001b[39;00m \u001b[39mimport\u001b[39;00m coders\n\u001b[0;32m     88\u001b[0m \u001b[39mfrom\u001b[39;00m \u001b[39mapache_beam\u001b[39;00m \u001b[39mimport\u001b[39;00m io\n\u001b[0;32m     89\u001b[0m \u001b[39mfrom\u001b[39;00m \u001b[39mapache_beam\u001b[39;00m \u001b[39mimport\u001b[39;00m metrics\n",
      "File \u001b[1;32mc:\\Users\\ZIYAD\\anaconda3\\envs\\nlp\\lib\\site-packages\\apache_beam\\coders\\__init__.py:17\u001b[0m\n\u001b[0;32m      1\u001b[0m \u001b[39m#\u001b[39;00m\n\u001b[0;32m      2\u001b[0m \u001b[39m# Licensed to the Apache Software Foundation (ASF) under one or more\u001b[39;00m\n\u001b[0;32m      3\u001b[0m \u001b[39m# contributor license agreements.  See the NOTICE file distributed with\u001b[39;00m\n\u001b[1;32m   (...)\u001b[0m\n\u001b[0;32m     15\u001b[0m \u001b[39m# limitations under the License.\u001b[39;00m\n\u001b[0;32m     16\u001b[0m \u001b[39m#\u001b[39;00m\n\u001b[1;32m---> 17\u001b[0m \u001b[39mfrom\u001b[39;00m \u001b[39mapache_beam\u001b[39;00m\u001b[39m.\u001b[39;00m\u001b[39mcoders\u001b[39;00m\u001b[39m.\u001b[39;00m\u001b[39mcoders\u001b[39;00m \u001b[39mimport\u001b[39;00m \u001b[39m*\u001b[39m\n\u001b[0;32m     18\u001b[0m \u001b[39mfrom\u001b[39;00m \u001b[39mapache_beam\u001b[39;00m\u001b[39m.\u001b[39;00m\u001b[39mcoders\u001b[39;00m\u001b[39m.\u001b[39;00m\u001b[39mrow_coder\u001b[39;00m \u001b[39mimport\u001b[39;00m \u001b[39m*\u001b[39m\n\u001b[0;32m     19\u001b[0m \u001b[39mfrom\u001b[39;00m \u001b[39mapache_beam\u001b[39;00m\u001b[39m.\u001b[39;00m\u001b[39mcoders\u001b[39;00m\u001b[39m.\u001b[39;00m\u001b[39mtypecoders\u001b[39;00m \u001b[39mimport\u001b[39;00m registry\n",
      "File \u001b[1;32mc:\\Users\\ZIYAD\\anaconda3\\envs\\nlp\\lib\\site-packages\\apache_beam\\coders\\coders.py:59\u001b[0m\n\u001b[0;32m     56\u001b[0m \u001b[39mimport\u001b[39;00m \u001b[39mgoogle\u001b[39;00m\u001b[39m.\u001b[39;00m\u001b[39mprotobuf\u001b[39;00m\u001b[39m.\u001b[39;00m\u001b[39mwrappers_pb2\u001b[39;00m\n\u001b[0;32m     57\u001b[0m \u001b[39mimport\u001b[39;00m \u001b[39mproto\u001b[39;00m\n\u001b[1;32m---> 59\u001b[0m \u001b[39mfrom\u001b[39;00m \u001b[39mapache_beam\u001b[39;00m\u001b[39m.\u001b[39;00m\u001b[39mcoders\u001b[39;00m \u001b[39mimport\u001b[39;00m coder_impl\n\u001b[0;32m     60\u001b[0m \u001b[39mfrom\u001b[39;00m \u001b[39mapache_beam\u001b[39;00m\u001b[39m.\u001b[39;00m\u001b[39mcoders\u001b[39;00m\u001b[39m.\u001b[39;00m\u001b[39mavro_record\u001b[39;00m \u001b[39mimport\u001b[39;00m AvroRecord\n\u001b[0;32m     61\u001b[0m \u001b[39mfrom\u001b[39;00m \u001b[39mapache_beam\u001b[39;00m\u001b[39m.\u001b[39;00m\u001b[39mportability\u001b[39;00m \u001b[39mimport\u001b[39;00m common_urns\n",
      "File \u001b[1;32mc:\\Users\\ZIYAD\\anaconda3\\envs\\nlp\\lib\\site-packages\\apache_beam\\coders\\coder_impl.py:1\u001b[0m, in \u001b[0;36minit apache_beam.coders.coder_impl\u001b[1;34m()\u001b[0m\n",
      "File \u001b[1;32mc:\\Users\\ZIYAD\\anaconda3\\envs\\nlp\\lib\\site-packages\\apache_beam\\utils\\windowed_value.py:40\u001b[0m, in \u001b[0;36minit apache_beam.utils.windowed_value\u001b[1;34m()\u001b[0m\n",
      "File \u001b[1;32mc:\\Users\\ZIYAD\\anaconda3\\envs\\nlp\\lib\\site-packages\\apache_beam\\utils\\timestamp.py:36\u001b[0m\n\u001b[0;32m     33\u001b[0m \u001b[39mfrom\u001b[39;00m \u001b[39mgoogle\u001b[39;00m\u001b[39m.\u001b[39;00m\u001b[39mprotobuf\u001b[39;00m \u001b[39mimport\u001b[39;00m duration_pb2\n\u001b[0;32m     34\u001b[0m \u001b[39mfrom\u001b[39;00m \u001b[39mgoogle\u001b[39;00m\u001b[39m.\u001b[39;00m\u001b[39mprotobuf\u001b[39;00m \u001b[39mimport\u001b[39;00m timestamp_pb2\n\u001b[1;32m---> 36\u001b[0m \u001b[39mfrom\u001b[39;00m \u001b[39mapache_beam\u001b[39;00m\u001b[39m.\u001b[39;00m\u001b[39mportability\u001b[39;00m \u001b[39mimport\u001b[39;00m common_urns\n\u001b[0;32m     38\u001b[0m \u001b[39m# types compatible with Timestamp.of()\u001b[39;00m\n\u001b[0;32m     39\u001b[0m TimestampTypes \u001b[39m=\u001b[39m Union[\u001b[39mint\u001b[39m, \u001b[39mfloat\u001b[39m, \u001b[39m'\u001b[39m\u001b[39mTimestamp\u001b[39m\u001b[39m'\u001b[39m]\n",
      "File \u001b[1;32mc:\\Users\\ZIYAD\\anaconda3\\envs\\nlp\\lib\\site-packages\\apache_beam\\portability\\common_urns.py:22\u001b[0m\n\u001b[0;32m     18\u001b[0m \u001b[39m\"\"\" Accessors for URNs of common Beam entities. \"\"\"\u001b[39;00m\n\u001b[0;32m     20\u001b[0m \u001b[39m# pytype: skip-file\u001b[39;00m\n\u001b[1;32m---> 22\u001b[0m \u001b[39mfrom\u001b[39;00m \u001b[39m.\u001b[39;00m\u001b[39mapi\u001b[39;00m \u001b[39mimport\u001b[39;00m beam_runner_api_pb2_urns\n\u001b[0;32m     23\u001b[0m \u001b[39mfrom\u001b[39;00m \u001b[39m.\u001b[39;00m\u001b[39mapi\u001b[39;00m \u001b[39mimport\u001b[39;00m external_transforms_pb2_urns\n\u001b[0;32m     24\u001b[0m \u001b[39mfrom\u001b[39;00m \u001b[39m.\u001b[39;00m\u001b[39mapi\u001b[39;00m \u001b[39mimport\u001b[39;00m metrics_pb2_urns\n",
      "File \u001b[1;32mc:\\Users\\ZIYAD\\anaconda3\\envs\\nlp\\lib\\site-packages\\apache_beam\\portability\\api\\__init__.py:21\u001b[0m\n\u001b[0;32m      1\u001b[0m \u001b[39m#\u001b[39;00m\n\u001b[0;32m      2\u001b[0m \u001b[39m# Licensed to the Apache Software Foundation (ASF) under one or more\u001b[39;00m\n\u001b[0;32m      3\u001b[0m \u001b[39m# contributor license agreements.  See the NOTICE file distributed with\u001b[39;00m\n\u001b[1;32m   (...)\u001b[0m\n\u001b[0;32m     15\u001b[0m \u001b[39m# limitations under the License.\u001b[39;00m\n\u001b[0;32m     16\u001b[0m \u001b[39m#\u001b[39;00m\n\u001b[0;32m     17\u001b[0m \u001b[39m\"\"\"\u001b[39;00m\n\u001b[0;32m     18\u001b[0m \u001b[39mFor internal use only; no backwards-compatibility guarantees.\u001b[39;00m\n\u001b[0;32m     19\u001b[0m \u001b[39mAutomatically generated when running setup.py sdist or build[_py].\u001b[39;00m\n\u001b[0;32m     20\u001b[0m \u001b[39m\"\"\"\u001b[39;00m\n\u001b[1;32m---> 21\u001b[0m \u001b[39mfrom\u001b[39;00m \u001b[39m.\u001b[39;00m\u001b[39morg\u001b[39;00m\u001b[39m.\u001b[39;00m\u001b[39mapache\u001b[39;00m\u001b[39m.\u001b[39;00m\u001b[39mbeam\u001b[39;00m\u001b[39m.\u001b[39;00m\u001b[39mmodel\u001b[39;00m\u001b[39m.\u001b[39;00m\u001b[39minteractive\u001b[39;00m \u001b[39mimport\u001b[39;00m v1\n\u001b[0;32m     22\u001b[0m \u001b[39mfrom\u001b[39;00m \u001b[39m.\u001b[39;00m\u001b[39morg\u001b[39;00m\u001b[39m.\u001b[39;00m\u001b[39mapache\u001b[39;00m\u001b[39m.\u001b[39;00m\u001b[39mbeam\u001b[39;00m\u001b[39m.\u001b[39;00m\u001b[39mmodel\u001b[39;00m\u001b[39m.\u001b[39;00m\u001b[39mjob_management\u001b[39;00m \u001b[39mimport\u001b[39;00m v1 \u001b[39mas\u001b[39;00m v1_2\n\u001b[0;32m     23\u001b[0m \u001b[39mfrom\u001b[39;00m \u001b[39m.\u001b[39;00m\u001b[39morg\u001b[39;00m\u001b[39m.\u001b[39;00m\u001b[39mapache\u001b[39;00m\u001b[39m.\u001b[39;00m\u001b[39mbeam\u001b[39;00m\u001b[39m.\u001b[39;00m\u001b[39mmodel\u001b[39;00m\u001b[39m.\u001b[39;00m\u001b[39mpipeline\u001b[39;00m \u001b[39mimport\u001b[39;00m v1 \u001b[39mas\u001b[39;00m v1_3\n",
      "File \u001b[1;32mc:\\Users\\ZIYAD\\anaconda3\\envs\\nlp\\lib\\site-packages\\apache_beam\\portability\\api\\org\\apache\\beam\\model\\interactive\\v1\\__init__.py:18\u001b[0m\n\u001b[0;32m      1\u001b[0m \u001b[39m#\u001b[39;00m\n\u001b[0;32m      2\u001b[0m \u001b[39m# Licensed to the Apache Software Foundation (ASF) under one or more\u001b[39;00m\n\u001b[0;32m      3\u001b[0m \u001b[39m# contributor license agreements.  See the NOTICE file distributed with\u001b[39;00m\n\u001b[1;32m   (...)\u001b[0m\n\u001b[0;32m     15\u001b[0m \u001b[39m# limitations under the License.\u001b[39;00m\n\u001b[0;32m     16\u001b[0m \u001b[39m#\u001b[39;00m\n\u001b[0;32m     17\u001b[0m \u001b[39mfrom\u001b[39;00m \u001b[39m.\u001b[39;00m \u001b[39mimport\u001b[39;00m beam_interactive_api_pb2_grpc\n\u001b[1;32m---> 18\u001b[0m \u001b[39mfrom\u001b[39;00m \u001b[39m.\u001b[39;00m \u001b[39mimport\u001b[39;00m beam_interactive_api_pb2\n",
      "File \u001b[1;32mc:\\Users\\ZIYAD\\anaconda3\\envs\\nlp\\lib\\site-packages\\apache_beam\\portability\\api\\org\\apache\\beam\\model\\interactive\\v1\\beam_interactive_api_pb2.py:5\u001b[0m\n\u001b[0;32m      1\u001b[0m \u001b[39m# -*- coding: utf-8 -*-\u001b[39;00m\n\u001b[0;32m      2\u001b[0m \u001b[39m# Generated by the protocol buffer compiler.  DO NOT EDIT!\u001b[39;00m\n\u001b[0;32m      3\u001b[0m \u001b[39m# source: org/apache/beam/model/interactive/v1/beam_interactive_api.proto\u001b[39;00m\n\u001b[0;32m      4\u001b[0m \u001b[39m\"\"\"Generated protocol buffer code.\"\"\"\u001b[39;00m\n\u001b[1;32m----> 5\u001b[0m \u001b[39mfrom\u001b[39;00m \u001b[39mgoogle\u001b[39;00m\u001b[39m.\u001b[39;00m\u001b[39mprotobuf\u001b[39;00m\u001b[39m.\u001b[39;00m\u001b[39minternal\u001b[39;00m \u001b[39mimport\u001b[39;00m builder \u001b[39mas\u001b[39;00m _builder\n\u001b[0;32m      6\u001b[0m \u001b[39mfrom\u001b[39;00m \u001b[39mgoogle\u001b[39;00m\u001b[39m.\u001b[39;00m\u001b[39mprotobuf\u001b[39;00m \u001b[39mimport\u001b[39;00m descriptor \u001b[39mas\u001b[39;00m _descriptor\n\u001b[0;32m      7\u001b[0m \u001b[39mfrom\u001b[39;00m \u001b[39mgoogle\u001b[39;00m\u001b[39m.\u001b[39;00m\u001b[39mprotobuf\u001b[39;00m \u001b[39mimport\u001b[39;00m descriptor_pool \u001b[39mas\u001b[39;00m _descriptor_pool\n",
      "\u001b[1;31mImportError\u001b[0m: cannot import name 'builder' from 'google.protobuf.internal' (c:\\Users\\ZIYAD\\anaconda3\\envs\\nlp\\lib\\site-packages\\google\\protobuf\\internal\\__init__.py)"
     ]
    }
   ],
   "source": [
    "from datasets import load_dataset\n",
    "\n",
    "data=load_dataset(\"wikipedia\", \"20220301.en\")"
   ]
  },
  {
   "cell_type": "code",
   "execution_count": 4,
   "metadata": {},
   "outputs": [
    {
     "name": "stdout",
     "output_type": "stream",
     "text": [
      "Requirement already satisfied: protobuf in c:\\users\\ziyad\\anaconda3\\envs\\nlp\\lib\\site-packages (4.24.3)\n",
      "Note: you may need to restart the kernel to use updated packages.\n"
     ]
    },
    {
     "name": "stderr",
     "output_type": "stream",
     "text": [
      "WARNING: Ignoring invalid distribution -rotobuf (c:\\users\\ziyad\\anaconda3\\envs\\nlp\\lib\\site-packages)\n",
      "WARNING: Error parsing requirements for soupsieve: [Errno 2] No such file or directory: 'c:\\\\users\\\\ziyad\\\\anaconda3\\\\envs\\\\nlp\\\\lib\\\\site-packages\\\\soupsieve-2.3.2.post1.dist-info\\\\METADATA'\n",
      "WARNING: Ignoring invalid distribution -rotobuf (c:\\users\\ziyad\\anaconda3\\envs\\nlp\\lib\\site-packages)\n",
      "WARNING: Ignoring invalid distribution -rotobuf (c:\\users\\ziyad\\anaconda3\\envs\\nlp\\lib\\site-packages)\n",
      "WARNING: Error parsing requirements for soupsieve: [Errno 2] No such file or directory: 'c:\\\\users\\\\ziyad\\\\anaconda3\\\\envs\\\\nlp\\\\lib\\\\site-packages\\\\soupsieve-2.3.2.post1.dist-info\\\\METADATA'\n",
      "WARNING: Ignoring invalid distribution -rotobuf (c:\\users\\ziyad\\anaconda3\\envs\\nlp\\lib\\site-packages)\n",
      "ERROR: pip's dependency resolver does not currently take into account all the packages that are installed. This behaviour is the source of the following dependency conflicts.\n",
      "tensorboard 2.10.1 requires protobuf<3.20,>=3.9.2, but you have protobuf 4.24.3 which is incompatible.\n",
      "tensorflow 2.10.1 requires protobuf<3.20,>=3.9.2, but you have protobuf 4.24.3 which is incompatible.\n"
     ]
    },
    {
     "name": "stdout",
     "output_type": "stream",
     "text": [
      "Requirement already satisfied: google-auth in c:\\users\\ziyad\\anaconda3\\envs\\nlp\\lib\\site-packages (2.22.0)\n",
      "Collecting google-auth\n",
      "  Obtaining dependency information for google-auth from https://files.pythonhosted.org/packages/9d/44/5a992cb9d7bf8aaae73bc5adaf721ad08731c9d00c1c17999a8691404b0c/google_auth-2.23.0-py2.py3-none-any.whl.metadata\n",
      "  Using cached google_auth-2.23.0-py2.py3-none-any.whl.metadata (4.2 kB)\n",
      "Requirement already satisfied: cachetools<6.0,>=2.0.0 in c:\\users\\ziyad\\anaconda3\\envs\\nlp\\lib\\site-packages (from google-auth) (4.2.2)\n",
      "Requirement already satisfied: pyasn1-modules>=0.2.1 in c:\\users\\ziyad\\anaconda3\\envs\\nlp\\lib\\site-packages (from google-auth) (0.2.8)\n",
      "Requirement already satisfied: rsa<5,>=3.1.4 in c:\\users\\ziyad\\anaconda3\\envs\\nlp\\lib\\site-packages (from google-auth) (4.7.2)\n",
      "Requirement already satisfied: urllib3<2.0 in c:\\users\\ziyad\\anaconda3\\envs\\nlp\\lib\\site-packages (from google-auth) (1.26.16)\n",
      "Requirement already satisfied: pyasn1<0.5.0,>=0.4.6 in c:\\users\\ziyad\\anaconda3\\envs\\nlp\\lib\\site-packages (from pyasn1-modules>=0.2.1->google-auth) (0.4.8)\n",
      "Using cached google_auth-2.23.0-py2.py3-none-any.whl (181 kB)\n",
      "Installing collected packages: google-auth\n",
      "  Attempting uninstall: google-auth\n",
      "    Found existing installation: google-auth 2.22.0\n",
      "    Uninstalling google-auth-2.22.0:\n",
      "      Successfully uninstalled google-auth-2.22.0\n",
      "Successfully installed google-auth-2.23.0\n",
      "Note: you may need to restart the kernel to use updated packages.\n"
     ]
    },
    {
     "data": {
      "application/vnd.jupyter.widget-view+json": {
       "model_id": "ec07d9007b9e4c968b14a535d2dbcad8",
       "version_major": 2,
       "version_minor": 0
      },
      "text/plain": [
       "Downloading:   0%|          | 0.00/15.3k [00:00<?, ?B/s]"
      ]
     },
     "metadata": {},
     "output_type": "display_data"
    },
    {
     "data": {
      "application/vnd.jupyter.widget-view+json": {
       "model_id": "6747dbef3f7d4ee1ab8f75fff9ee5955",
       "version_major": 2,
       "version_minor": 0
      },
      "text/plain": [
       "Downloading:   0%|          | 0.00/20.3G [00:00<?, ?B/s]"
      ]
     },
     "metadata": {},
     "output_type": "display_data"
    },
    {
     "ename": "AttributeError",
     "evalue": "module 'google.protobuf.internal.api_implementation' has no attribute '_c_module'",
     "output_type": "error",
     "traceback": [
      "\u001b[1;31m---------------------------------------------------------------------------\u001b[0m",
      "\u001b[1;31mAttributeError\u001b[0m                            Traceback (most recent call last)",
      "\u001b[1;32mc:\\Users\\ZIYAD\\Desktop\\pfe\\test6wiki.ipynb Cell 4\u001b[0m line \u001b[0;36m5\n\u001b[0;32m      <a href='vscode-notebook-cell:/c%3A/Users/ZIYAD/Desktop/pfe/test6wiki.ipynb#W4sZmlsZQ%3D%3D?line=2'>3</a>\u001b[0m get_ipython()\u001b[39m.\u001b[39mrun_line_magic(\u001b[39m'\u001b[39m\u001b[39mpip\u001b[39m\u001b[39m'\u001b[39m, \u001b[39m'\u001b[39m\u001b[39minstall --upgrade protobuf\u001b[39m\u001b[39m'\u001b[39m)\n\u001b[0;32m      <a href='vscode-notebook-cell:/c%3A/Users/ZIYAD/Desktop/pfe/test6wiki.ipynb#W4sZmlsZQ%3D%3D?line=3'>4</a>\u001b[0m get_ipython()\u001b[39m.\u001b[39mrun_line_magic(\u001b[39m'\u001b[39m\u001b[39mpip\u001b[39m\u001b[39m'\u001b[39m, \u001b[39m'\u001b[39m\u001b[39minstall --upgrade google-auth\u001b[39m\u001b[39m'\u001b[39m)\n\u001b[1;32m----> <a href='vscode-notebook-cell:/c%3A/Users/ZIYAD/Desktop/pfe/test6wiki.ipynb#W4sZmlsZQ%3D%3D?line=4'>5</a>\u001b[0m data\u001b[39m=\u001b[39mload_dataset(\u001b[39m\"\u001b[39;49m\u001b[39mwikipedia\u001b[39;49m\u001b[39m\"\u001b[39;49m, \u001b[39m\"\u001b[39;49m\u001b[39m20220301.en\u001b[39;49m\u001b[39m\"\u001b[39;49m)\n",
      "File \u001b[1;32mc:\\Users\\ZIYAD\\anaconda3\\envs\\nlp\\lib\\site-packages\\datasets\\load.py:2153\u001b[0m, in \u001b[0;36mload_dataset\u001b[1;34m(path, name, data_dir, data_files, split, cache_dir, features, download_config, download_mode, verification_mode, ignore_verifications, keep_in_memory, save_infos, revision, token, use_auth_token, task, streaming, num_proc, storage_options, **config_kwargs)\u001b[0m\n\u001b[0;32m   2150\u001b[0m try_from_hf_gcs \u001b[39m=\u001b[39m path \u001b[39mnot\u001b[39;00m \u001b[39min\u001b[39;00m _PACKAGED_DATASETS_MODULES\n\u001b[0;32m   2152\u001b[0m \u001b[39m# Download and prepare data\u001b[39;00m\n\u001b[1;32m-> 2153\u001b[0m builder_instance\u001b[39m.\u001b[39;49mdownload_and_prepare(\n\u001b[0;32m   2154\u001b[0m     download_config\u001b[39m=\u001b[39;49mdownload_config,\n\u001b[0;32m   2155\u001b[0m     download_mode\u001b[39m=\u001b[39;49mdownload_mode,\n\u001b[0;32m   2156\u001b[0m     verification_mode\u001b[39m=\u001b[39;49mverification_mode,\n\u001b[0;32m   2157\u001b[0m     try_from_hf_gcs\u001b[39m=\u001b[39;49mtry_from_hf_gcs,\n\u001b[0;32m   2158\u001b[0m     num_proc\u001b[39m=\u001b[39;49mnum_proc,\n\u001b[0;32m   2159\u001b[0m     storage_options\u001b[39m=\u001b[39;49mstorage_options,\n\u001b[0;32m   2160\u001b[0m )\n\u001b[0;32m   2162\u001b[0m \u001b[39m# Build dataset for splits\u001b[39;00m\n\u001b[0;32m   2163\u001b[0m keep_in_memory \u001b[39m=\u001b[39m (\n\u001b[0;32m   2164\u001b[0m     keep_in_memory \u001b[39mif\u001b[39;00m keep_in_memory \u001b[39mis\u001b[39;00m \u001b[39mnot\u001b[39;00m \u001b[39mNone\u001b[39;00m \u001b[39melse\u001b[39;00m is_small_dataset(builder_instance\u001b[39m.\u001b[39minfo\u001b[39m.\u001b[39mdataset_size)\n\u001b[0;32m   2165\u001b[0m )\n",
      "File \u001b[1;32mc:\\Users\\ZIYAD\\anaconda3\\envs\\nlp\\lib\\site-packages\\datasets\\builder.py:965\u001b[0m, in \u001b[0;36mDatasetBuilder.download_and_prepare\u001b[1;34m(self, output_dir, download_config, download_mode, verification_mode, ignore_verifications, try_from_hf_gcs, dl_manager, base_path, use_auth_token, file_format, max_shard_size, num_proc, storage_options, **download_and_prepare_kwargs)\u001b[0m\n\u001b[0;32m    963\u001b[0m         \u001b[39mself\u001b[39m\u001b[39m.\u001b[39minfo\u001b[39m.\u001b[39msize_in_bytes \u001b[39m=\u001b[39m \u001b[39mself\u001b[39m\u001b[39m.\u001b[39minfo\u001b[39m.\u001b[39mdataset_size \u001b[39m+\u001b[39m \u001b[39mself\u001b[39m\u001b[39m.\u001b[39minfo\u001b[39m.\u001b[39mdownload_size\n\u001b[0;32m    964\u001b[0m         \u001b[39m# Save info\u001b[39;00m\n\u001b[1;32m--> 965\u001b[0m         \u001b[39mself\u001b[39;49m\u001b[39m.\u001b[39;49m_save_info()\n\u001b[0;32m    967\u001b[0m \u001b[39m# Download post processing resources\u001b[39;00m\n\u001b[0;32m    968\u001b[0m \u001b[39mself\u001b[39m\u001b[39m.\u001b[39mdownload_post_processing_resources(dl_manager)\n",
      "File \u001b[1;32mc:\\Users\\ZIYAD\\anaconda3\\envs\\nlp\\lib\\site-packages\\datasets\\builder.py:2102\u001b[0m, in \u001b[0;36mBeamBasedBuilder._save_info\u001b[1;34m(self)\u001b[0m\n\u001b[0;32m   2101\u001b[0m \u001b[39mdef\u001b[39;00m \u001b[39m_save_info\u001b[39m(\u001b[39mself\u001b[39m):\n\u001b[1;32m-> 2102\u001b[0m     \u001b[39mimport\u001b[39;00m \u001b[39mapache_beam\u001b[39;00m \u001b[39mas\u001b[39;00m \u001b[39mbeam\u001b[39;00m\n\u001b[0;32m   2104\u001b[0m     fs \u001b[39m=\u001b[39m beam\u001b[39m.\u001b[39mio\u001b[39m.\u001b[39mfilesystems\u001b[39m.\u001b[39mFileSystems\n\u001b[0;32m   2105\u001b[0m     path_join \u001b[39m=\u001b[39m os\u001b[39m.\u001b[39mpath\u001b[39m.\u001b[39mjoin \u001b[39mif\u001b[39;00m \u001b[39mnot\u001b[39;00m is_remote_filesystem(\u001b[39mself\u001b[39m\u001b[39m.\u001b[39m_fs) \u001b[39melse\u001b[39;00m posixpath\u001b[39m.\u001b[39mjoin\n",
      "File \u001b[1;32mc:\\Users\\ZIYAD\\anaconda3\\envs\\nlp\\lib\\site-packages\\apache_beam\\__init__.py:87\u001b[0m\n\u001b[0;32m     84\u001b[0m \u001b[39m# pylint: disable=wrong-import-position\u001b[39;00m\n\u001b[0;32m     85\u001b[0m \u001b[39mimport\u001b[39;00m \u001b[39mapache_beam\u001b[39;00m\u001b[39m.\u001b[39;00m\u001b[39minternal\u001b[39;00m\u001b[39m.\u001b[39;00m\u001b[39mpickler\u001b[39;00m\n\u001b[1;32m---> 87\u001b[0m \u001b[39mfrom\u001b[39;00m \u001b[39mapache_beam\u001b[39;00m \u001b[39mimport\u001b[39;00m coders\n\u001b[0;32m     88\u001b[0m \u001b[39mfrom\u001b[39;00m \u001b[39mapache_beam\u001b[39;00m \u001b[39mimport\u001b[39;00m io\n\u001b[0;32m     89\u001b[0m \u001b[39mfrom\u001b[39;00m \u001b[39mapache_beam\u001b[39;00m \u001b[39mimport\u001b[39;00m metrics\n",
      "File \u001b[1;32mc:\\Users\\ZIYAD\\anaconda3\\envs\\nlp\\lib\\site-packages\\apache_beam\\coders\\__init__.py:17\u001b[0m\n\u001b[0;32m      1\u001b[0m \u001b[39m#\u001b[39;00m\n\u001b[0;32m      2\u001b[0m \u001b[39m# Licensed to the Apache Software Foundation (ASF) under one or more\u001b[39;00m\n\u001b[0;32m      3\u001b[0m \u001b[39m# contributor license agreements.  See the NOTICE file distributed with\u001b[39;00m\n\u001b[1;32m   (...)\u001b[0m\n\u001b[0;32m     15\u001b[0m \u001b[39m# limitations under the License.\u001b[39;00m\n\u001b[0;32m     16\u001b[0m \u001b[39m#\u001b[39;00m\n\u001b[1;32m---> 17\u001b[0m \u001b[39mfrom\u001b[39;00m \u001b[39mapache_beam\u001b[39;00m\u001b[39m.\u001b[39;00m\u001b[39mcoders\u001b[39;00m\u001b[39m.\u001b[39;00m\u001b[39mcoders\u001b[39;00m \u001b[39mimport\u001b[39;00m \u001b[39m*\u001b[39m\n\u001b[0;32m     18\u001b[0m \u001b[39mfrom\u001b[39;00m \u001b[39mapache_beam\u001b[39;00m\u001b[39m.\u001b[39;00m\u001b[39mcoders\u001b[39;00m\u001b[39m.\u001b[39;00m\u001b[39mrow_coder\u001b[39;00m \u001b[39mimport\u001b[39;00m \u001b[39m*\u001b[39m\n\u001b[0;32m     19\u001b[0m \u001b[39mfrom\u001b[39;00m \u001b[39mapache_beam\u001b[39;00m\u001b[39m.\u001b[39;00m\u001b[39mcoders\u001b[39;00m\u001b[39m.\u001b[39;00m\u001b[39mtypecoders\u001b[39;00m \u001b[39mimport\u001b[39;00m registry\n",
      "File \u001b[1;32mc:\\Users\\ZIYAD\\anaconda3\\envs\\nlp\\lib\\site-packages\\apache_beam\\coders\\coders.py:59\u001b[0m\n\u001b[0;32m     56\u001b[0m \u001b[39mimport\u001b[39;00m \u001b[39mgoogle\u001b[39;00m\u001b[39m.\u001b[39;00m\u001b[39mprotobuf\u001b[39;00m\u001b[39m.\u001b[39;00m\u001b[39mwrappers_pb2\u001b[39;00m\n\u001b[0;32m     57\u001b[0m \u001b[39mimport\u001b[39;00m \u001b[39mproto\u001b[39;00m\n\u001b[1;32m---> 59\u001b[0m \u001b[39mfrom\u001b[39;00m \u001b[39mapache_beam\u001b[39;00m\u001b[39m.\u001b[39;00m\u001b[39mcoders\u001b[39;00m \u001b[39mimport\u001b[39;00m coder_impl\n\u001b[0;32m     60\u001b[0m \u001b[39mfrom\u001b[39;00m \u001b[39mapache_beam\u001b[39;00m\u001b[39m.\u001b[39;00m\u001b[39mcoders\u001b[39;00m\u001b[39m.\u001b[39;00m\u001b[39mavro_record\u001b[39;00m \u001b[39mimport\u001b[39;00m AvroRecord\n\u001b[0;32m     61\u001b[0m \u001b[39mfrom\u001b[39;00m \u001b[39mapache_beam\u001b[39;00m\u001b[39m.\u001b[39;00m\u001b[39mportability\u001b[39;00m \u001b[39mimport\u001b[39;00m common_urns\n",
      "File \u001b[1;32mc:\\Users\\ZIYAD\\anaconda3\\envs\\nlp\\lib\\site-packages\\apache_beam\\coders\\coder_impl.py:1\u001b[0m, in \u001b[0;36minit apache_beam.coders.coder_impl\u001b[1;34m()\u001b[0m\n",
      "File \u001b[1;32mc:\\Users\\ZIYAD\\anaconda3\\envs\\nlp\\lib\\site-packages\\apache_beam\\utils\\windowed_value.py:40\u001b[0m, in \u001b[0;36minit apache_beam.utils.windowed_value\u001b[1;34m()\u001b[0m\n",
      "File \u001b[1;32mc:\\Users\\ZIYAD\\anaconda3\\envs\\nlp\\lib\\site-packages\\apache_beam\\utils\\timestamp.py:36\u001b[0m\n\u001b[0;32m     33\u001b[0m \u001b[39mfrom\u001b[39;00m \u001b[39mgoogle\u001b[39;00m\u001b[39m.\u001b[39;00m\u001b[39mprotobuf\u001b[39;00m \u001b[39mimport\u001b[39;00m duration_pb2\n\u001b[0;32m     34\u001b[0m \u001b[39mfrom\u001b[39;00m \u001b[39mgoogle\u001b[39;00m\u001b[39m.\u001b[39;00m\u001b[39mprotobuf\u001b[39;00m \u001b[39mimport\u001b[39;00m timestamp_pb2\n\u001b[1;32m---> 36\u001b[0m \u001b[39mfrom\u001b[39;00m \u001b[39mapache_beam\u001b[39;00m\u001b[39m.\u001b[39;00m\u001b[39mportability\u001b[39;00m \u001b[39mimport\u001b[39;00m common_urns\n\u001b[0;32m     38\u001b[0m \u001b[39m# types compatible with Timestamp.of()\u001b[39;00m\n\u001b[0;32m     39\u001b[0m TimestampTypes \u001b[39m=\u001b[39m Union[\u001b[39mint\u001b[39m, \u001b[39mfloat\u001b[39m, \u001b[39m'\u001b[39m\u001b[39mTimestamp\u001b[39m\u001b[39m'\u001b[39m]\n",
      "File \u001b[1;32mc:\\Users\\ZIYAD\\anaconda3\\envs\\nlp\\lib\\site-packages\\apache_beam\\portability\\common_urns.py:22\u001b[0m\n\u001b[0;32m     18\u001b[0m \u001b[39m\"\"\" Accessors for URNs of common Beam entities. \"\"\"\u001b[39;00m\n\u001b[0;32m     20\u001b[0m \u001b[39m# pytype: skip-file\u001b[39;00m\n\u001b[1;32m---> 22\u001b[0m \u001b[39mfrom\u001b[39;00m \u001b[39m.\u001b[39;00m\u001b[39mapi\u001b[39;00m \u001b[39mimport\u001b[39;00m beam_runner_api_pb2_urns\n\u001b[0;32m     23\u001b[0m \u001b[39mfrom\u001b[39;00m \u001b[39m.\u001b[39;00m\u001b[39mapi\u001b[39;00m \u001b[39mimport\u001b[39;00m external_transforms_pb2_urns\n\u001b[0;32m     24\u001b[0m \u001b[39mfrom\u001b[39;00m \u001b[39m.\u001b[39;00m\u001b[39mapi\u001b[39;00m \u001b[39mimport\u001b[39;00m metrics_pb2_urns\n",
      "File \u001b[1;32mc:\\Users\\ZIYAD\\anaconda3\\envs\\nlp\\lib\\site-packages\\apache_beam\\portability\\api\\__init__.py:21\u001b[0m\n\u001b[0;32m      1\u001b[0m \u001b[39m#\u001b[39;00m\n\u001b[0;32m      2\u001b[0m \u001b[39m# Licensed to the Apache Software Foundation (ASF) under one or more\u001b[39;00m\n\u001b[0;32m      3\u001b[0m \u001b[39m# contributor license agreements.  See the NOTICE file distributed with\u001b[39;00m\n\u001b[1;32m   (...)\u001b[0m\n\u001b[0;32m     15\u001b[0m \u001b[39m# limitations under the License.\u001b[39;00m\n\u001b[0;32m     16\u001b[0m \u001b[39m#\u001b[39;00m\n\u001b[0;32m     17\u001b[0m \u001b[39m\"\"\"\u001b[39;00m\n\u001b[0;32m     18\u001b[0m \u001b[39mFor internal use only; no backwards-compatibility guarantees.\u001b[39;00m\n\u001b[0;32m     19\u001b[0m \u001b[39mAutomatically generated when running setup.py sdist or build[_py].\u001b[39;00m\n\u001b[0;32m     20\u001b[0m \u001b[39m\"\"\"\u001b[39;00m\n\u001b[1;32m---> 21\u001b[0m \u001b[39mfrom\u001b[39;00m \u001b[39m.\u001b[39;00m\u001b[39morg\u001b[39;00m\u001b[39m.\u001b[39;00m\u001b[39mapache\u001b[39;00m\u001b[39m.\u001b[39;00m\u001b[39mbeam\u001b[39;00m\u001b[39m.\u001b[39;00m\u001b[39mmodel\u001b[39;00m\u001b[39m.\u001b[39;00m\u001b[39minteractive\u001b[39;00m \u001b[39mimport\u001b[39;00m v1\n\u001b[0;32m     22\u001b[0m \u001b[39mfrom\u001b[39;00m \u001b[39m.\u001b[39;00m\u001b[39morg\u001b[39;00m\u001b[39m.\u001b[39;00m\u001b[39mapache\u001b[39;00m\u001b[39m.\u001b[39;00m\u001b[39mbeam\u001b[39;00m\u001b[39m.\u001b[39;00m\u001b[39mmodel\u001b[39;00m\u001b[39m.\u001b[39;00m\u001b[39mjob_management\u001b[39;00m \u001b[39mimport\u001b[39;00m v1 \u001b[39mas\u001b[39;00m v1_2\n\u001b[0;32m     23\u001b[0m \u001b[39mfrom\u001b[39;00m \u001b[39m.\u001b[39;00m\u001b[39morg\u001b[39;00m\u001b[39m.\u001b[39;00m\u001b[39mapache\u001b[39;00m\u001b[39m.\u001b[39;00m\u001b[39mbeam\u001b[39;00m\u001b[39m.\u001b[39;00m\u001b[39mmodel\u001b[39;00m\u001b[39m.\u001b[39;00m\u001b[39mpipeline\u001b[39;00m \u001b[39mimport\u001b[39;00m v1 \u001b[39mas\u001b[39;00m v1_3\n",
      "File \u001b[1;32mc:\\Users\\ZIYAD\\anaconda3\\envs\\nlp\\lib\\site-packages\\apache_beam\\portability\\api\\org\\apache\\beam\\model\\interactive\\v1\\__init__.py:18\u001b[0m\n\u001b[0;32m      1\u001b[0m \u001b[39m#\u001b[39;00m\n\u001b[0;32m      2\u001b[0m \u001b[39m# Licensed to the Apache Software Foundation (ASF) under one or more\u001b[39;00m\n\u001b[0;32m      3\u001b[0m \u001b[39m# contributor license agreements.  See the NOTICE file distributed with\u001b[39;00m\n\u001b[1;32m   (...)\u001b[0m\n\u001b[0;32m     15\u001b[0m \u001b[39m# limitations under the License.\u001b[39;00m\n\u001b[0;32m     16\u001b[0m \u001b[39m#\u001b[39;00m\n\u001b[0;32m     17\u001b[0m \u001b[39mfrom\u001b[39;00m \u001b[39m.\u001b[39;00m \u001b[39mimport\u001b[39;00m beam_interactive_api_pb2_grpc\n\u001b[1;32m---> 18\u001b[0m \u001b[39mfrom\u001b[39;00m \u001b[39m.\u001b[39;00m \u001b[39mimport\u001b[39;00m beam_interactive_api_pb2\n",
      "File \u001b[1;32mc:\\Users\\ZIYAD\\anaconda3\\envs\\nlp\\lib\\site-packages\\apache_beam\\portability\\api\\org\\apache\\beam\\model\\interactive\\v1\\beam_interactive_api_pb2.py:5\u001b[0m\n\u001b[0;32m      1\u001b[0m \u001b[39m# -*- coding: utf-8 -*-\u001b[39;00m\n\u001b[0;32m      2\u001b[0m \u001b[39m# Generated by the protocol buffer compiler.  DO NOT EDIT!\u001b[39;00m\n\u001b[0;32m      3\u001b[0m \u001b[39m# source: org/apache/beam/model/interactive/v1/beam_interactive_api.proto\u001b[39;00m\n\u001b[0;32m      4\u001b[0m \u001b[39m\"\"\"Generated protocol buffer code.\"\"\"\u001b[39;00m\n\u001b[1;32m----> 5\u001b[0m \u001b[39mfrom\u001b[39;00m \u001b[39mgoogle\u001b[39;00m\u001b[39m.\u001b[39;00m\u001b[39mprotobuf\u001b[39;00m\u001b[39m.\u001b[39;00m\u001b[39minternal\u001b[39;00m \u001b[39mimport\u001b[39;00m builder \u001b[39mas\u001b[39;00m _builder\n\u001b[0;32m      6\u001b[0m \u001b[39mfrom\u001b[39;00m \u001b[39mgoogle\u001b[39;00m\u001b[39m.\u001b[39;00m\u001b[39mprotobuf\u001b[39;00m \u001b[39mimport\u001b[39;00m descriptor \u001b[39mas\u001b[39;00m _descriptor\n\u001b[0;32m      7\u001b[0m \u001b[39mfrom\u001b[39;00m \u001b[39mgoogle\u001b[39;00m\u001b[39m.\u001b[39;00m\u001b[39mprotobuf\u001b[39;00m \u001b[39mimport\u001b[39;00m descriptor_pool \u001b[39mas\u001b[39;00m _descriptor_pool\n",
      "File \u001b[1;32mc:\\Users\\ZIYAD\\anaconda3\\envs\\nlp\\lib\\site-packages\\google\\protobuf\\internal\\builder.py:41\u001b[0m\n\u001b[0;32m     38\u001b[0m __author__ \u001b[39m=\u001b[39m \u001b[39m'\u001b[39m\u001b[39mjieluo@google.com (Jie Luo)\u001b[39m\u001b[39m'\u001b[39m\n\u001b[0;32m     40\u001b[0m \u001b[39mfrom\u001b[39;00m \u001b[39mgoogle\u001b[39;00m\u001b[39m.\u001b[39;00m\u001b[39mprotobuf\u001b[39;00m\u001b[39m.\u001b[39;00m\u001b[39minternal\u001b[39;00m \u001b[39mimport\u001b[39;00m enum_type_wrapper\n\u001b[1;32m---> 41\u001b[0m \u001b[39mfrom\u001b[39;00m \u001b[39mgoogle\u001b[39;00m\u001b[39m.\u001b[39;00m\u001b[39mprotobuf\u001b[39;00m\u001b[39m.\u001b[39;00m\u001b[39minternal\u001b[39;00m \u001b[39mimport\u001b[39;00m python_message\n\u001b[0;32m     42\u001b[0m \u001b[39mfrom\u001b[39;00m \u001b[39mgoogle\u001b[39;00m\u001b[39m.\u001b[39;00m\u001b[39mprotobuf\u001b[39;00m \u001b[39mimport\u001b[39;00m message \u001b[39mas\u001b[39;00m _message\n\u001b[0;32m     43\u001b[0m \u001b[39mfrom\u001b[39;00m \u001b[39mgoogle\u001b[39;00m\u001b[39m.\u001b[39;00m\u001b[39mprotobuf\u001b[39;00m \u001b[39mimport\u001b[39;00m reflection \u001b[39mas\u001b[39;00m _reflection\n",
      "File \u001b[1;32mc:\\Users\\ZIYAD\\anaconda3\\envs\\nlp\\lib\\site-packages\\google\\protobuf\\internal\\python_message.py:71\u001b[0m\n\u001b[0;32m     69\u001b[0m \u001b[39mfrom\u001b[39;00m \u001b[39mgoogle\u001b[39;00m\u001b[39m.\u001b[39;00m\u001b[39mprotobuf\u001b[39;00m \u001b[39mimport\u001b[39;00m descriptor \u001b[39mas\u001b[39;00m descriptor_mod\n\u001b[0;32m     70\u001b[0m \u001b[39mfrom\u001b[39;00m \u001b[39mgoogle\u001b[39;00m\u001b[39m.\u001b[39;00m\u001b[39mprotobuf\u001b[39;00m \u001b[39mimport\u001b[39;00m message \u001b[39mas\u001b[39;00m message_mod\n\u001b[1;32m---> 71\u001b[0m \u001b[39mfrom\u001b[39;00m \u001b[39mgoogle\u001b[39;00m\u001b[39m.\u001b[39;00m\u001b[39mprotobuf\u001b[39;00m \u001b[39mimport\u001b[39;00m text_format\n\u001b[0;32m     73\u001b[0m _FieldDescriptor \u001b[39m=\u001b[39m descriptor_mod\u001b[39m.\u001b[39mFieldDescriptor\n\u001b[0;32m     74\u001b[0m _AnyFullTypeName \u001b[39m=\u001b[39m \u001b[39m'\u001b[39m\u001b[39mgoogle.protobuf.Any\u001b[39m\u001b[39m'\u001b[39m\n",
      "File \u001b[1;32mc:\\Users\\ZIYAD\\anaconda3\\envs\\nlp\\lib\\site-packages\\google\\protobuf\\text_format.py:56\u001b[0m\n\u001b[0;32m     54\u001b[0m \u001b[39mfrom\u001b[39;00m \u001b[39mgoogle\u001b[39;00m\u001b[39m.\u001b[39;00m\u001b[39mprotobuf\u001b[39;00m \u001b[39mimport\u001b[39;00m descriptor\n\u001b[0;32m     55\u001b[0m \u001b[39mfrom\u001b[39;00m \u001b[39mgoogle\u001b[39;00m\u001b[39m.\u001b[39;00m\u001b[39mprotobuf\u001b[39;00m \u001b[39mimport\u001b[39;00m text_encoding\n\u001b[1;32m---> 56\u001b[0m \u001b[39mfrom\u001b[39;00m \u001b[39mgoogle\u001b[39;00m\u001b[39m.\u001b[39;00m\u001b[39mprotobuf\u001b[39;00m \u001b[39mimport\u001b[39;00m unknown_fields\n\u001b[0;32m     58\u001b[0m \u001b[39m# pylint: disable=g-import-not-at-top\u001b[39;00m\n\u001b[0;32m     59\u001b[0m __all__ \u001b[39m=\u001b[39m [\u001b[39m'\u001b[39m\u001b[39mMessageToString\u001b[39m\u001b[39m'\u001b[39m, \u001b[39m'\u001b[39m\u001b[39mParse\u001b[39m\u001b[39m'\u001b[39m, \u001b[39m'\u001b[39m\u001b[39mPrintMessage\u001b[39m\u001b[39m'\u001b[39m, \u001b[39m'\u001b[39m\u001b[39mPrintField\u001b[39m\u001b[39m'\u001b[39m,\n\u001b[0;32m     60\u001b[0m            \u001b[39m'\u001b[39m\u001b[39mPrintFieldValue\u001b[39m\u001b[39m'\u001b[39m, \u001b[39m'\u001b[39m\u001b[39mMerge\u001b[39m\u001b[39m'\u001b[39m, \u001b[39m'\u001b[39m\u001b[39mMessageToBytes\u001b[39m\u001b[39m'\u001b[39m]\n",
      "File \u001b[1;32mc:\\Users\\ZIYAD\\anaconda3\\envs\\nlp\\lib\\site-packages\\google\\protobuf\\unknown_fields.py:44\u001b[0m\n\u001b[0;32m     31\u001b[0m \u001b[39m\"\"\"Contains Unknown Fields APIs.\u001b[39;00m\n\u001b[0;32m     32\u001b[0m \n\u001b[0;32m     33\u001b[0m \u001b[39mSimple usage example:\u001b[39;00m\n\u001b[1;32m   (...)\u001b[0m\n\u001b[0;32m     38\u001b[0m \u001b[39m    data = unknown_field.data\u001b[39;00m\n\u001b[0;32m     39\u001b[0m \u001b[39m\"\"\"\u001b[39;00m\n\u001b[0;32m     42\u001b[0m \u001b[39mfrom\u001b[39;00m \u001b[39mgoogle\u001b[39;00m\u001b[39m.\u001b[39;00m\u001b[39mprotobuf\u001b[39;00m\u001b[39m.\u001b[39;00m\u001b[39minternal\u001b[39;00m \u001b[39mimport\u001b[39;00m api_implementation\n\u001b[1;32m---> 44\u001b[0m \u001b[39mif\u001b[39;00m api_implementation\u001b[39m.\u001b[39;49m_c_module \u001b[39mis\u001b[39;00m \u001b[39mnot\u001b[39;00m \u001b[39mNone\u001b[39;00m:  \u001b[39m# pylint: disable=protected-access\u001b[39;00m\n\u001b[0;32m     45\u001b[0m   UnknownFieldSet \u001b[39m=\u001b[39m api_implementation\u001b[39m.\u001b[39m_c_module\u001b[39m.\u001b[39mUnknownFieldSet  \u001b[39m# pylint: disable=protected-access\u001b[39;00m\n\u001b[0;32m     46\u001b[0m \u001b[39melse\u001b[39;00m:\n",
      "\u001b[1;31mAttributeError\u001b[0m: module 'google.protobuf.internal.api_implementation' has no attribute '_c_module'"
     ]
    }
   ],
   "source": [
    "from datasets import load_dataset\n",
    "\n",
    "%pip install --upgrade protobuf\n",
    "%pip install --upgrade google-auth\n",
    "data=load_dataset(\"wikipedia\", \"20220301.en\")"
   ]
  },
  {
   "cell_type": "code",
   "execution_count": 5,
   "metadata": {},
   "outputs": [
    {
     "name": "stdout",
     "output_type": "stream",
     "text": [
      "^C\n",
      "Note: you may need to restart the kernel to use updated packages.\n",
      "Requirement already satisfied: pip in c:\\users\\ziyad\\anaconda3\\envs\\nlp\\lib\\site-packages (23.2.1)\n",
      "Note: you may need to restart the kernel to use updated packages.\n"
     ]
    },
    {
     "name": "stderr",
     "output_type": "stream",
     "text": [
      "WARNING: Ignoring invalid distribution -rotobuf (c:\\users\\ziyad\\anaconda3\\envs\\nlp\\lib\\site-packages)\n",
      "WARNING: Error parsing requirements for soupsieve: [Errno 2] No such file or directory: 'c:\\\\users\\\\ziyad\\\\anaconda3\\\\envs\\\\nlp\\\\lib\\\\site-packages\\\\soupsieve-2.3.2.post1.dist-info\\\\METADATA'\n",
      "WARNING: Ignoring invalid distribution -rotobuf (c:\\users\\ziyad\\anaconda3\\envs\\nlp\\lib\\site-packages)\n"
     ]
    },
    {
     "name": "stdout",
     "output_type": "stream",
     "text": [
      "Requirement already satisfied: protobuf in c:\\users\\ziyad\\anaconda3\\envs\\nlp\\lib\\site-packages (4.24.3)\n",
      "Note: you may need to restart the kernel to use updated packages.\n"
     ]
    },
    {
     "name": "stderr",
     "output_type": "stream",
     "text": [
      "WARNING: Ignoring invalid distribution -rotobuf (c:\\users\\ziyad\\anaconda3\\envs\\nlp\\lib\\site-packages)\n",
      "WARNING: Error parsing requirements for soupsieve: [Errno 2] No such file or directory: 'c:\\\\users\\\\ziyad\\\\anaconda3\\\\envs\\\\nlp\\\\lib\\\\site-packages\\\\soupsieve-2.3.2.post1.dist-info\\\\METADATA'\n",
      "WARNING: Ignoring invalid distribution -rotobuf (c:\\users\\ziyad\\anaconda3\\envs\\nlp\\lib\\site-packages)\n"
     ]
    }
   ],
   "source": [
    "%pip uninstall protobuf python3-protobuf\n",
    "%pip install --upgrade pip\n",
    "%pip install --upgrade protobuf"
   ]
  }
 ],
 "metadata": {
  "kernelspec": {
   "display_name": "nlp",
   "language": "python",
   "name": "python3"
  },
  "language_info": {
   "codemirror_mode": {
    "name": "ipython",
    "version": 3
   },
   "file_extension": ".py",
   "mimetype": "text/x-python",
   "name": "python",
   "nbconvert_exporter": "python",
   "pygments_lexer": "ipython3",
   "version": "3.9.18"
  },
  "orig_nbformat": 4
 },
 "nbformat": 4,
 "nbformat_minor": 2
}
